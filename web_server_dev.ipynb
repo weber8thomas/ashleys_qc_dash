{
 "cells": [
  {
   "cell_type": "code",
   "execution_count": 1,
   "metadata": {},
   "outputs": [],
   "source": [
    "import pandas as pd\n",
    "import os, sys\n",
    "import plotly.express as px\n",
    "import datetime\n",
    "import os\n",
    "from pathlib import Path\n",
    "import scipy"
   ]
  },
  {
   "cell_type": "code",
   "execution_count": 2,
   "metadata": {},
   "outputs": [
    {
     "data": {
      "text/plain": [
       "['PAPER', 'EVA_1511_H372MAFX5', 'EVA_1511_H33JMAFX5']"
      ]
     },
     "execution_count": 2,
     "metadata": {},
     "output_type": "execute_result"
    }
   ],
   "source": [
    "parent_directory = \"/scratch/tweber/DATA/WEB_SERVER_PIPELINE/\"\n",
    "os.listdir(parent_directory)"
   ]
  },
  {
   "cell_type": "code",
   "execution_count": 3,
   "metadata": {},
   "outputs": [
    {
     "name": "stdout",
     "output_type": "stream",
     "text": [
      "Owner: tweber\n",
      "Group: korbel\n"
     ]
    }
   ],
   "source": [
    "from pathlib import Path\n",
    "whatever = Path(parent_directory)\n",
    "if whatever.exists():\n",
    "    print(\"Owner: %s\" % whatever.owner())\n",
    "    print(\"Group: %s\" % whatever.group())"
   ]
  },
  {
   "cell_type": "code",
   "execution_count": 4,
   "metadata": {},
   "outputs": [],
   "source": [
    "import datetime\n",
    "import os\n",
    "\n",
    "# # Path to the file\n",
    "# # path = r\"E:\\demos\\files_demos\\sample.txt\"\n",
    "\n",
    "# # file modification timestamp of a file\n",
    "# m_time = os.path.getmtime(path)\n",
    "# # convert timestamp into DateTime object\n",
    "# dt_m = datetime.datetime.fromtimestamp(m_time)\n",
    "# print('Modified on:', dt_m)\n",
    "\n",
    "# # file creation timestamp in float\n",
    "# c_time = os.path.getctime(path)\n",
    "# # convert creation timestamp into DateTime object\n",
    "# dt_c = datetime.datetime.fromtimestamp(c_time)\n",
    "# print('Created on:', dt_c)"
   ]
  },
  {
   "cell_type": "code",
   "execution_count": 5,
   "metadata": {},
   "outputs": [
    {
     "name": "stdout",
     "output_type": "stream",
     "text": [
      "/scratch/tweber/DATA/WEB_SERVER_PIPELINE/ PAPER RPE1-WT\n",
      "Owner: tweber\n",
      "Group: korbel\n",
      "Modified on: 2022-11-09\n",
      "Created on: 2022-11-09\n",
      "/scratch/tweber/DATA/WEB_SERVER_PIPELINE/ PAPER RPE-BM510\n",
      "Owner: tweber\n",
      "Group: korbel\n",
      "Modified on: 2022-11-09\n",
      "Created on: 2022-11-09\n",
      "/scratch/tweber/DATA/WEB_SERVER_PIPELINE/ PAPER LCL\n",
      "Owner: tweber\n",
      "Group: korbel\n",
      "Modified on: 2022-11-09\n",
      "Created on: 2022-11-09\n",
      "/scratch/tweber/DATA/WEB_SERVER_PIPELINE/ PAPER C7\n",
      "Owner: tweber\n",
      "Group: korbel\n",
      "Modified on: 2022-11-09\n",
      "Created on: 2022-11-09\n",
      "/scratch/tweber/DATA/WEB_SERVER_PIPELINE/ EVA_1511_H372MAFX5 RPE1BCL11A\n",
      "Owner: tweber\n",
      "Group: korbel\n",
      "Modified on: 2022-11-15\n",
      "Created on: 2022-11-15\n",
      "/scratch/tweber/DATA/WEB_SERVER_PIPELINE/ EVA_1511_H372MAFX5 PC7PC37PC39PC42\n",
      "Owner: tweber\n",
      "Group: korbel\n",
      "Modified on: 2022-11-18\n",
      "Created on: 2022-11-18\n",
      "/scratch/tweber/DATA/WEB_SERVER_PIPELINE/ EVA_1511_H33JMAFX5 HGSVCpool1xulOPxmanual\n",
      "Owner: tweber\n",
      "Group: korbel\n",
      "Modified on: 2022-11-15\n",
      "Created on: 2022-11-15\n",
      "/scratch/tweber/DATA/WEB_SERVER_PIPELINE/ EVA_1511_H33JMAFX5 KM1096\n",
      "Owner: tweber\n",
      "Group: korbel\n",
      "Modified on: 2022-11-15\n",
      "Created on: 2022-11-15\n",
      "/scratch/tweber/DATA/WEB_SERVER_PIPELINE/ EVA_1511_H33JMAFX5 HGSVCpool1xulOPxEcho\n",
      "Owner: tweber\n",
      "Group: korbel\n",
      "Modified on: 2022-11-15\n",
      "Created on: 2022-11-15\n"
     ]
    },
    {
     "name": "stderr",
     "output_type": "stream",
     "text": [
      "/tmp/ipykernel_2735793/1542398980.py:31: FutureWarning: The default value of regex will change from True to False in a future version.\n",
      "  labels_df[\"cell\"] = labels_df[\"cell\"].str.replace(\".sort.mdup.bam\", \"\")\n"
     ]
    },
    {
     "data": {
      "text/html": [
       "<div>\n",
       "<style scoped>\n",
       "    .dataframe tbody tr th:only-of-type {\n",
       "        vertical-align: middle;\n",
       "    }\n",
       "\n",
       "    .dataframe tbody tr th {\n",
       "        vertical-align: top;\n",
       "    }\n",
       "\n",
       "    .dataframe thead th {\n",
       "        text-align: right;\n",
       "    }\n",
       "</style>\n",
       "<table border=\"1\" class=\"dataframe\">\n",
       "  <thead>\n",
       "    <tr style=\"text-align: right;\">\n",
       "      <th></th>\n",
       "      <th>cell</th>\n",
       "      <th>prediction</th>\n",
       "      <th>probability</th>\n",
       "      <th>sample</th>\n",
       "      <th>owner</th>\n",
       "      <th>group</th>\n",
       "      <th>datetime_modified</th>\n",
       "      <th>datetime_creation</th>\n",
       "    </tr>\n",
       "  </thead>\n",
       "  <tbody>\n",
       "    <tr>\n",
       "      <th>0</th>\n",
       "      <td>RPE1WTPE20451</td>\n",
       "      <td>1</td>\n",
       "      <td>0.9726</td>\n",
       "      <td>RPE1-WT</td>\n",
       "      <td>tweber</td>\n",
       "      <td>korbel</td>\n",
       "      <td>2022-11-09</td>\n",
       "      <td>2022-11-09</td>\n",
       "    </tr>\n",
       "    <tr>\n",
       "      <th>1</th>\n",
       "      <td>RPE1WTPE20484</td>\n",
       "      <td>1</td>\n",
       "      <td>0.9783</td>\n",
       "      <td>RPE1-WT</td>\n",
       "      <td>tweber</td>\n",
       "      <td>korbel</td>\n",
       "      <td>2022-11-09</td>\n",
       "      <td>2022-11-09</td>\n",
       "    </tr>\n",
       "    <tr>\n",
       "      <th>2</th>\n",
       "      <td>RPE1WTPE20480</td>\n",
       "      <td>1</td>\n",
       "      <td>0.9685</td>\n",
       "      <td>RPE1-WT</td>\n",
       "      <td>tweber</td>\n",
       "      <td>korbel</td>\n",
       "      <td>2022-11-09</td>\n",
       "      <td>2022-11-09</td>\n",
       "    </tr>\n",
       "    <tr>\n",
       "      <th>3</th>\n",
       "      <td>RPE1WTPE20431</td>\n",
       "      <td>1</td>\n",
       "      <td>0.9697</td>\n",
       "      <td>RPE1-WT</td>\n",
       "      <td>tweber</td>\n",
       "      <td>korbel</td>\n",
       "      <td>2022-11-09</td>\n",
       "      <td>2022-11-09</td>\n",
       "    </tr>\n",
       "    <tr>\n",
       "      <th>4</th>\n",
       "      <td>RPE1WTPE20448</td>\n",
       "      <td>1</td>\n",
       "      <td>0.9843</td>\n",
       "      <td>RPE1-WT</td>\n",
       "      <td>tweber</td>\n",
       "      <td>korbel</td>\n",
       "      <td>2022-11-09</td>\n",
       "      <td>2022-11-09</td>\n",
       "    </tr>\n",
       "    <tr>\n",
       "      <th>...</th>\n",
       "      <td>...</td>\n",
       "      <td>...</td>\n",
       "      <td>...</td>\n",
       "      <td>...</td>\n",
       "      <td>...</td>\n",
       "      <td>...</td>\n",
       "      <td>...</td>\n",
       "      <td>...</td>\n",
       "    </tr>\n",
       "    <tr>\n",
       "      <th>856</th>\n",
       "      <td>HGSVCpool1xulOPxEchoPE20592</td>\n",
       "      <td>0</td>\n",
       "      <td>0.0000</td>\n",
       "      <td>HGSVCpool1xulOPxEcho</td>\n",
       "      <td>tweber</td>\n",
       "      <td>korbel</td>\n",
       "      <td>2022-11-15</td>\n",
       "      <td>2022-11-15</td>\n",
       "    </tr>\n",
       "    <tr>\n",
       "      <th>857</th>\n",
       "      <td>HGSVCpool1xulOPxEchoPE20593</td>\n",
       "      <td>0</td>\n",
       "      <td>0.0000</td>\n",
       "      <td>HGSVCpool1xulOPxEcho</td>\n",
       "      <td>tweber</td>\n",
       "      <td>korbel</td>\n",
       "      <td>2022-11-15</td>\n",
       "      <td>2022-11-15</td>\n",
       "    </tr>\n",
       "    <tr>\n",
       "      <th>858</th>\n",
       "      <td>HGSVCpool1xulOPxEchoPE20594</td>\n",
       "      <td>0</td>\n",
       "      <td>0.0000</td>\n",
       "      <td>HGSVCpool1xulOPxEcho</td>\n",
       "      <td>tweber</td>\n",
       "      <td>korbel</td>\n",
       "      <td>2022-11-15</td>\n",
       "      <td>2022-11-15</td>\n",
       "    </tr>\n",
       "    <tr>\n",
       "      <th>859</th>\n",
       "      <td>HGSVCpool1xulOPxEchoPE20595</td>\n",
       "      <td>0</td>\n",
       "      <td>0.0000</td>\n",
       "      <td>HGSVCpool1xulOPxEcho</td>\n",
       "      <td>tweber</td>\n",
       "      <td>korbel</td>\n",
       "      <td>2022-11-15</td>\n",
       "      <td>2022-11-15</td>\n",
       "    </tr>\n",
       "    <tr>\n",
       "      <th>860</th>\n",
       "      <td>HGSVCpool1xulOPxEchoPE20596</td>\n",
       "      <td>0</td>\n",
       "      <td>0.0000</td>\n",
       "      <td>HGSVCpool1xulOPxEcho</td>\n",
       "      <td>tweber</td>\n",
       "      <td>korbel</td>\n",
       "      <td>2022-11-15</td>\n",
       "      <td>2022-11-15</td>\n",
       "    </tr>\n",
       "  </tbody>\n",
       "</table>\n",
       "<p>861 rows × 8 columns</p>\n",
       "</div>"
      ],
      "text/plain": [
       "                            cell  prediction  probability  \\\n",
       "0                  RPE1WTPE20451           1       0.9726   \n",
       "1                  RPE1WTPE20484           1       0.9783   \n",
       "2                  RPE1WTPE20480           1       0.9685   \n",
       "3                  RPE1WTPE20431           1       0.9697   \n",
       "4                  RPE1WTPE20448           1       0.9843   \n",
       "..                           ...         ...          ...   \n",
       "856  HGSVCpool1xulOPxEchoPE20592           0       0.0000   \n",
       "857  HGSVCpool1xulOPxEchoPE20593           0       0.0000   \n",
       "858  HGSVCpool1xulOPxEchoPE20594           0       0.0000   \n",
       "859  HGSVCpool1xulOPxEchoPE20595           0       0.0000   \n",
       "860  HGSVCpool1xulOPxEchoPE20596           0       0.0000   \n",
       "\n",
       "                   sample   owner   group datetime_modified datetime_creation  \n",
       "0                 RPE1-WT  tweber  korbel        2022-11-09        2022-11-09  \n",
       "1                 RPE1-WT  tweber  korbel        2022-11-09        2022-11-09  \n",
       "2                 RPE1-WT  tweber  korbel        2022-11-09        2022-11-09  \n",
       "3                 RPE1-WT  tweber  korbel        2022-11-09        2022-11-09  \n",
       "4                 RPE1-WT  tweber  korbel        2022-11-09        2022-11-09  \n",
       "..                    ...     ...     ...               ...               ...  \n",
       "856  HGSVCpool1xulOPxEcho  tweber  korbel        2022-11-15        2022-11-15  \n",
       "857  HGSVCpool1xulOPxEcho  tweber  korbel        2022-11-15        2022-11-15  \n",
       "858  HGSVCpool1xulOPxEcho  tweber  korbel        2022-11-15        2022-11-15  \n",
       "859  HGSVCpool1xulOPxEcho  tweber  korbel        2022-11-15        2022-11-15  \n",
       "860  HGSVCpool1xulOPxEcho  tweber  korbel        2022-11-15        2022-11-15  \n",
       "\n",
       "[861 rows x 8 columns]"
      ]
     },
     "execution_count": 5,
     "metadata": {},
     "output_type": "execute_result"
    }
   ],
   "source": [
    "l = list()\n",
    "for run in os.listdir(parent_directory):\n",
    "    for sample in os.listdir(parent_directory + run):\n",
    "        if sample not in [\"config\", \"log\"]: \n",
    "            file_path = parent_directory + run + \"/\" + sample + \"/cell_selection/labels.tsv\"\n",
    "            if os.path.isfile(file_path):\n",
    "                print(parent_directory, run, sample)\n",
    "                tmp_df = pd.read_csv(file_path, sep=\"\\t\")\n",
    "\n",
    "                print(\"Owner: %s\" % Path(file_path).owner())\n",
    "                print(\"Group: %s\" % Path(file_path).group())\n",
    "\n",
    "                # file modification timestamp of a file\n",
    "                m_time = os.path.getmtime(file_path)\n",
    "                # convert timestamp into DateTime object\n",
    "                dt_m = datetime.datetime.fromtimestamp(m_time).date()\n",
    "                print('Modified on:', dt_m)\n",
    "\n",
    "                # file creation timestamp in float\n",
    "                c_time = os.path.getctime(file_path)\n",
    "                # convert creation timestamp into DateTime object\n",
    "                dt_c = datetime.datetime.fromtimestamp(c_time).date()\n",
    "                print('Created on:', dt_c)\n",
    "                tmp_df[\"sample\"] = sample\n",
    "                tmp_df[\"owner\"] = Path(file_path).owner()\n",
    "                tmp_df[\"group\"] = Path(file_path).group()\n",
    "                tmp_df[\"datetime_modified\"] = dt_m\n",
    "                tmp_df[\"datetime_creation\"] = dt_c\n",
    "                l.append(tmp_df)\n",
    "labels_df = pd.concat(l).reset_index(drop=True)\n",
    "labels_df[\"cell\"] = labels_df[\"cell\"].str.replace(\".sort.mdup.bam\", \"\")\n",
    "labels_df"
   ]
  },
  {
   "cell_type": "code",
   "execution_count": 6,
   "metadata": {},
   "outputs": [
    {
     "name": "stdout",
     "output_type": "stream",
     "text": [
      "/scratch/tweber/DATA/WEB_SERVER_PIPELINE/ PAPER RPE1-WT\n",
      "/scratch/tweber/DATA/WEB_SERVER_PIPELINE/ PAPER RPE-BM510\n",
      "/scratch/tweber/DATA/WEB_SERVER_PIPELINE/ PAPER LCL\n",
      "/scratch/tweber/DATA/WEB_SERVER_PIPELINE/ PAPER C7\n",
      "/scratch/tweber/DATA/WEB_SERVER_PIPELINE/ EVA_1511_H372MAFX5 MRD48h\n",
      "/scratch/tweber/DATA/WEB_SERVER_PIPELINE/ EVA_1511_H372MAFX5 RPE1BCL11A\n",
      "/scratch/tweber/DATA/WEB_SERVER_PIPELINE/ EVA_1511_H372MAFX5 PC7PC37PC39PC42\n",
      "/scratch/tweber/DATA/WEB_SERVER_PIPELINE/ EVA_1511_H33JMAFX5 HGSVCpool1xulOPxmanual\n",
      "/scratch/tweber/DATA/WEB_SERVER_PIPELINE/ EVA_1511_H33JMAFX5 KM1096\n",
      "/scratch/tweber/DATA/WEB_SERVER_PIPELINE/ EVA_1511_H33JMAFX5 HGSVCpool1xulOPxEcho\n"
     ]
    },
    {
     "name": "stderr",
     "output_type": "stream",
     "text": [
      "/tmp/ipykernel_2735793/1935832951.py:11: FutureWarning: The default value of regex will change from True to False in a future version.\n",
      "  info_df[\"cell\"] = info_df[\"cell\"].str.replace(\".sort.mdup.bam\", \"\")\n"
     ]
    },
    {
     "data": {
      "text/html": [
       "<div>\n",
       "<style scoped>\n",
       "    .dataframe tbody tr th:only-of-type {\n",
       "        vertical-align: middle;\n",
       "    }\n",
       "\n",
       "    .dataframe tbody tr th {\n",
       "        vertical-align: top;\n",
       "    }\n",
       "\n",
       "    .dataframe thead th {\n",
       "        text-align: right;\n",
       "    }\n",
       "</style>\n",
       "<table border=\"1\" class=\"dataframe\">\n",
       "  <thead>\n",
       "    <tr style=\"text-align: right;\">\n",
       "      <th></th>\n",
       "      <th>sample</th>\n",
       "      <th>cell</th>\n",
       "      <th>medbin</th>\n",
       "      <th>mapped</th>\n",
       "      <th>suppl</th>\n",
       "      <th>dupl</th>\n",
       "      <th>mapq</th>\n",
       "      <th>read2</th>\n",
       "      <th>good</th>\n",
       "      <th>pass1</th>\n",
       "      <th>nb_p</th>\n",
       "      <th>nb_r</th>\n",
       "      <th>nb_a</th>\n",
       "      <th>bam</th>\n",
       "      <th>Sample</th>\n",
       "    </tr>\n",
       "  </thead>\n",
       "  <tbody>\n",
       "    <tr>\n",
       "      <th>0</th>\n",
       "      <td>RPE1-WT</td>\n",
       "      <td>RPE1WTPE20401</td>\n",
       "      <td>20</td>\n",
       "      <td>2573096</td>\n",
       "      <td>1239</td>\n",
       "      <td>1787498</td>\n",
       "      <td>165616</td>\n",
       "      <td>308954</td>\n",
       "      <td>309789</td>\n",
       "      <td>1</td>\n",
       "      <td>0.303386</td>\n",
       "      <td>9.23673</td>\n",
       "      <td>0.1</td>\n",
       "      <td>/scratch/tweber/DATA/MC_DATA/PAPER/RPE1-WT/bam...</td>\n",
       "      <td>RPE1-WT</td>\n",
       "    </tr>\n",
       "    <tr>\n",
       "      <th>1</th>\n",
       "      <td>RPE1-WT</td>\n",
       "      <td>RPE1WTPE20402</td>\n",
       "      <td>32</td>\n",
       "      <td>4026483</td>\n",
       "      <td>1946</td>\n",
       "      <td>2757222</td>\n",
       "      <td>265606</td>\n",
       "      <td>499670</td>\n",
       "      <td>502039</td>\n",
       "      <td>1</td>\n",
       "      <td>0.303386</td>\n",
       "      <td>14.96760</td>\n",
       "      <td>0.1</td>\n",
       "      <td>/scratch/tweber/DATA/MC_DATA/PAPER/RPE1-WT/bam...</td>\n",
       "      <td>RPE1-WT</td>\n",
       "    </tr>\n",
       "    <tr>\n",
       "      <th>2</th>\n",
       "      <td>RPE1-WT</td>\n",
       "      <td>RPE1WTPE20403</td>\n",
       "      <td>28</td>\n",
       "      <td>3541507</td>\n",
       "      <td>1733</td>\n",
       "      <td>2471489</td>\n",
       "      <td>213377</td>\n",
       "      <td>426535</td>\n",
       "      <td>428373</td>\n",
       "      <td>1</td>\n",
       "      <td>0.303386</td>\n",
       "      <td>12.77590</td>\n",
       "      <td>0.1</td>\n",
       "      <td>/scratch/tweber/DATA/MC_DATA/PAPER/RPE1-WT/bam...</td>\n",
       "      <td>RPE1-WT</td>\n",
       "    </tr>\n",
       "    <tr>\n",
       "      <th>3</th>\n",
       "      <td>RPE1-WT</td>\n",
       "      <td>RPE1WTPE20404</td>\n",
       "      <td>46</td>\n",
       "      <td>5404842</td>\n",
       "      <td>2657</td>\n",
       "      <td>3629556</td>\n",
       "      <td>380155</td>\n",
       "      <td>695010</td>\n",
       "      <td>697464</td>\n",
       "      <td>1</td>\n",
       "      <td>0.303386</td>\n",
       "      <td>20.79060</td>\n",
       "      <td>0.1</td>\n",
       "      <td>/scratch/tweber/DATA/MC_DATA/PAPER/RPE1-WT/bam...</td>\n",
       "      <td>RPE1-WT</td>\n",
       "    </tr>\n",
       "    <tr>\n",
       "      <th>4</th>\n",
       "      <td>RPE1-WT</td>\n",
       "      <td>RPE1WTPE20405</td>\n",
       "      <td>32</td>\n",
       "      <td>3822626</td>\n",
       "      <td>2116</td>\n",
       "      <td>2609849</td>\n",
       "      <td>250845</td>\n",
       "      <td>478982</td>\n",
       "      <td>480834</td>\n",
       "      <td>1</td>\n",
       "      <td>0.303386</td>\n",
       "      <td>14.33670</td>\n",
       "      <td>0.1</td>\n",
       "      <td>/scratch/tweber/DATA/MC_DATA/PAPER/RPE1-WT/bam...</td>\n",
       "      <td>RPE1-WT</td>\n",
       "    </tr>\n",
       "    <tr>\n",
       "      <th>...</th>\n",
       "      <td>...</td>\n",
       "      <td>...</td>\n",
       "      <td>...</td>\n",
       "      <td>...</td>\n",
       "      <td>...</td>\n",
       "      <td>...</td>\n",
       "      <td>...</td>\n",
       "      <td>...</td>\n",
       "      <td>...</td>\n",
       "      <td>...</td>\n",
       "      <td>...</td>\n",
       "      <td>...</td>\n",
       "      <td>...</td>\n",
       "      <td>...</td>\n",
       "      <td>...</td>\n",
       "    </tr>\n",
       "    <tr>\n",
       "      <th>91</th>\n",
       "      <td>HGSVCpool1xulOPxEcho</td>\n",
       "      <td>HGSVCpool1xulOPxEchoPE20592</td>\n",
       "      <td>0</td>\n",
       "      <td>59782</td>\n",
       "      <td>162</td>\n",
       "      <td>31225</td>\n",
       "      <td>3472</td>\n",
       "      <td>12504</td>\n",
       "      <td>12419</td>\n",
       "      <td>0</td>\n",
       "      <td>0.000000</td>\n",
       "      <td>0.00000</td>\n",
       "      <td>0.0</td>\n",
       "      <td>/scratch/tweber/DATA/MC_DATA/EVA_1511_H33JMAFX...</td>\n",
       "      <td>HGSVCpool1xulOPxEcho</td>\n",
       "    </tr>\n",
       "    <tr>\n",
       "      <th>92</th>\n",
       "      <td>HGSVCpool1xulOPxEcho</td>\n",
       "      <td>HGSVCpool1xulOPxEchoPE20593</td>\n",
       "      <td>0</td>\n",
       "      <td>15884</td>\n",
       "      <td>52</td>\n",
       "      <td>13617</td>\n",
       "      <td>815</td>\n",
       "      <td>747</td>\n",
       "      <td>653</td>\n",
       "      <td>0</td>\n",
       "      <td>0.000000</td>\n",
       "      <td>0.00000</td>\n",
       "      <td>0.0</td>\n",
       "      <td>/scratch/tweber/DATA/MC_DATA/EVA_1511_H33JMAFX...</td>\n",
       "      <td>HGSVCpool1xulOPxEcho</td>\n",
       "    </tr>\n",
       "    <tr>\n",
       "      <th>93</th>\n",
       "      <td>HGSVCpool1xulOPxEcho</td>\n",
       "      <td>HGSVCpool1xulOPxEchoPE20594</td>\n",
       "      <td>0</td>\n",
       "      <td>389</td>\n",
       "      <td>0</td>\n",
       "      <td>37</td>\n",
       "      <td>51</td>\n",
       "      <td>145</td>\n",
       "      <td>156</td>\n",
       "      <td>0</td>\n",
       "      <td>0.000000</td>\n",
       "      <td>0.00000</td>\n",
       "      <td>0.0</td>\n",
       "      <td>/scratch/tweber/DATA/MC_DATA/EVA_1511_H33JMAFX...</td>\n",
       "      <td>HGSVCpool1xulOPxEcho</td>\n",
       "    </tr>\n",
       "    <tr>\n",
       "      <th>94</th>\n",
       "      <td>HGSVCpool1xulOPxEcho</td>\n",
       "      <td>HGSVCpool1xulOPxEchoPE20595</td>\n",
       "      <td>0</td>\n",
       "      <td>5434</td>\n",
       "      <td>6</td>\n",
       "      <td>525</td>\n",
       "      <td>450</td>\n",
       "      <td>2205</td>\n",
       "      <td>2248</td>\n",
       "      <td>0</td>\n",
       "      <td>0.000000</td>\n",
       "      <td>0.00000</td>\n",
       "      <td>0.0</td>\n",
       "      <td>/scratch/tweber/DATA/MC_DATA/EVA_1511_H33JMAFX...</td>\n",
       "      <td>HGSVCpool1xulOPxEcho</td>\n",
       "    </tr>\n",
       "    <tr>\n",
       "      <th>95</th>\n",
       "      <td>HGSVCpool1xulOPxEcho</td>\n",
       "      <td>HGSVCpool1xulOPxEchoPE20596</td>\n",
       "      <td>0</td>\n",
       "      <td>7015</td>\n",
       "      <td>6</td>\n",
       "      <td>40</td>\n",
       "      <td>580</td>\n",
       "      <td>3029</td>\n",
       "      <td>3360</td>\n",
       "      <td>0</td>\n",
       "      <td>0.000000</td>\n",
       "      <td>0.00000</td>\n",
       "      <td>0.0</td>\n",
       "      <td>/scratch/tweber/DATA/MC_DATA/EVA_1511_H33JMAFX...</td>\n",
       "      <td>HGSVCpool1xulOPxEcho</td>\n",
       "    </tr>\n",
       "  </tbody>\n",
       "</table>\n",
       "<p>957 rows × 15 columns</p>\n",
       "</div>"
      ],
      "text/plain": [
       "                  sample                         cell  medbin   mapped  suppl  \\\n",
       "0                RPE1-WT                RPE1WTPE20401      20  2573096   1239   \n",
       "1                RPE1-WT                RPE1WTPE20402      32  4026483   1946   \n",
       "2                RPE1-WT                RPE1WTPE20403      28  3541507   1733   \n",
       "3                RPE1-WT                RPE1WTPE20404      46  5404842   2657   \n",
       "4                RPE1-WT                RPE1WTPE20405      32  3822626   2116   \n",
       "..                   ...                          ...     ...      ...    ...   \n",
       "91  HGSVCpool1xulOPxEcho  HGSVCpool1xulOPxEchoPE20592       0    59782    162   \n",
       "92  HGSVCpool1xulOPxEcho  HGSVCpool1xulOPxEchoPE20593       0    15884     52   \n",
       "93  HGSVCpool1xulOPxEcho  HGSVCpool1xulOPxEchoPE20594       0      389      0   \n",
       "94  HGSVCpool1xulOPxEcho  HGSVCpool1xulOPxEchoPE20595       0     5434      6   \n",
       "95  HGSVCpool1xulOPxEcho  HGSVCpool1xulOPxEchoPE20596       0     7015      6   \n",
       "\n",
       "       dupl    mapq   read2    good  pass1      nb_p      nb_r  nb_a  \\\n",
       "0   1787498  165616  308954  309789      1  0.303386   9.23673   0.1   \n",
       "1   2757222  265606  499670  502039      1  0.303386  14.96760   0.1   \n",
       "2   2471489  213377  426535  428373      1  0.303386  12.77590   0.1   \n",
       "3   3629556  380155  695010  697464      1  0.303386  20.79060   0.1   \n",
       "4   2609849  250845  478982  480834      1  0.303386  14.33670   0.1   \n",
       "..      ...     ...     ...     ...    ...       ...       ...   ...   \n",
       "91    31225    3472   12504   12419      0  0.000000   0.00000   0.0   \n",
       "92    13617     815     747     653      0  0.000000   0.00000   0.0   \n",
       "93       37      51     145     156      0  0.000000   0.00000   0.0   \n",
       "94      525     450    2205    2248      0  0.000000   0.00000   0.0   \n",
       "95       40     580    3029    3360      0  0.000000   0.00000   0.0   \n",
       "\n",
       "                                                  bam                Sample  \n",
       "0   /scratch/tweber/DATA/MC_DATA/PAPER/RPE1-WT/bam...               RPE1-WT  \n",
       "1   /scratch/tweber/DATA/MC_DATA/PAPER/RPE1-WT/bam...               RPE1-WT  \n",
       "2   /scratch/tweber/DATA/MC_DATA/PAPER/RPE1-WT/bam...               RPE1-WT  \n",
       "3   /scratch/tweber/DATA/MC_DATA/PAPER/RPE1-WT/bam...               RPE1-WT  \n",
       "4   /scratch/tweber/DATA/MC_DATA/PAPER/RPE1-WT/bam...               RPE1-WT  \n",
       "..                                                ...                   ...  \n",
       "91  /scratch/tweber/DATA/MC_DATA/EVA_1511_H33JMAFX...  HGSVCpool1xulOPxEcho  \n",
       "92  /scratch/tweber/DATA/MC_DATA/EVA_1511_H33JMAFX...  HGSVCpool1xulOPxEcho  \n",
       "93  /scratch/tweber/DATA/MC_DATA/EVA_1511_H33JMAFX...  HGSVCpool1xulOPxEcho  \n",
       "94  /scratch/tweber/DATA/MC_DATA/EVA_1511_H33JMAFX...  HGSVCpool1xulOPxEcho  \n",
       "95  /scratch/tweber/DATA/MC_DATA/EVA_1511_H33JMAFX...  HGSVCpool1xulOPxEcho  \n",
       "\n",
       "[957 rows x 15 columns]"
      ]
     },
     "execution_count": 6,
     "metadata": {},
     "output_type": "execute_result"
    }
   ],
   "source": [
    "l = list()\n",
    "for run in os.listdir(parent_directory):\n",
    "    for sample in os.listdir(parent_directory + run):\n",
    "        if sample not in [\"config\", \"log\"]: \n",
    "            if os.path.isfile(parent_directory + run + \"/\" + sample + \"/counts/{sample}.info_raw\".format(sample=sample)):\n",
    "                print(parent_directory, run, sample)\n",
    "                tmp_df = pd.read_csv(parent_directory + run + \"/\" + sample + \"/counts/{sample}.info_raw\".format(sample=sample), sep=\"\\t\", skiprows=13)\n",
    "                tmp_df[\"Sample\"] = sample\n",
    "                l.append(tmp_df)\n",
    "info_df = pd.concat(l)\n",
    "info_df[\"cell\"] = info_df[\"cell\"].str.replace(\".sort.mdup.bam\", \"\")\n",
    "info_df"
   ]
  },
  {
   "cell_type": "code",
   "execution_count": 7,
   "metadata": {},
   "outputs": [
    {
     "name": "stdout",
     "output_type": "stream",
     "text": [
      "/scratch/tweber/DATA/WEB_SERVER_PIPELINE/ PAPER RPE1-WT\n",
      "['# sample:  Sample (has multiple cells)', '# cell:    Name of the cell.', '# mapped:  Total number of reads seen', '# suppl:   Supplementary, secondary or QC-failed reads (filtered out)', '# dupl:    Reads filtered out as PCR duplicates', '# mapq:    Reads filtered out due to low mapping quality', '# read2:   Reads filtered out as 2nd read of pair', '# good:    Reads used for counting.', '# pass1:   Enough coverage? If false, ignore all columns from now', '# nb_p:    Negative Binomial parameter p. Constant for one sample.', '# nb_r:    Negative Binomial parameter r. We use NB(p,r/2) * NB(p,r/2) in WC states, but NB(p,(1-a)*r)*NB(p,a*r) in WW or CC states.', '# nb_a:    Negative Binomial parameter a (alpha) used for zero expectation (see above).', '# bam:     Bam file of this cell', 'sample\\tcell\\tmedbin\\tmapped\\tsuppl\\tdupl\\tmapq\\tread2\\tgood\\tpass1\\tnb_p\\tnb_r\\tnb_a\\tbam']\n",
      "/scratch/tweber/DATA/WEB_SERVER_PIPELINE/ EVA_1511_H372MAFX5 MRD48h\n",
      "['# sample:  Sample (has multiple cells)', '# cell:    Name of the cell.', '# mapped:  Total number of reads seen', '# suppl:   Supplementary, secondary or QC-failed reads (filtered out)', '# dupl:    Reads filtered out as PCR duplicates', '# mapq:    Reads filtered out due to low mapping quality', '# read2:   Reads filtered out as 2nd read of pair', '# good:    Reads used for counting.', '# pass1:   Enough coverage? If false, ignore all columns from now', '# nb_p:    Negative Binomial parameter p. Constant for one sample.', '# nb_r:    Negative Binomial parameter r. We use NB(p,r/2) * NB(p,r/2) in WC states, but NB(p,(1-a)*r)*NB(p,a*r) in WW or CC states.', '# nb_a:    Negative Binomial parameter a (alpha) used for zero expectation (see above).', '# bam:     Bam file of this cell', 'sample\\tcell\\tmedbin\\tmapped\\tsuppl\\tdupl\\tmapq\\tread2\\tgood\\tpass1\\tnb_p\\tnb_r\\tnb_a\\tbam']\n",
      "/scratch/tweber/DATA/WEB_SERVER_PIPELINE/ EVA_1511_H33JMAFX5 HGSVCpool1xulOPxmanual\n",
      "['# sample:  Sample (has multiple cells)', '# cell:    Name of the cell.', '# mapped:  Total number of reads seen', '# suppl:   Supplementary, secondary or QC-failed reads (filtered out)', '# dupl:    Reads filtered out as PCR duplicates', '# mapq:    Reads filtered out due to low mapping quality', '# read2:   Reads filtered out as 2nd read of pair', '# good:    Reads used for counting.', '# pass1:   Enough coverage? If false, ignore all columns from now', '# nb_p:    Negative Binomial parameter p. Constant for one sample.', '# nb_r:    Negative Binomial parameter r. We use NB(p,r/2) * NB(p,r/2) in WC states, but NB(p,(1-a)*r)*NB(p,a*r) in WW or CC states.', '# nb_a:    Negative Binomial parameter a (alpha) used for zero expectation (see above).', '# bam:     Bam file of this cell', 'sample\\tcell\\tmedbin\\tmapped\\tsuppl\\tdupl\\tmapq\\tread2\\tgood\\tpass1\\tnb_p\\tnb_r\\tnb_a\\tbam']\n"
     ]
    }
   ],
   "source": [
    "for run in os.listdir(parent_directory):\n",
    "    for sample in os.listdir(parent_directory + run):\n",
    "        if sample not in [\"config\", \"log\"]: \n",
    "            if os.path.isfile(parent_directory + run + \"/\" + sample + \"/counts/{sample}.info_raw\".format(sample=sample)):\n",
    "                print(parent_directory, run, sample)\n",
    "                print([e.strip() for e in open(parent_directory + run + \"/\" + sample + \"/counts/{sample}.info_raw\".format(sample=sample)).readlines()[:14]])\n",
    "                break"
   ]
  },
  {
   "cell_type": "code",
   "execution_count": 8,
   "metadata": {},
   "outputs": [
    {
     "data": {
      "text/html": [
       "<div>\n",
       "<style scoped>\n",
       "    .dataframe tbody tr th:only-of-type {\n",
       "        vertical-align: middle;\n",
       "    }\n",
       "\n",
       "    .dataframe tbody tr th {\n",
       "        vertical-align: top;\n",
       "    }\n",
       "\n",
       "    .dataframe thead th {\n",
       "        text-align: right;\n",
       "    }\n",
       "</style>\n",
       "<table border=\"1\" class=\"dataframe\">\n",
       "  <thead>\n",
       "    <tr style=\"text-align: right;\">\n",
       "      <th></th>\n",
       "      <th>cell</th>\n",
       "      <th>prediction</th>\n",
       "      <th>probability</th>\n",
       "      <th>sample</th>\n",
       "      <th>owner</th>\n",
       "      <th>group</th>\n",
       "      <th>datetime_modified</th>\n",
       "      <th>datetime_creation</th>\n",
       "      <th>medbin</th>\n",
       "      <th>mapped</th>\n",
       "      <th>...</th>\n",
       "      <th>mapq</th>\n",
       "      <th>read2</th>\n",
       "      <th>good</th>\n",
       "      <th>pass1</th>\n",
       "      <th>nb_p</th>\n",
       "      <th>nb_r</th>\n",
       "      <th>nb_a</th>\n",
       "      <th>bam</th>\n",
       "      <th>Sample</th>\n",
       "      <th>prediction_status</th>\n",
       "    </tr>\n",
       "  </thead>\n",
       "  <tbody>\n",
       "    <tr>\n",
       "      <th>0</th>\n",
       "      <td>RPE1WTPE20451</td>\n",
       "      <td>1</td>\n",
       "      <td>0.9726</td>\n",
       "      <td>RPE1-WT</td>\n",
       "      <td>tweber</td>\n",
       "      <td>korbel</td>\n",
       "      <td>2022-11-09</td>\n",
       "      <td>2022-11-09</td>\n",
       "      <td>11</td>\n",
       "      <td>1319388</td>\n",
       "      <td>...</td>\n",
       "      <td>82040</td>\n",
       "      <td>175152</td>\n",
       "      <td>175695</td>\n",
       "      <td>1</td>\n",
       "      <td>0.303386</td>\n",
       "      <td>5.23936</td>\n",
       "      <td>0.1</td>\n",
       "      <td>/scratch/tweber/DATA/MC_DATA/PAPER/RPE1-WT/bam...</td>\n",
       "      <td>RPE1-WT</td>\n",
       "      <td>ashleys + mosaic</td>\n",
       "    </tr>\n",
       "    <tr>\n",
       "      <th>1</th>\n",
       "      <td>RPE1WTPE20484</td>\n",
       "      <td>1</td>\n",
       "      <td>0.9783</td>\n",
       "      <td>RPE1-WT</td>\n",
       "      <td>tweber</td>\n",
       "      <td>korbel</td>\n",
       "      <td>2022-11-09</td>\n",
       "      <td>2022-11-09</td>\n",
       "      <td>39</td>\n",
       "      <td>4489422</td>\n",
       "      <td>...</td>\n",
       "      <td>309683</td>\n",
       "      <td>590154</td>\n",
       "      <td>592443</td>\n",
       "      <td>1</td>\n",
       "      <td>0.303386</td>\n",
       "      <td>17.66280</td>\n",
       "      <td>0.1</td>\n",
       "      <td>/scratch/tweber/DATA/MC_DATA/PAPER/RPE1-WT/bam...</td>\n",
       "      <td>RPE1-WT</td>\n",
       "      <td>ashleys + mosaic</td>\n",
       "    </tr>\n",
       "    <tr>\n",
       "      <th>2</th>\n",
       "      <td>RPE1WTPE20480</td>\n",
       "      <td>1</td>\n",
       "      <td>0.9685</td>\n",
       "      <td>RPE1-WT</td>\n",
       "      <td>tweber</td>\n",
       "      <td>korbel</td>\n",
       "      <td>2022-11-09</td>\n",
       "      <td>2022-11-09</td>\n",
       "      <td>45</td>\n",
       "      <td>5074609</td>\n",
       "      <td>...</td>\n",
       "      <td>312011</td>\n",
       "      <td>678234</td>\n",
       "      <td>680729</td>\n",
       "      <td>1</td>\n",
       "      <td>0.303386</td>\n",
       "      <td>20.29770</td>\n",
       "      <td>0.1</td>\n",
       "      <td>/scratch/tweber/DATA/MC_DATA/PAPER/RPE1-WT/bam...</td>\n",
       "      <td>RPE1-WT</td>\n",
       "      <td>ashleys + mosaic</td>\n",
       "    </tr>\n",
       "    <tr>\n",
       "      <th>3</th>\n",
       "      <td>RPE1WTPE20431</td>\n",
       "      <td>1</td>\n",
       "      <td>0.9697</td>\n",
       "      <td>RPE1-WT</td>\n",
       "      <td>tweber</td>\n",
       "      <td>korbel</td>\n",
       "      <td>2022-11-09</td>\n",
       "      <td>2022-11-09</td>\n",
       "      <td>28</td>\n",
       "      <td>3351789</td>\n",
       "      <td>...</td>\n",
       "      <td>218718</td>\n",
       "      <td>430287</td>\n",
       "      <td>431794</td>\n",
       "      <td>1</td>\n",
       "      <td>0.303386</td>\n",
       "      <td>12.87370</td>\n",
       "      <td>0.1</td>\n",
       "      <td>/scratch/tweber/DATA/MC_DATA/PAPER/RPE1-WT/bam...</td>\n",
       "      <td>RPE1-WT</td>\n",
       "      <td>ashleys + mosaic</td>\n",
       "    </tr>\n",
       "    <tr>\n",
       "      <th>4</th>\n",
       "      <td>RPE1WTPE20448</td>\n",
       "      <td>1</td>\n",
       "      <td>0.9843</td>\n",
       "      <td>RPE1-WT</td>\n",
       "      <td>tweber</td>\n",
       "      <td>korbel</td>\n",
       "      <td>2022-11-09</td>\n",
       "      <td>2022-11-09</td>\n",
       "      <td>48</td>\n",
       "      <td>5352284</td>\n",
       "      <td>...</td>\n",
       "      <td>352305</td>\n",
       "      <td>716479</td>\n",
       "      <td>718991</td>\n",
       "      <td>1</td>\n",
       "      <td>0.303386</td>\n",
       "      <td>21.43710</td>\n",
       "      <td>0.1</td>\n",
       "      <td>/scratch/tweber/DATA/MC_DATA/PAPER/RPE1-WT/bam...</td>\n",
       "      <td>RPE1-WT</td>\n",
       "      <td>ashleys + mosaic</td>\n",
       "    </tr>\n",
       "    <tr>\n",
       "      <th>...</th>\n",
       "      <td>...</td>\n",
       "      <td>...</td>\n",
       "      <td>...</td>\n",
       "      <td>...</td>\n",
       "      <td>...</td>\n",
       "      <td>...</td>\n",
       "      <td>...</td>\n",
       "      <td>...</td>\n",
       "      <td>...</td>\n",
       "      <td>...</td>\n",
       "      <td>...</td>\n",
       "      <td>...</td>\n",
       "      <td>...</td>\n",
       "      <td>...</td>\n",
       "      <td>...</td>\n",
       "      <td>...</td>\n",
       "      <td>...</td>\n",
       "      <td>...</td>\n",
       "      <td>...</td>\n",
       "      <td>...</td>\n",
       "      <td>...</td>\n",
       "    </tr>\n",
       "    <tr>\n",
       "      <th>856</th>\n",
       "      <td>HGSVCpool1xulOPxEchoPE20592</td>\n",
       "      <td>0</td>\n",
       "      <td>0.0000</td>\n",
       "      <td>HGSVCpool1xulOPxEcho</td>\n",
       "      <td>tweber</td>\n",
       "      <td>korbel</td>\n",
       "      <td>2022-11-15</td>\n",
       "      <td>2022-11-15</td>\n",
       "      <td>0</td>\n",
       "      <td>59782</td>\n",
       "      <td>...</td>\n",
       "      <td>3472</td>\n",
       "      <td>12504</td>\n",
       "      <td>12419</td>\n",
       "      <td>0</td>\n",
       "      <td>0.000000</td>\n",
       "      <td>0.00000</td>\n",
       "      <td>0.0</td>\n",
       "      <td>/scratch/tweber/DATA/MC_DATA/EVA_1511_H33JMAFX...</td>\n",
       "      <td>HGSVCpool1xulOPxEcho</td>\n",
       "      <td>None</td>\n",
       "    </tr>\n",
       "    <tr>\n",
       "      <th>857</th>\n",
       "      <td>HGSVCpool1xulOPxEchoPE20593</td>\n",
       "      <td>0</td>\n",
       "      <td>0.0000</td>\n",
       "      <td>HGSVCpool1xulOPxEcho</td>\n",
       "      <td>tweber</td>\n",
       "      <td>korbel</td>\n",
       "      <td>2022-11-15</td>\n",
       "      <td>2022-11-15</td>\n",
       "      <td>0</td>\n",
       "      <td>15884</td>\n",
       "      <td>...</td>\n",
       "      <td>815</td>\n",
       "      <td>747</td>\n",
       "      <td>653</td>\n",
       "      <td>0</td>\n",
       "      <td>0.000000</td>\n",
       "      <td>0.00000</td>\n",
       "      <td>0.0</td>\n",
       "      <td>/scratch/tweber/DATA/MC_DATA/EVA_1511_H33JMAFX...</td>\n",
       "      <td>HGSVCpool1xulOPxEcho</td>\n",
       "      <td>None</td>\n",
       "    </tr>\n",
       "    <tr>\n",
       "      <th>858</th>\n",
       "      <td>HGSVCpool1xulOPxEchoPE20594</td>\n",
       "      <td>0</td>\n",
       "      <td>0.0000</td>\n",
       "      <td>HGSVCpool1xulOPxEcho</td>\n",
       "      <td>tweber</td>\n",
       "      <td>korbel</td>\n",
       "      <td>2022-11-15</td>\n",
       "      <td>2022-11-15</td>\n",
       "      <td>0</td>\n",
       "      <td>389</td>\n",
       "      <td>...</td>\n",
       "      <td>51</td>\n",
       "      <td>145</td>\n",
       "      <td>156</td>\n",
       "      <td>0</td>\n",
       "      <td>0.000000</td>\n",
       "      <td>0.00000</td>\n",
       "      <td>0.0</td>\n",
       "      <td>/scratch/tweber/DATA/MC_DATA/EVA_1511_H33JMAFX...</td>\n",
       "      <td>HGSVCpool1xulOPxEcho</td>\n",
       "      <td>None</td>\n",
       "    </tr>\n",
       "    <tr>\n",
       "      <th>859</th>\n",
       "      <td>HGSVCpool1xulOPxEchoPE20595</td>\n",
       "      <td>0</td>\n",
       "      <td>0.0000</td>\n",
       "      <td>HGSVCpool1xulOPxEcho</td>\n",
       "      <td>tweber</td>\n",
       "      <td>korbel</td>\n",
       "      <td>2022-11-15</td>\n",
       "      <td>2022-11-15</td>\n",
       "      <td>0</td>\n",
       "      <td>5434</td>\n",
       "      <td>...</td>\n",
       "      <td>450</td>\n",
       "      <td>2205</td>\n",
       "      <td>2248</td>\n",
       "      <td>0</td>\n",
       "      <td>0.000000</td>\n",
       "      <td>0.00000</td>\n",
       "      <td>0.0</td>\n",
       "      <td>/scratch/tweber/DATA/MC_DATA/EVA_1511_H33JMAFX...</td>\n",
       "      <td>HGSVCpool1xulOPxEcho</td>\n",
       "      <td>None</td>\n",
       "    </tr>\n",
       "    <tr>\n",
       "      <th>860</th>\n",
       "      <td>HGSVCpool1xulOPxEchoPE20596</td>\n",
       "      <td>0</td>\n",
       "      <td>0.0000</td>\n",
       "      <td>HGSVCpool1xulOPxEcho</td>\n",
       "      <td>tweber</td>\n",
       "      <td>korbel</td>\n",
       "      <td>2022-11-15</td>\n",
       "      <td>2022-11-15</td>\n",
       "      <td>0</td>\n",
       "      <td>7015</td>\n",
       "      <td>...</td>\n",
       "      <td>580</td>\n",
       "      <td>3029</td>\n",
       "      <td>3360</td>\n",
       "      <td>0</td>\n",
       "      <td>0.000000</td>\n",
       "      <td>0.00000</td>\n",
       "      <td>0.0</td>\n",
       "      <td>/scratch/tweber/DATA/MC_DATA/EVA_1511_H33JMAFX...</td>\n",
       "      <td>HGSVCpool1xulOPxEcho</td>\n",
       "      <td>None</td>\n",
       "    </tr>\n",
       "  </tbody>\n",
       "</table>\n",
       "<p>861 rows × 22 columns</p>\n",
       "</div>"
      ],
      "text/plain": [
       "                            cell  prediction  probability  \\\n",
       "0                  RPE1WTPE20451           1       0.9726   \n",
       "1                  RPE1WTPE20484           1       0.9783   \n",
       "2                  RPE1WTPE20480           1       0.9685   \n",
       "3                  RPE1WTPE20431           1       0.9697   \n",
       "4                  RPE1WTPE20448           1       0.9843   \n",
       "..                           ...         ...          ...   \n",
       "856  HGSVCpool1xulOPxEchoPE20592           0       0.0000   \n",
       "857  HGSVCpool1xulOPxEchoPE20593           0       0.0000   \n",
       "858  HGSVCpool1xulOPxEchoPE20594           0       0.0000   \n",
       "859  HGSVCpool1xulOPxEchoPE20595           0       0.0000   \n",
       "860  HGSVCpool1xulOPxEchoPE20596           0       0.0000   \n",
       "\n",
       "                   sample   owner   group datetime_modified datetime_creation  \\\n",
       "0                 RPE1-WT  tweber  korbel        2022-11-09        2022-11-09   \n",
       "1                 RPE1-WT  tweber  korbel        2022-11-09        2022-11-09   \n",
       "2                 RPE1-WT  tweber  korbel        2022-11-09        2022-11-09   \n",
       "3                 RPE1-WT  tweber  korbel        2022-11-09        2022-11-09   \n",
       "4                 RPE1-WT  tweber  korbel        2022-11-09        2022-11-09   \n",
       "..                    ...     ...     ...               ...               ...   \n",
       "856  HGSVCpool1xulOPxEcho  tweber  korbel        2022-11-15        2022-11-15   \n",
       "857  HGSVCpool1xulOPxEcho  tweber  korbel        2022-11-15        2022-11-15   \n",
       "858  HGSVCpool1xulOPxEcho  tweber  korbel        2022-11-15        2022-11-15   \n",
       "859  HGSVCpool1xulOPxEcho  tweber  korbel        2022-11-15        2022-11-15   \n",
       "860  HGSVCpool1xulOPxEcho  tweber  korbel        2022-11-15        2022-11-15   \n",
       "\n",
       "     medbin   mapped  ...    mapq   read2    good  pass1      nb_p      nb_r  \\\n",
       "0        11  1319388  ...   82040  175152  175695      1  0.303386   5.23936   \n",
       "1        39  4489422  ...  309683  590154  592443      1  0.303386  17.66280   \n",
       "2        45  5074609  ...  312011  678234  680729      1  0.303386  20.29770   \n",
       "3        28  3351789  ...  218718  430287  431794      1  0.303386  12.87370   \n",
       "4        48  5352284  ...  352305  716479  718991      1  0.303386  21.43710   \n",
       "..      ...      ...  ...     ...     ...     ...    ...       ...       ...   \n",
       "856       0    59782  ...    3472   12504   12419      0  0.000000   0.00000   \n",
       "857       0    15884  ...     815     747     653      0  0.000000   0.00000   \n",
       "858       0      389  ...      51     145     156      0  0.000000   0.00000   \n",
       "859       0     5434  ...     450    2205    2248      0  0.000000   0.00000   \n",
       "860       0     7015  ...     580    3029    3360      0  0.000000   0.00000   \n",
       "\n",
       "     nb_a                                                bam  \\\n",
       "0     0.1  /scratch/tweber/DATA/MC_DATA/PAPER/RPE1-WT/bam...   \n",
       "1     0.1  /scratch/tweber/DATA/MC_DATA/PAPER/RPE1-WT/bam...   \n",
       "2     0.1  /scratch/tweber/DATA/MC_DATA/PAPER/RPE1-WT/bam...   \n",
       "3     0.1  /scratch/tweber/DATA/MC_DATA/PAPER/RPE1-WT/bam...   \n",
       "4     0.1  /scratch/tweber/DATA/MC_DATA/PAPER/RPE1-WT/bam...   \n",
       "..    ...                                                ...   \n",
       "856   0.0  /scratch/tweber/DATA/MC_DATA/EVA_1511_H33JMAFX...   \n",
       "857   0.0  /scratch/tweber/DATA/MC_DATA/EVA_1511_H33JMAFX...   \n",
       "858   0.0  /scratch/tweber/DATA/MC_DATA/EVA_1511_H33JMAFX...   \n",
       "859   0.0  /scratch/tweber/DATA/MC_DATA/EVA_1511_H33JMAFX...   \n",
       "860   0.0  /scratch/tweber/DATA/MC_DATA/EVA_1511_H33JMAFX...   \n",
       "\n",
       "                   Sample prediction_status  \n",
       "0                 RPE1-WT  ashleys + mosaic  \n",
       "1                 RPE1-WT  ashleys + mosaic  \n",
       "2                 RPE1-WT  ashleys + mosaic  \n",
       "3                 RPE1-WT  ashleys + mosaic  \n",
       "4                 RPE1-WT  ashleys + mosaic  \n",
       "..                    ...               ...  \n",
       "856  HGSVCpool1xulOPxEcho              None  \n",
       "857  HGSVCpool1xulOPxEcho              None  \n",
       "858  HGSVCpool1xulOPxEcho              None  \n",
       "859  HGSVCpool1xulOPxEcho              None  \n",
       "860  HGSVCpool1xulOPxEcho              None  \n",
       "\n",
       "[861 rows x 22 columns]"
      ]
     },
     "execution_count": 8,
     "metadata": {},
     "output_type": "execute_result"
    }
   ],
   "source": [
    "final_df = pd.merge(\n",
    "    labels_df,\n",
    "    info_df,\n",
    "    on=[\"sample\", \"cell\"]   \n",
    ")\n",
    "final_df.loc[(final_df[\"prediction\"] == 1) & (final_df[\"pass1\"] == 1), \"prediction_status\"] = \"ashleys + mosaic\"\n",
    "final_df.loc[(final_df[\"prediction\"] == 1) & (final_df[\"pass1\"] == 0), \"prediction_status\"] = \"ashleys\"\n",
    "final_df.loc[(final_df[\"prediction\"] == 0) & (final_df[\"pass1\"] == 1), \"prediction_status\"] = \"mosaic\"\n",
    "final_df.loc[(final_df[\"prediction\"] == 0) & (final_df[\"pass1\"] == 0), \"prediction_status\"] = \"None\"\n",
    "final_df"
   ]
  },
  {
   "cell_type": "code",
   "execution_count": 9,
   "metadata": {},
   "outputs": [
    {
     "data": {
      "text/html": [
       "<div>\n",
       "<style scoped>\n",
       "    .dataframe tbody tr th:only-of-type {\n",
       "        vertical-align: middle;\n",
       "    }\n",
       "\n",
       "    .dataframe tbody tr th {\n",
       "        vertical-align: top;\n",
       "    }\n",
       "\n",
       "    .dataframe thead th {\n",
       "        text-align: right;\n",
       "    }\n",
       "</style>\n",
       "<table border=\"1\" class=\"dataframe\">\n",
       "  <thead>\n",
       "    <tr style=\"text-align: right;\">\n",
       "      <th></th>\n",
       "      <th>sample</th>\n",
       "      <th>prediction_status</th>\n",
       "      <th>count</th>\n",
       "    </tr>\n",
       "  </thead>\n",
       "  <tbody>\n",
       "    <tr>\n",
       "      <th>0</th>\n",
       "      <td>C7</td>\n",
       "      <td>ashleys + mosaic</td>\n",
       "      <td>85</td>\n",
       "    </tr>\n",
       "    <tr>\n",
       "      <th>1</th>\n",
       "      <td>C7</td>\n",
       "      <td>mosaic</td>\n",
       "      <td>7</td>\n",
       "    </tr>\n",
       "    <tr>\n",
       "      <th>2</th>\n",
       "      <td>C7</td>\n",
       "      <td>None</td>\n",
       "      <td>3</td>\n",
       "    </tr>\n",
       "    <tr>\n",
       "      <th>3</th>\n",
       "      <td>HGSVCpool1xulOPxEcho</td>\n",
       "      <td>None</td>\n",
       "      <td>49</td>\n",
       "    </tr>\n",
       "    <tr>\n",
       "      <th>4</th>\n",
       "      <td>HGSVCpool1xulOPxEcho</td>\n",
       "      <td>ashleys + mosaic</td>\n",
       "      <td>37</td>\n",
       "    </tr>\n",
       "    <tr>\n",
       "      <th>5</th>\n",
       "      <td>HGSVCpool1xulOPxEcho</td>\n",
       "      <td>mosaic</td>\n",
       "      <td>10</td>\n",
       "    </tr>\n",
       "    <tr>\n",
       "      <th>6</th>\n",
       "      <td>HGSVCpool1xulOPxmanual</td>\n",
       "      <td>ashleys + mosaic</td>\n",
       "      <td>45</td>\n",
       "    </tr>\n",
       "    <tr>\n",
       "      <th>7</th>\n",
       "      <td>HGSVCpool1xulOPxmanual</td>\n",
       "      <td>mosaic</td>\n",
       "      <td>27</td>\n",
       "    </tr>\n",
       "    <tr>\n",
       "      <th>8</th>\n",
       "      <td>HGSVCpool1xulOPxmanual</td>\n",
       "      <td>None</td>\n",
       "      <td>24</td>\n",
       "    </tr>\n",
       "    <tr>\n",
       "      <th>9</th>\n",
       "      <td>KM1096</td>\n",
       "      <td>ashleys + mosaic</td>\n",
       "      <td>62</td>\n",
       "    </tr>\n",
       "    <tr>\n",
       "      <th>10</th>\n",
       "      <td>KM1096</td>\n",
       "      <td>mosaic</td>\n",
       "      <td>29</td>\n",
       "    </tr>\n",
       "    <tr>\n",
       "      <th>11</th>\n",
       "      <td>KM1096</td>\n",
       "      <td>None</td>\n",
       "      <td>5</td>\n",
       "    </tr>\n",
       "    <tr>\n",
       "      <th>12</th>\n",
       "      <td>LCL</td>\n",
       "      <td>ashleys + mosaic</td>\n",
       "      <td>53</td>\n",
       "    </tr>\n",
       "    <tr>\n",
       "      <th>13</th>\n",
       "      <td>LCL</td>\n",
       "      <td>None</td>\n",
       "      <td>25</td>\n",
       "    </tr>\n",
       "    <tr>\n",
       "      <th>14</th>\n",
       "      <td>LCL</td>\n",
       "      <td>mosaic</td>\n",
       "      <td>18</td>\n",
       "    </tr>\n",
       "    <tr>\n",
       "      <th>15</th>\n",
       "      <td>PC7PC37PC39PC42</td>\n",
       "      <td>mosaic</td>\n",
       "      <td>53</td>\n",
       "    </tr>\n",
       "    <tr>\n",
       "      <th>16</th>\n",
       "      <td>PC7PC37PC39PC42</td>\n",
       "      <td>None</td>\n",
       "      <td>37</td>\n",
       "    </tr>\n",
       "    <tr>\n",
       "      <th>17</th>\n",
       "      <td>PC7PC37PC39PC42</td>\n",
       "      <td>ashleys + mosaic</td>\n",
       "      <td>6</td>\n",
       "    </tr>\n",
       "    <tr>\n",
       "      <th>18</th>\n",
       "      <td>RPE-BM510</td>\n",
       "      <td>ashleys + mosaic</td>\n",
       "      <td>82</td>\n",
       "    </tr>\n",
       "    <tr>\n",
       "      <th>19</th>\n",
       "      <td>RPE-BM510</td>\n",
       "      <td>mosaic</td>\n",
       "      <td>9</td>\n",
       "    </tr>\n",
       "    <tr>\n",
       "      <th>20</th>\n",
       "      <td>RPE-BM510</td>\n",
       "      <td>None</td>\n",
       "      <td>4</td>\n",
       "    </tr>\n",
       "    <tr>\n",
       "      <th>21</th>\n",
       "      <td>RPE1-WT</td>\n",
       "      <td>ashleys + mosaic</td>\n",
       "      <td>90</td>\n",
       "    </tr>\n",
       "    <tr>\n",
       "      <th>22</th>\n",
       "      <td>RPE1-WT</td>\n",
       "      <td>mosaic</td>\n",
       "      <td>4</td>\n",
       "    </tr>\n",
       "    <tr>\n",
       "      <th>23</th>\n",
       "      <td>RPE1-WT</td>\n",
       "      <td>None</td>\n",
       "      <td>1</td>\n",
       "    </tr>\n",
       "    <tr>\n",
       "      <th>24</th>\n",
       "      <td>RPE1BCL11A</td>\n",
       "      <td>None</td>\n",
       "      <td>38</td>\n",
       "    </tr>\n",
       "    <tr>\n",
       "      <th>25</th>\n",
       "      <td>RPE1BCL11A</td>\n",
       "      <td>mosaic</td>\n",
       "      <td>30</td>\n",
       "    </tr>\n",
       "    <tr>\n",
       "      <th>26</th>\n",
       "      <td>RPE1BCL11A</td>\n",
       "      <td>ashleys + mosaic</td>\n",
       "      <td>28</td>\n",
       "    </tr>\n",
       "  </tbody>\n",
       "</table>\n",
       "</div>"
      ],
      "text/plain": [
       "                    sample prediction_status  count\n",
       "0                       C7  ashleys + mosaic     85\n",
       "1                       C7            mosaic      7\n",
       "2                       C7              None      3\n",
       "3     HGSVCpool1xulOPxEcho              None     49\n",
       "4     HGSVCpool1xulOPxEcho  ashleys + mosaic     37\n",
       "5     HGSVCpool1xulOPxEcho            mosaic     10\n",
       "6   HGSVCpool1xulOPxmanual  ashleys + mosaic     45\n",
       "7   HGSVCpool1xulOPxmanual            mosaic     27\n",
       "8   HGSVCpool1xulOPxmanual              None     24\n",
       "9                   KM1096  ashleys + mosaic     62\n",
       "10                  KM1096            mosaic     29\n",
       "11                  KM1096              None      5\n",
       "12                     LCL  ashleys + mosaic     53\n",
       "13                     LCL              None     25\n",
       "14                     LCL            mosaic     18\n",
       "15         PC7PC37PC39PC42            mosaic     53\n",
       "16         PC7PC37PC39PC42              None     37\n",
       "17         PC7PC37PC39PC42  ashleys + mosaic      6\n",
       "18               RPE-BM510  ashleys + mosaic     82\n",
       "19               RPE-BM510            mosaic      9\n",
       "20               RPE-BM510              None      4\n",
       "21                 RPE1-WT  ashleys + mosaic     90\n",
       "22                 RPE1-WT            mosaic      4\n",
       "23                 RPE1-WT              None      1\n",
       "24              RPE1BCL11A              None     38\n",
       "25              RPE1BCL11A            mosaic     30\n",
       "26              RPE1BCL11A  ashleys + mosaic     28"
      ]
     },
     "execution_count": 9,
     "metadata": {},
     "output_type": "execute_result"
    }
   ],
   "source": [
    "barplot_df_mosaic = final_df.groupby(\"sample\")[\"prediction_status\"].value_counts().rename(\"count\").reset_index()\n",
    "# barplot_df_mosaic[\"pass1\"] = barplot_df[\"pass1\"].replace({0 : \"FALSE\", 1: \"TRUE\"})\n",
    "barplot_df_mosaic"
   ]
  },
  {
   "cell_type": "code",
   "execution_count": 10,
   "metadata": {},
   "outputs": [
    {
     "data": {
      "text/plain": [
       "['C7',\n",
       " 'C7',\n",
       " 'C7',\n",
       " 'HGSVCpool1xulOPxEcho',\n",
       " 'HGSVCpool1xulOPxEcho',\n",
       " 'HGSVCpool1xulOPxEcho',\n",
       " 'HGSVCpool1xulOPxmanual',\n",
       " 'HGSVCpool1xulOPxmanual',\n",
       " 'HGSVCpool1xulOPxmanual',\n",
       " 'KM1096',\n",
       " 'KM1096',\n",
       " 'KM1096',\n",
       " 'LCL',\n",
       " 'LCL',\n",
       " 'LCL',\n",
       " 'PC7PC37PC39PC42',\n",
       " 'PC7PC37PC39PC42',\n",
       " 'PC7PC37PC39PC42',\n",
       " 'RPE-BM510',\n",
       " 'RPE-BM510',\n",
       " 'RPE-BM510',\n",
       " 'RPE1-WT',\n",
       " 'RPE1-WT',\n",
       " 'RPE1-WT',\n",
       " 'RPE1BCL11A',\n",
       " 'RPE1BCL11A',\n",
       " 'RPE1BCL11A']"
      ]
     },
     "execution_count": 10,
     "metadata": {},
     "output_type": "execute_result"
    }
   ],
   "source": [
    "sorted(barplot_df_mosaic[\"sample\"].values.tolist())"
   ]
  },
  {
   "cell_type": "code",
   "execution_count": 11,
   "metadata": {},
   "outputs": [
    {
     "ename": "KeyError",
     "evalue": "'Sample'",
     "output_type": "error",
     "traceback": [
      "\u001b[0;31m---------------------------------------------------------------------------\u001b[0m",
      "\u001b[0;31mKeyError\u001b[0m                                  Traceback (most recent call last)",
      "\u001b[1;32m/g/korbel2/weber/workspace/ashleys-qc-pipeline/afac/web_server_dev.ipynb Cell 11\u001b[0m in \u001b[0;36m<cell line: 1>\u001b[0;34m()\u001b[0m\n\u001b[0;32m----> <a href='vscode-notebook-cell://localhost:60001/g/korbel2/weber/workspace/ashleys-qc-pipeline/afac/web_server_dev.ipynb#X13sdnNjb2RlLXJlbW90ZQ%3D%3D?line=0'>1</a>\u001b[0m barplot_df \u001b[39m=\u001b[39m labels_df\u001b[39m.\u001b[39;49mgroupby(\u001b[39m\"\u001b[39;49m\u001b[39mSample\u001b[39;49m\u001b[39m\"\u001b[39;49m)[\u001b[39m\"\u001b[39m\u001b[39mprediction\u001b[39m\u001b[39m\"\u001b[39m]\u001b[39m.\u001b[39mvalue_counts()\u001b[39m.\u001b[39mrename(\u001b[39m\"\u001b[39m\u001b[39mcount\u001b[39m\u001b[39m\"\u001b[39m)\u001b[39m.\u001b[39mreset_index()\n\u001b[1;32m      <a href='vscode-notebook-cell://localhost:60001/g/korbel2/weber/workspace/ashleys-qc-pipeline/afac/web_server_dev.ipynb#X13sdnNjb2RlLXJlbW90ZQ%3D%3D?line=1'>2</a>\u001b[0m barplot_df[\u001b[39m\"\u001b[39m\u001b[39mprediction\u001b[39m\u001b[39m\"\u001b[39m] \u001b[39m=\u001b[39m barplot_df[\u001b[39m\"\u001b[39m\u001b[39mprediction\u001b[39m\u001b[39m\"\u001b[39m]\u001b[39m.\u001b[39mreplace({\u001b[39m0\u001b[39m : \u001b[39m\"\u001b[39m\u001b[39mFALSE\u001b[39m\u001b[39m\"\u001b[39m, \u001b[39m1\u001b[39m: \u001b[39m\"\u001b[39m\u001b[39mTRUE\u001b[39m\u001b[39m\"\u001b[39m})\n\u001b[1;32m      <a href='vscode-notebook-cell://localhost:60001/g/korbel2/weber/workspace/ashleys-qc-pipeline/afac/web_server_dev.ipynb#X13sdnNjb2RlLXJlbW90ZQ%3D%3D?line=2'>3</a>\u001b[0m barplot_df\n",
      "File \u001b[0;32m/g/korbel2/weber/miniconda3/envs/notebook/lib/python3.10/site-packages/pandas/core/frame.py:7718\u001b[0m, in \u001b[0;36mDataFrame.groupby\u001b[0;34m(self, by, axis, level, as_index, sort, group_keys, squeeze, observed, dropna)\u001b[0m\n\u001b[1;32m   7713\u001b[0m axis \u001b[39m=\u001b[39m \u001b[39mself\u001b[39m\u001b[39m.\u001b[39m_get_axis_number(axis)\n\u001b[1;32m   7715\u001b[0m \u001b[39m# https://github.com/python/mypy/issues/7642\u001b[39;00m\n\u001b[1;32m   7716\u001b[0m \u001b[39m# error: Argument \"squeeze\" to \"DataFrameGroupBy\" has incompatible type\u001b[39;00m\n\u001b[1;32m   7717\u001b[0m \u001b[39m# \"Union[bool, NoDefault]\"; expected \"bool\"\u001b[39;00m\n\u001b[0;32m-> 7718\u001b[0m \u001b[39mreturn\u001b[39;00m DataFrameGroupBy(\n\u001b[1;32m   7719\u001b[0m     obj\u001b[39m=\u001b[39;49m\u001b[39mself\u001b[39;49m,\n\u001b[1;32m   7720\u001b[0m     keys\u001b[39m=\u001b[39;49mby,\n\u001b[1;32m   7721\u001b[0m     axis\u001b[39m=\u001b[39;49maxis,\n\u001b[1;32m   7722\u001b[0m     level\u001b[39m=\u001b[39;49mlevel,\n\u001b[1;32m   7723\u001b[0m     as_index\u001b[39m=\u001b[39;49mas_index,\n\u001b[1;32m   7724\u001b[0m     sort\u001b[39m=\u001b[39;49msort,\n\u001b[1;32m   7725\u001b[0m     group_keys\u001b[39m=\u001b[39;49mgroup_keys,\n\u001b[1;32m   7726\u001b[0m     squeeze\u001b[39m=\u001b[39;49msqueeze,  \u001b[39m# type: ignore[arg-type]\u001b[39;49;00m\n\u001b[1;32m   7727\u001b[0m     observed\u001b[39m=\u001b[39;49mobserved,\n\u001b[1;32m   7728\u001b[0m     dropna\u001b[39m=\u001b[39;49mdropna,\n\u001b[1;32m   7729\u001b[0m )\n",
      "File \u001b[0;32m/g/korbel2/weber/miniconda3/envs/notebook/lib/python3.10/site-packages/pandas/core/groupby/groupby.py:882\u001b[0m, in \u001b[0;36mGroupBy.__init__\u001b[0;34m(self, obj, keys, axis, level, grouper, exclusions, selection, as_index, sort, group_keys, squeeze, observed, mutated, dropna)\u001b[0m\n\u001b[1;32m    879\u001b[0m \u001b[39mif\u001b[39;00m grouper \u001b[39mis\u001b[39;00m \u001b[39mNone\u001b[39;00m:\n\u001b[1;32m    880\u001b[0m     \u001b[39mfrom\u001b[39;00m \u001b[39mpandas\u001b[39;00m\u001b[39m.\u001b[39;00m\u001b[39mcore\u001b[39;00m\u001b[39m.\u001b[39;00m\u001b[39mgroupby\u001b[39;00m\u001b[39m.\u001b[39;00m\u001b[39mgrouper\u001b[39;00m \u001b[39mimport\u001b[39;00m get_grouper\n\u001b[0;32m--> 882\u001b[0m     grouper, exclusions, obj \u001b[39m=\u001b[39m get_grouper(\n\u001b[1;32m    883\u001b[0m         obj,\n\u001b[1;32m    884\u001b[0m         keys,\n\u001b[1;32m    885\u001b[0m         axis\u001b[39m=\u001b[39;49maxis,\n\u001b[1;32m    886\u001b[0m         level\u001b[39m=\u001b[39;49mlevel,\n\u001b[1;32m    887\u001b[0m         sort\u001b[39m=\u001b[39;49msort,\n\u001b[1;32m    888\u001b[0m         observed\u001b[39m=\u001b[39;49mobserved,\n\u001b[1;32m    889\u001b[0m         mutated\u001b[39m=\u001b[39;49m\u001b[39mself\u001b[39;49m\u001b[39m.\u001b[39;49mmutated,\n\u001b[1;32m    890\u001b[0m         dropna\u001b[39m=\u001b[39;49m\u001b[39mself\u001b[39;49m\u001b[39m.\u001b[39;49mdropna,\n\u001b[1;32m    891\u001b[0m     )\n\u001b[1;32m    893\u001b[0m \u001b[39mself\u001b[39m\u001b[39m.\u001b[39mobj \u001b[39m=\u001b[39m obj\n\u001b[1;32m    894\u001b[0m \u001b[39mself\u001b[39m\u001b[39m.\u001b[39maxis \u001b[39m=\u001b[39m obj\u001b[39m.\u001b[39m_get_axis_number(axis)\n",
      "File \u001b[0;32m/g/korbel2/weber/miniconda3/envs/notebook/lib/python3.10/site-packages/pandas/core/groupby/grouper.py:882\u001b[0m, in \u001b[0;36mget_grouper\u001b[0;34m(obj, key, axis, level, sort, observed, mutated, validate, dropna)\u001b[0m\n\u001b[1;32m    880\u001b[0m         in_axis, level, gpr \u001b[39m=\u001b[39m \u001b[39mFalse\u001b[39;00m, gpr, \u001b[39mNone\u001b[39;00m\n\u001b[1;32m    881\u001b[0m     \u001b[39melse\u001b[39;00m:\n\u001b[0;32m--> 882\u001b[0m         \u001b[39mraise\u001b[39;00m \u001b[39mKeyError\u001b[39;00m(gpr)\n\u001b[1;32m    883\u001b[0m \u001b[39melif\u001b[39;00m \u001b[39misinstance\u001b[39m(gpr, Grouper) \u001b[39mand\u001b[39;00m gpr\u001b[39m.\u001b[39mkey \u001b[39mis\u001b[39;00m \u001b[39mnot\u001b[39;00m \u001b[39mNone\u001b[39;00m:\n\u001b[1;32m    884\u001b[0m     \u001b[39m# Add key to exclusions\u001b[39;00m\n\u001b[1;32m    885\u001b[0m     exclusions\u001b[39m.\u001b[39madd(gpr\u001b[39m.\u001b[39mkey)\n",
      "\u001b[0;31mKeyError\u001b[0m: 'Sample'"
     ]
    }
   ],
   "source": [
    "barplot_df = labels_df.groupby(\"Sample\")[\"prediction\"].value_counts().rename(\"count\").reset_index()\n",
    "barplot_df[\"prediction\"] = barplot_df[\"prediction\"].replace({0 : \"FALSE\", 1: \"TRUE\"})\n",
    "barplot_df"
   ]
  },
  {
   "cell_type": "code",
   "execution_count": null,
   "metadata": {},
   "outputs": [
    {
     "data": {
      "application/vnd.plotly.v1+json": {
       "config": {
        "plotlyServerURL": "https://plot.ly"
       },
       "data": [
        {
         "alignmentgroup": "True",
         "hovertemplate": "prediction_status=ashleys + mosaic<br>sample=%{x}<br>count=%{y}<extra></extra>",
         "legendgroup": "ashleys + mosaic",
         "marker": {
          "color": "green",
          "pattern": {
           "shape": ""
          }
         },
         "name": "ashleys + mosaic",
         "offsetgroup": "ashleys + mosaic",
         "orientation": "v",
         "showlegend": true,
         "textposition": "auto",
         "type": "bar",
         "x": [
          "C7",
          "HGSVCpool1xulOPxEcho",
          "HGSVCpool1xulOPxmanual",
          "KM1096",
          "LCL",
          "PC7PC37PC39PC42",
          "RPE-BM510",
          "RPE1-WT",
          "RPE1BCL11A"
         ],
         "xaxis": "x",
         "y": [
          85,
          37,
          45,
          62,
          53,
          6,
          82,
          90,
          28
         ],
         "yaxis": "y"
        },
        {
         "alignmentgroup": "True",
         "hovertemplate": "prediction_status=mosaic<br>sample=%{x}<br>count=%{y}<extra></extra>",
         "legendgroup": "mosaic",
         "marker": {
          "color": "lightgreen",
          "pattern": {
           "shape": ""
          }
         },
         "name": "mosaic",
         "offsetgroup": "mosaic",
         "orientation": "v",
         "showlegend": true,
         "textposition": "auto",
         "type": "bar",
         "x": [
          "C7",
          "HGSVCpool1xulOPxEcho",
          "HGSVCpool1xulOPxmanual",
          "KM1096",
          "LCL",
          "PC7PC37PC39PC42",
          "RPE-BM510",
          "RPE1-WT",
          "RPE1BCL11A"
         ],
         "xaxis": "x",
         "y": [
          7,
          10,
          27,
          29,
          18,
          53,
          9,
          4,
          30
         ],
         "yaxis": "y"
        },
        {
         "alignmentgroup": "True",
         "hovertemplate": "prediction_status=None<br>sample=%{x}<br>count=%{y}<extra></extra>",
         "legendgroup": "None",
         "marker": {
          "color": "red",
          "pattern": {
           "shape": ""
          }
         },
         "name": "None",
         "offsetgroup": "None",
         "orientation": "v",
         "showlegend": true,
         "textposition": "auto",
         "type": "bar",
         "x": [
          "C7",
          "HGSVCpool1xulOPxEcho",
          "HGSVCpool1xulOPxmanual",
          "KM1096",
          "LCL",
          "PC7PC37PC39PC42",
          "RPE-BM510",
          "RPE1-WT",
          "RPE1BCL11A"
         ],
         "xaxis": "x",
         "y": [
          3,
          49,
          24,
          5,
          25,
          37,
          4,
          1,
          38
         ],
         "yaxis": "y"
        }
       ],
       "layout": {
        "barmode": "stack",
        "legend": {
         "title": {
          "text": "prediction_status"
         },
         "tracegroupgap": 0
        },
        "margin": {
         "t": 60
        },
        "template": {
         "data": {
          "bar": [
           {
            "error_x": {
             "color": "#2a3f5f"
            },
            "error_y": {
             "color": "#2a3f5f"
            },
            "marker": {
             "line": {
              "color": "#E5ECF6",
              "width": 0.5
             },
             "pattern": {
              "fillmode": "overlay",
              "size": 10,
              "solidity": 0.2
             }
            },
            "type": "bar"
           }
          ],
          "barpolar": [
           {
            "marker": {
             "line": {
              "color": "#E5ECF6",
              "width": 0.5
             },
             "pattern": {
              "fillmode": "overlay",
              "size": 10,
              "solidity": 0.2
             }
            },
            "type": "barpolar"
           }
          ],
          "carpet": [
           {
            "aaxis": {
             "endlinecolor": "#2a3f5f",
             "gridcolor": "white",
             "linecolor": "white",
             "minorgridcolor": "white",
             "startlinecolor": "#2a3f5f"
            },
            "baxis": {
             "endlinecolor": "#2a3f5f",
             "gridcolor": "white",
             "linecolor": "white",
             "minorgridcolor": "white",
             "startlinecolor": "#2a3f5f"
            },
            "type": "carpet"
           }
          ],
          "choropleth": [
           {
            "colorbar": {
             "outlinewidth": 0,
             "ticks": ""
            },
            "type": "choropleth"
           }
          ],
          "contour": [
           {
            "colorbar": {
             "outlinewidth": 0,
             "ticks": ""
            },
            "colorscale": [
             [
              0,
              "#0d0887"
             ],
             [
              0.1111111111111111,
              "#46039f"
             ],
             [
              0.2222222222222222,
              "#7201a8"
             ],
             [
              0.3333333333333333,
              "#9c179e"
             ],
             [
              0.4444444444444444,
              "#bd3786"
             ],
             [
              0.5555555555555556,
              "#d8576b"
             ],
             [
              0.6666666666666666,
              "#ed7953"
             ],
             [
              0.7777777777777778,
              "#fb9f3a"
             ],
             [
              0.8888888888888888,
              "#fdca26"
             ],
             [
              1,
              "#f0f921"
             ]
            ],
            "type": "contour"
           }
          ],
          "contourcarpet": [
           {
            "colorbar": {
             "outlinewidth": 0,
             "ticks": ""
            },
            "type": "contourcarpet"
           }
          ],
          "heatmap": [
           {
            "colorbar": {
             "outlinewidth": 0,
             "ticks": ""
            },
            "colorscale": [
             [
              0,
              "#0d0887"
             ],
             [
              0.1111111111111111,
              "#46039f"
             ],
             [
              0.2222222222222222,
              "#7201a8"
             ],
             [
              0.3333333333333333,
              "#9c179e"
             ],
             [
              0.4444444444444444,
              "#bd3786"
             ],
             [
              0.5555555555555556,
              "#d8576b"
             ],
             [
              0.6666666666666666,
              "#ed7953"
             ],
             [
              0.7777777777777778,
              "#fb9f3a"
             ],
             [
              0.8888888888888888,
              "#fdca26"
             ],
             [
              1,
              "#f0f921"
             ]
            ],
            "type": "heatmap"
           }
          ],
          "heatmapgl": [
           {
            "colorbar": {
             "outlinewidth": 0,
             "ticks": ""
            },
            "colorscale": [
             [
              0,
              "#0d0887"
             ],
             [
              0.1111111111111111,
              "#46039f"
             ],
             [
              0.2222222222222222,
              "#7201a8"
             ],
             [
              0.3333333333333333,
              "#9c179e"
             ],
             [
              0.4444444444444444,
              "#bd3786"
             ],
             [
              0.5555555555555556,
              "#d8576b"
             ],
             [
              0.6666666666666666,
              "#ed7953"
             ],
             [
              0.7777777777777778,
              "#fb9f3a"
             ],
             [
              0.8888888888888888,
              "#fdca26"
             ],
             [
              1,
              "#f0f921"
             ]
            ],
            "type": "heatmapgl"
           }
          ],
          "histogram": [
           {
            "marker": {
             "pattern": {
              "fillmode": "overlay",
              "size": 10,
              "solidity": 0.2
             }
            },
            "type": "histogram"
           }
          ],
          "histogram2d": [
           {
            "colorbar": {
             "outlinewidth": 0,
             "ticks": ""
            },
            "colorscale": [
             [
              0,
              "#0d0887"
             ],
             [
              0.1111111111111111,
              "#46039f"
             ],
             [
              0.2222222222222222,
              "#7201a8"
             ],
             [
              0.3333333333333333,
              "#9c179e"
             ],
             [
              0.4444444444444444,
              "#bd3786"
             ],
             [
              0.5555555555555556,
              "#d8576b"
             ],
             [
              0.6666666666666666,
              "#ed7953"
             ],
             [
              0.7777777777777778,
              "#fb9f3a"
             ],
             [
              0.8888888888888888,
              "#fdca26"
             ],
             [
              1,
              "#f0f921"
             ]
            ],
            "type": "histogram2d"
           }
          ],
          "histogram2dcontour": [
           {
            "colorbar": {
             "outlinewidth": 0,
             "ticks": ""
            },
            "colorscale": [
             [
              0,
              "#0d0887"
             ],
             [
              0.1111111111111111,
              "#46039f"
             ],
             [
              0.2222222222222222,
              "#7201a8"
             ],
             [
              0.3333333333333333,
              "#9c179e"
             ],
             [
              0.4444444444444444,
              "#bd3786"
             ],
             [
              0.5555555555555556,
              "#d8576b"
             ],
             [
              0.6666666666666666,
              "#ed7953"
             ],
             [
              0.7777777777777778,
              "#fb9f3a"
             ],
             [
              0.8888888888888888,
              "#fdca26"
             ],
             [
              1,
              "#f0f921"
             ]
            ],
            "type": "histogram2dcontour"
           }
          ],
          "mesh3d": [
           {
            "colorbar": {
             "outlinewidth": 0,
             "ticks": ""
            },
            "type": "mesh3d"
           }
          ],
          "parcoords": [
           {
            "line": {
             "colorbar": {
              "outlinewidth": 0,
              "ticks": ""
             }
            },
            "type": "parcoords"
           }
          ],
          "pie": [
           {
            "automargin": true,
            "type": "pie"
           }
          ],
          "scatter": [
           {
            "fillpattern": {
             "fillmode": "overlay",
             "size": 10,
             "solidity": 0.2
            },
            "type": "scatter"
           }
          ],
          "scatter3d": [
           {
            "line": {
             "colorbar": {
              "outlinewidth": 0,
              "ticks": ""
             }
            },
            "marker": {
             "colorbar": {
              "outlinewidth": 0,
              "ticks": ""
             }
            },
            "type": "scatter3d"
           }
          ],
          "scattercarpet": [
           {
            "marker": {
             "colorbar": {
              "outlinewidth": 0,
              "ticks": ""
             }
            },
            "type": "scattercarpet"
           }
          ],
          "scattergeo": [
           {
            "marker": {
             "colorbar": {
              "outlinewidth": 0,
              "ticks": ""
             }
            },
            "type": "scattergeo"
           }
          ],
          "scattergl": [
           {
            "marker": {
             "colorbar": {
              "outlinewidth": 0,
              "ticks": ""
             }
            },
            "type": "scattergl"
           }
          ],
          "scattermapbox": [
           {
            "marker": {
             "colorbar": {
              "outlinewidth": 0,
              "ticks": ""
             }
            },
            "type": "scattermapbox"
           }
          ],
          "scatterpolar": [
           {
            "marker": {
             "colorbar": {
              "outlinewidth": 0,
              "ticks": ""
             }
            },
            "type": "scatterpolar"
           }
          ],
          "scatterpolargl": [
           {
            "marker": {
             "colorbar": {
              "outlinewidth": 0,
              "ticks": ""
             }
            },
            "type": "scatterpolargl"
           }
          ],
          "scatterternary": [
           {
            "marker": {
             "colorbar": {
              "outlinewidth": 0,
              "ticks": ""
             }
            },
            "type": "scatterternary"
           }
          ],
          "surface": [
           {
            "colorbar": {
             "outlinewidth": 0,
             "ticks": ""
            },
            "colorscale": [
             [
              0,
              "#0d0887"
             ],
             [
              0.1111111111111111,
              "#46039f"
             ],
             [
              0.2222222222222222,
              "#7201a8"
             ],
             [
              0.3333333333333333,
              "#9c179e"
             ],
             [
              0.4444444444444444,
              "#bd3786"
             ],
             [
              0.5555555555555556,
              "#d8576b"
             ],
             [
              0.6666666666666666,
              "#ed7953"
             ],
             [
              0.7777777777777778,
              "#fb9f3a"
             ],
             [
              0.8888888888888888,
              "#fdca26"
             ],
             [
              1,
              "#f0f921"
             ]
            ],
            "type": "surface"
           }
          ],
          "table": [
           {
            "cells": {
             "fill": {
              "color": "#EBF0F8"
             },
             "line": {
              "color": "white"
             }
            },
            "header": {
             "fill": {
              "color": "#C8D4E3"
             },
             "line": {
              "color": "white"
             }
            },
            "type": "table"
           }
          ]
         },
         "layout": {
          "annotationdefaults": {
           "arrowcolor": "#2a3f5f",
           "arrowhead": 0,
           "arrowwidth": 1
          },
          "autotypenumbers": "strict",
          "coloraxis": {
           "colorbar": {
            "outlinewidth": 0,
            "ticks": ""
           }
          },
          "colorscale": {
           "diverging": [
            [
             0,
             "#8e0152"
            ],
            [
             0.1,
             "#c51b7d"
            ],
            [
             0.2,
             "#de77ae"
            ],
            [
             0.3,
             "#f1b6da"
            ],
            [
             0.4,
             "#fde0ef"
            ],
            [
             0.5,
             "#f7f7f7"
            ],
            [
             0.6,
             "#e6f5d0"
            ],
            [
             0.7,
             "#b8e186"
            ],
            [
             0.8,
             "#7fbc41"
            ],
            [
             0.9,
             "#4d9221"
            ],
            [
             1,
             "#276419"
            ]
           ],
           "sequential": [
            [
             0,
             "#0d0887"
            ],
            [
             0.1111111111111111,
             "#46039f"
            ],
            [
             0.2222222222222222,
             "#7201a8"
            ],
            [
             0.3333333333333333,
             "#9c179e"
            ],
            [
             0.4444444444444444,
             "#bd3786"
            ],
            [
             0.5555555555555556,
             "#d8576b"
            ],
            [
             0.6666666666666666,
             "#ed7953"
            ],
            [
             0.7777777777777778,
             "#fb9f3a"
            ],
            [
             0.8888888888888888,
             "#fdca26"
            ],
            [
             1,
             "#f0f921"
            ]
           ],
           "sequentialminus": [
            [
             0,
             "#0d0887"
            ],
            [
             0.1111111111111111,
             "#46039f"
            ],
            [
             0.2222222222222222,
             "#7201a8"
            ],
            [
             0.3333333333333333,
             "#9c179e"
            ],
            [
             0.4444444444444444,
             "#bd3786"
            ],
            [
             0.5555555555555556,
             "#d8576b"
            ],
            [
             0.6666666666666666,
             "#ed7953"
            ],
            [
             0.7777777777777778,
             "#fb9f3a"
            ],
            [
             0.8888888888888888,
             "#fdca26"
            ],
            [
             1,
             "#f0f921"
            ]
           ]
          },
          "colorway": [
           "#636efa",
           "#EF553B",
           "#00cc96",
           "#ab63fa",
           "#FFA15A",
           "#19d3f3",
           "#FF6692",
           "#B6E880",
           "#FF97FF",
           "#FECB52"
          ],
          "font": {
           "color": "#2a3f5f"
          },
          "geo": {
           "bgcolor": "white",
           "lakecolor": "white",
           "landcolor": "#E5ECF6",
           "showlakes": true,
           "showland": true,
           "subunitcolor": "white"
          },
          "hoverlabel": {
           "align": "left"
          },
          "hovermode": "closest",
          "mapbox": {
           "style": "light"
          },
          "paper_bgcolor": "white",
          "plot_bgcolor": "#E5ECF6",
          "polar": {
           "angularaxis": {
            "gridcolor": "white",
            "linecolor": "white",
            "ticks": ""
           },
           "bgcolor": "#E5ECF6",
           "radialaxis": {
            "gridcolor": "white",
            "linecolor": "white",
            "ticks": ""
           }
          },
          "scene": {
           "xaxis": {
            "backgroundcolor": "#E5ECF6",
            "gridcolor": "white",
            "gridwidth": 2,
            "linecolor": "white",
            "showbackground": true,
            "ticks": "",
            "zerolinecolor": "white"
           },
           "yaxis": {
            "backgroundcolor": "#E5ECF6",
            "gridcolor": "white",
            "gridwidth": 2,
            "linecolor": "white",
            "showbackground": true,
            "ticks": "",
            "zerolinecolor": "white"
           },
           "zaxis": {
            "backgroundcolor": "#E5ECF6",
            "gridcolor": "white",
            "gridwidth": 2,
            "linecolor": "white",
            "showbackground": true,
            "ticks": "",
            "zerolinecolor": "white"
           }
          },
          "shapedefaults": {
           "line": {
            "color": "#2a3f5f"
           }
          },
          "ternary": {
           "aaxis": {
            "gridcolor": "white",
            "linecolor": "white",
            "ticks": ""
           },
           "baxis": {
            "gridcolor": "white",
            "linecolor": "white",
            "ticks": ""
           },
           "bgcolor": "#E5ECF6",
           "caxis": {
            "gridcolor": "white",
            "linecolor": "white",
            "ticks": ""
           }
          },
          "title": {
           "x": 0.05
          },
          "xaxis": {
           "automargin": true,
           "gridcolor": "white",
           "linecolor": "white",
           "ticks": "",
           "title": {
            "standoff": 15
           },
           "zerolinecolor": "white",
           "zerolinewidth": 2
          },
          "yaxis": {
           "automargin": true,
           "gridcolor": "white",
           "linecolor": "white",
           "ticks": "",
           "title": {
            "standoff": 15
           },
           "zerolinecolor": "white",
           "zerolinewidth": 2
          }
         }
        },
        "xaxis": {
         "anchor": "y",
         "domain": [
          0,
          1
         ],
         "title": {
          "text": "sample"
         }
        },
        "yaxis": {
         "anchor": "x",
         "domain": [
          0,
          1
         ],
         "title": {
          "text": "count"
         }
        }
       }
      },
      "text/html": [
       "<div>                            <div id=\"a01327ab-df7f-4da8-8303-3cc397a89b75\" class=\"plotly-graph-div\" style=\"height:525px; width:100%;\"></div>            <script type=\"text/javascript\">                require([\"plotly\"], function(Plotly) {                    window.PLOTLYENV=window.PLOTLYENV || {};                                    if (document.getElementById(\"a01327ab-df7f-4da8-8303-3cc397a89b75\")) {                    Plotly.newPlot(                        \"a01327ab-df7f-4da8-8303-3cc397a89b75\",                        [{\"alignmentgroup\":\"True\",\"hovertemplate\":\"prediction_status=ashleys + mosaic<br>sample=%{x}<br>count=%{y}<extra></extra>\",\"legendgroup\":\"ashleys + mosaic\",\"marker\":{\"color\":\"green\",\"pattern\":{\"shape\":\"\"}},\"name\":\"ashleys + mosaic\",\"offsetgroup\":\"ashleys + mosaic\",\"orientation\":\"v\",\"showlegend\":true,\"textposition\":\"auto\",\"x\":[\"C7\",\"HGSVCpool1xulOPxEcho\",\"HGSVCpool1xulOPxmanual\",\"KM1096\",\"LCL\",\"PC7PC37PC39PC42\",\"RPE-BM510\",\"RPE1-WT\",\"RPE1BCL11A\"],\"xaxis\":\"x\",\"y\":[85,37,45,62,53,6,82,90,28],\"yaxis\":\"y\",\"type\":\"bar\"},{\"alignmentgroup\":\"True\",\"hovertemplate\":\"prediction_status=mosaic<br>sample=%{x}<br>count=%{y}<extra></extra>\",\"legendgroup\":\"mosaic\",\"marker\":{\"color\":\"lightgreen\",\"pattern\":{\"shape\":\"\"}},\"name\":\"mosaic\",\"offsetgroup\":\"mosaic\",\"orientation\":\"v\",\"showlegend\":true,\"textposition\":\"auto\",\"x\":[\"C7\",\"HGSVCpool1xulOPxEcho\",\"HGSVCpool1xulOPxmanual\",\"KM1096\",\"LCL\",\"PC7PC37PC39PC42\",\"RPE-BM510\",\"RPE1-WT\",\"RPE1BCL11A\"],\"xaxis\":\"x\",\"y\":[7,10,27,29,18,53,9,4,30],\"yaxis\":\"y\",\"type\":\"bar\"},{\"alignmentgroup\":\"True\",\"hovertemplate\":\"prediction_status=None<br>sample=%{x}<br>count=%{y}<extra></extra>\",\"legendgroup\":\"None\",\"marker\":{\"color\":\"red\",\"pattern\":{\"shape\":\"\"}},\"name\":\"None\",\"offsetgroup\":\"None\",\"orientation\":\"v\",\"showlegend\":true,\"textposition\":\"auto\",\"x\":[\"C7\",\"HGSVCpool1xulOPxEcho\",\"HGSVCpool1xulOPxmanual\",\"KM1096\",\"LCL\",\"PC7PC37PC39PC42\",\"RPE-BM510\",\"RPE1-WT\",\"RPE1BCL11A\"],\"xaxis\":\"x\",\"y\":[3,49,24,5,25,37,4,1,38],\"yaxis\":\"y\",\"type\":\"bar\"}],                        {\"template\":{\"data\":{\"histogram2dcontour\":[{\"type\":\"histogram2dcontour\",\"colorbar\":{\"outlinewidth\":0,\"ticks\":\"\"},\"colorscale\":[[0.0,\"#0d0887\"],[0.1111111111111111,\"#46039f\"],[0.2222222222222222,\"#7201a8\"],[0.3333333333333333,\"#9c179e\"],[0.4444444444444444,\"#bd3786\"],[0.5555555555555556,\"#d8576b\"],[0.6666666666666666,\"#ed7953\"],[0.7777777777777778,\"#fb9f3a\"],[0.8888888888888888,\"#fdca26\"],[1.0,\"#f0f921\"]]}],\"choropleth\":[{\"type\":\"choropleth\",\"colorbar\":{\"outlinewidth\":0,\"ticks\":\"\"}}],\"histogram2d\":[{\"type\":\"histogram2d\",\"colorbar\":{\"outlinewidth\":0,\"ticks\":\"\"},\"colorscale\":[[0.0,\"#0d0887\"],[0.1111111111111111,\"#46039f\"],[0.2222222222222222,\"#7201a8\"],[0.3333333333333333,\"#9c179e\"],[0.4444444444444444,\"#bd3786\"],[0.5555555555555556,\"#d8576b\"],[0.6666666666666666,\"#ed7953\"],[0.7777777777777778,\"#fb9f3a\"],[0.8888888888888888,\"#fdca26\"],[1.0,\"#f0f921\"]]}],\"heatmap\":[{\"type\":\"heatmap\",\"colorbar\":{\"outlinewidth\":0,\"ticks\":\"\"},\"colorscale\":[[0.0,\"#0d0887\"],[0.1111111111111111,\"#46039f\"],[0.2222222222222222,\"#7201a8\"],[0.3333333333333333,\"#9c179e\"],[0.4444444444444444,\"#bd3786\"],[0.5555555555555556,\"#d8576b\"],[0.6666666666666666,\"#ed7953\"],[0.7777777777777778,\"#fb9f3a\"],[0.8888888888888888,\"#fdca26\"],[1.0,\"#f0f921\"]]}],\"heatmapgl\":[{\"type\":\"heatmapgl\",\"colorbar\":{\"outlinewidth\":0,\"ticks\":\"\"},\"colorscale\":[[0.0,\"#0d0887\"],[0.1111111111111111,\"#46039f\"],[0.2222222222222222,\"#7201a8\"],[0.3333333333333333,\"#9c179e\"],[0.4444444444444444,\"#bd3786\"],[0.5555555555555556,\"#d8576b\"],[0.6666666666666666,\"#ed7953\"],[0.7777777777777778,\"#fb9f3a\"],[0.8888888888888888,\"#fdca26\"],[1.0,\"#f0f921\"]]}],\"contourcarpet\":[{\"type\":\"contourcarpet\",\"colorbar\":{\"outlinewidth\":0,\"ticks\":\"\"}}],\"contour\":[{\"type\":\"contour\",\"colorbar\":{\"outlinewidth\":0,\"ticks\":\"\"},\"colorscale\":[[0.0,\"#0d0887\"],[0.1111111111111111,\"#46039f\"],[0.2222222222222222,\"#7201a8\"],[0.3333333333333333,\"#9c179e\"],[0.4444444444444444,\"#bd3786\"],[0.5555555555555556,\"#d8576b\"],[0.6666666666666666,\"#ed7953\"],[0.7777777777777778,\"#fb9f3a\"],[0.8888888888888888,\"#fdca26\"],[1.0,\"#f0f921\"]]}],\"surface\":[{\"type\":\"surface\",\"colorbar\":{\"outlinewidth\":0,\"ticks\":\"\"},\"colorscale\":[[0.0,\"#0d0887\"],[0.1111111111111111,\"#46039f\"],[0.2222222222222222,\"#7201a8\"],[0.3333333333333333,\"#9c179e\"],[0.4444444444444444,\"#bd3786\"],[0.5555555555555556,\"#d8576b\"],[0.6666666666666666,\"#ed7953\"],[0.7777777777777778,\"#fb9f3a\"],[0.8888888888888888,\"#fdca26\"],[1.0,\"#f0f921\"]]}],\"mesh3d\":[{\"type\":\"mesh3d\",\"colorbar\":{\"outlinewidth\":0,\"ticks\":\"\"}}],\"scatter\":[{\"fillpattern\":{\"fillmode\":\"overlay\",\"size\":10,\"solidity\":0.2},\"type\":\"scatter\"}],\"parcoords\":[{\"type\":\"parcoords\",\"line\":{\"colorbar\":{\"outlinewidth\":0,\"ticks\":\"\"}}}],\"scatterpolargl\":[{\"type\":\"scatterpolargl\",\"marker\":{\"colorbar\":{\"outlinewidth\":0,\"ticks\":\"\"}}}],\"bar\":[{\"error_x\":{\"color\":\"#2a3f5f\"},\"error_y\":{\"color\":\"#2a3f5f\"},\"marker\":{\"line\":{\"color\":\"#E5ECF6\",\"width\":0.5},\"pattern\":{\"fillmode\":\"overlay\",\"size\":10,\"solidity\":0.2}},\"type\":\"bar\"}],\"scattergeo\":[{\"type\":\"scattergeo\",\"marker\":{\"colorbar\":{\"outlinewidth\":0,\"ticks\":\"\"}}}],\"scatterpolar\":[{\"type\":\"scatterpolar\",\"marker\":{\"colorbar\":{\"outlinewidth\":0,\"ticks\":\"\"}}}],\"histogram\":[{\"marker\":{\"pattern\":{\"fillmode\":\"overlay\",\"size\":10,\"solidity\":0.2}},\"type\":\"histogram\"}],\"scattergl\":[{\"type\":\"scattergl\",\"marker\":{\"colorbar\":{\"outlinewidth\":0,\"ticks\":\"\"}}}],\"scatter3d\":[{\"type\":\"scatter3d\",\"line\":{\"colorbar\":{\"outlinewidth\":0,\"ticks\":\"\"}},\"marker\":{\"colorbar\":{\"outlinewidth\":0,\"ticks\":\"\"}}}],\"scattermapbox\":[{\"type\":\"scattermapbox\",\"marker\":{\"colorbar\":{\"outlinewidth\":0,\"ticks\":\"\"}}}],\"scatterternary\":[{\"type\":\"scatterternary\",\"marker\":{\"colorbar\":{\"outlinewidth\":0,\"ticks\":\"\"}}}],\"scattercarpet\":[{\"type\":\"scattercarpet\",\"marker\":{\"colorbar\":{\"outlinewidth\":0,\"ticks\":\"\"}}}],\"carpet\":[{\"aaxis\":{\"endlinecolor\":\"#2a3f5f\",\"gridcolor\":\"white\",\"linecolor\":\"white\",\"minorgridcolor\":\"white\",\"startlinecolor\":\"#2a3f5f\"},\"baxis\":{\"endlinecolor\":\"#2a3f5f\",\"gridcolor\":\"white\",\"linecolor\":\"white\",\"minorgridcolor\":\"white\",\"startlinecolor\":\"#2a3f5f\"},\"type\":\"carpet\"}],\"table\":[{\"cells\":{\"fill\":{\"color\":\"#EBF0F8\"},\"line\":{\"color\":\"white\"}},\"header\":{\"fill\":{\"color\":\"#C8D4E3\"},\"line\":{\"color\":\"white\"}},\"type\":\"table\"}],\"barpolar\":[{\"marker\":{\"line\":{\"color\":\"#E5ECF6\",\"width\":0.5},\"pattern\":{\"fillmode\":\"overlay\",\"size\":10,\"solidity\":0.2}},\"type\":\"barpolar\"}],\"pie\":[{\"automargin\":true,\"type\":\"pie\"}]},\"layout\":{\"autotypenumbers\":\"strict\",\"colorway\":[\"#636efa\",\"#EF553B\",\"#00cc96\",\"#ab63fa\",\"#FFA15A\",\"#19d3f3\",\"#FF6692\",\"#B6E880\",\"#FF97FF\",\"#FECB52\"],\"font\":{\"color\":\"#2a3f5f\"},\"hovermode\":\"closest\",\"hoverlabel\":{\"align\":\"left\"},\"paper_bgcolor\":\"white\",\"plot_bgcolor\":\"#E5ECF6\",\"polar\":{\"bgcolor\":\"#E5ECF6\",\"angularaxis\":{\"gridcolor\":\"white\",\"linecolor\":\"white\",\"ticks\":\"\"},\"radialaxis\":{\"gridcolor\":\"white\",\"linecolor\":\"white\",\"ticks\":\"\"}},\"ternary\":{\"bgcolor\":\"#E5ECF6\",\"aaxis\":{\"gridcolor\":\"white\",\"linecolor\":\"white\",\"ticks\":\"\"},\"baxis\":{\"gridcolor\":\"white\",\"linecolor\":\"white\",\"ticks\":\"\"},\"caxis\":{\"gridcolor\":\"white\",\"linecolor\":\"white\",\"ticks\":\"\"}},\"coloraxis\":{\"colorbar\":{\"outlinewidth\":0,\"ticks\":\"\"}},\"colorscale\":{\"sequential\":[[0.0,\"#0d0887\"],[0.1111111111111111,\"#46039f\"],[0.2222222222222222,\"#7201a8\"],[0.3333333333333333,\"#9c179e\"],[0.4444444444444444,\"#bd3786\"],[0.5555555555555556,\"#d8576b\"],[0.6666666666666666,\"#ed7953\"],[0.7777777777777778,\"#fb9f3a\"],[0.8888888888888888,\"#fdca26\"],[1.0,\"#f0f921\"]],\"sequentialminus\":[[0.0,\"#0d0887\"],[0.1111111111111111,\"#46039f\"],[0.2222222222222222,\"#7201a8\"],[0.3333333333333333,\"#9c179e\"],[0.4444444444444444,\"#bd3786\"],[0.5555555555555556,\"#d8576b\"],[0.6666666666666666,\"#ed7953\"],[0.7777777777777778,\"#fb9f3a\"],[0.8888888888888888,\"#fdca26\"],[1.0,\"#f0f921\"]],\"diverging\":[[0,\"#8e0152\"],[0.1,\"#c51b7d\"],[0.2,\"#de77ae\"],[0.3,\"#f1b6da\"],[0.4,\"#fde0ef\"],[0.5,\"#f7f7f7\"],[0.6,\"#e6f5d0\"],[0.7,\"#b8e186\"],[0.8,\"#7fbc41\"],[0.9,\"#4d9221\"],[1,\"#276419\"]]},\"xaxis\":{\"gridcolor\":\"white\",\"linecolor\":\"white\",\"ticks\":\"\",\"title\":{\"standoff\":15},\"zerolinecolor\":\"white\",\"automargin\":true,\"zerolinewidth\":2},\"yaxis\":{\"gridcolor\":\"white\",\"linecolor\":\"white\",\"ticks\":\"\",\"title\":{\"standoff\":15},\"zerolinecolor\":\"white\",\"automargin\":true,\"zerolinewidth\":2},\"scene\":{\"xaxis\":{\"backgroundcolor\":\"#E5ECF6\",\"gridcolor\":\"white\",\"linecolor\":\"white\",\"showbackground\":true,\"ticks\":\"\",\"zerolinecolor\":\"white\",\"gridwidth\":2},\"yaxis\":{\"backgroundcolor\":\"#E5ECF6\",\"gridcolor\":\"white\",\"linecolor\":\"white\",\"showbackground\":true,\"ticks\":\"\",\"zerolinecolor\":\"white\",\"gridwidth\":2},\"zaxis\":{\"backgroundcolor\":\"#E5ECF6\",\"gridcolor\":\"white\",\"linecolor\":\"white\",\"showbackground\":true,\"ticks\":\"\",\"zerolinecolor\":\"white\",\"gridwidth\":2}},\"shapedefaults\":{\"line\":{\"color\":\"#2a3f5f\"}},\"annotationdefaults\":{\"arrowcolor\":\"#2a3f5f\",\"arrowhead\":0,\"arrowwidth\":1},\"geo\":{\"bgcolor\":\"white\",\"landcolor\":\"#E5ECF6\",\"subunitcolor\":\"white\",\"showland\":true,\"showlakes\":true,\"lakecolor\":\"white\"},\"title\":{\"x\":0.05},\"mapbox\":{\"style\":\"light\"}}},\"xaxis\":{\"anchor\":\"y\",\"domain\":[0.0,1.0],\"title\":{\"text\":\"sample\"}},\"yaxis\":{\"anchor\":\"x\",\"domain\":[0.0,1.0],\"title\":{\"text\":\"count\"}},\"legend\":{\"title\":{\"text\":\"prediction_status\"},\"tracegroupgap\":0},\"margin\":{\"t\":60},\"barmode\":\"stack\"},                        {\"responsive\": true}                    ).then(function(){\n",
       "                            \n",
       "var gd = document.getElementById('a01327ab-df7f-4da8-8303-3cc397a89b75');\n",
       "var x = new MutationObserver(function (mutations, observer) {{\n",
       "        var display = window.getComputedStyle(gd).display;\n",
       "        if (!display || display === 'none') {{\n",
       "            console.log([gd, 'removed!']);\n",
       "            Plotly.purge(gd);\n",
       "            observer.disconnect();\n",
       "        }}\n",
       "}});\n",
       "\n",
       "// Listen for the removal of the full notebook cells\n",
       "var notebookContainer = gd.closest('#notebook-container');\n",
       "if (notebookContainer) {{\n",
       "    x.observe(notebookContainer, {childList: true});\n",
       "}}\n",
       "\n",
       "// Listen for the clearing of the current output cell\n",
       "var outputEl = gd.closest('.output');\n",
       "if (outputEl) {{\n",
       "    x.observe(outputEl, {childList: true});\n",
       "}}\n",
       "\n",
       "                        })                };                });            </script>        </div>"
      ]
     },
     "metadata": {},
     "output_type": "display_data"
    }
   ],
   "source": [
    "px.bar(barplot_df_mosaic, x=\"sample\", y=\"count\", color=\"prediction_status\", barmode=\"stack\", color_discrete_map={\"ashleys + mosaic\" : \"green\", \"mosaic\" : \"lightgreen\", \"None\" : \"red\"})\n"
   ]
  },
  {
   "cell_type": "code",
   "execution_count": null,
   "metadata": {},
   "outputs": [
    {
     "data": {
      "text/html": [
       "<div>\n",
       "<style scoped>\n",
       "    .dataframe tbody tr th:only-of-type {\n",
       "        vertical-align: middle;\n",
       "    }\n",
       "\n",
       "    .dataframe tbody tr th {\n",
       "        vertical-align: top;\n",
       "    }\n",
       "\n",
       "    .dataframe thead th {\n",
       "        text-align: right;\n",
       "    }\n",
       "</style>\n",
       "<table border=\"1\" class=\"dataframe\">\n",
       "  <thead>\n",
       "    <tr style=\"text-align: right;\">\n",
       "      <th></th>\n",
       "      <th>cell</th>\n",
       "      <th>prediction</th>\n",
       "      <th>probability</th>\n",
       "      <th>sample</th>\n",
       "      <th>owner</th>\n",
       "      <th>group</th>\n",
       "      <th>datetime_modified</th>\n",
       "      <th>datetime_creation</th>\n",
       "      <th>medbin</th>\n",
       "      <th>mapped</th>\n",
       "      <th>...</th>\n",
       "      <th>good</th>\n",
       "      <th>pass1</th>\n",
       "      <th>nb_p</th>\n",
       "      <th>nb_r</th>\n",
       "      <th>nb_a</th>\n",
       "      <th>bam</th>\n",
       "      <th>Sample</th>\n",
       "      <th>prediction_status</th>\n",
       "      <th>good_zscore</th>\n",
       "      <th>%dupl</th>\n",
       "    </tr>\n",
       "  </thead>\n",
       "  <tbody>\n",
       "    <tr>\n",
       "      <th>0</th>\n",
       "      <td>RPE1WTPE20451</td>\n",
       "      <td>1</td>\n",
       "      <td>0.9726</td>\n",
       "      <td>RPE1-WT</td>\n",
       "      <td>tweber</td>\n",
       "      <td>korbel</td>\n",
       "      <td>2022-11-09</td>\n",
       "      <td>2022-11-09</td>\n",
       "      <td>11</td>\n",
       "      <td>1319388</td>\n",
       "      <td>...</td>\n",
       "      <td>175695</td>\n",
       "      <td>1</td>\n",
       "      <td>0.303386</td>\n",
       "      <td>5.23936</td>\n",
       "      <td>0.1</td>\n",
       "      <td>/scratch/tweber/DATA/MC_DATA/PAPER/RPE1-WT/bam...</td>\n",
       "      <td>RPE1-WT</td>\n",
       "      <td>ashleys + mosaic</td>\n",
       "      <td>-0.052425</td>\n",
       "      <td>67.149845</td>\n",
       "    </tr>\n",
       "    <tr>\n",
       "      <th>1</th>\n",
       "      <td>RPE1WTPE20484</td>\n",
       "      <td>1</td>\n",
       "      <td>0.9783</td>\n",
       "      <td>RPE1-WT</td>\n",
       "      <td>tweber</td>\n",
       "      <td>korbel</td>\n",
       "      <td>2022-11-09</td>\n",
       "      <td>2022-11-09</td>\n",
       "      <td>39</td>\n",
       "      <td>4489422</td>\n",
       "      <td>...</td>\n",
       "      <td>592443</td>\n",
       "      <td>1</td>\n",
       "      <td>0.303386</td>\n",
       "      <td>17.66280</td>\n",
       "      <td>0.1</td>\n",
       "      <td>/scratch/tweber/DATA/MC_DATA/PAPER/RPE1-WT/bam...</td>\n",
       "      <td>RPE1-WT</td>\n",
       "      <td>ashleys + mosaic</td>\n",
       "      <td>0.051586</td>\n",
       "      <td>66.701036</td>\n",
       "    </tr>\n",
       "    <tr>\n",
       "      <th>2</th>\n",
       "      <td>RPE1WTPE20480</td>\n",
       "      <td>1</td>\n",
       "      <td>0.9685</td>\n",
       "      <td>RPE1-WT</td>\n",
       "      <td>tweber</td>\n",
       "      <td>korbel</td>\n",
       "      <td>2022-11-09</td>\n",
       "      <td>2022-11-09</td>\n",
       "      <td>45</td>\n",
       "      <td>5074609</td>\n",
       "      <td>...</td>\n",
       "      <td>680729</td>\n",
       "      <td>1</td>\n",
       "      <td>0.303386</td>\n",
       "      <td>20.29770</td>\n",
       "      <td>0.1</td>\n",
       "      <td>/scratch/tweber/DATA/MC_DATA/PAPER/RPE1-WT/bam...</td>\n",
       "      <td>RPE1-WT</td>\n",
       "      <td>ashleys + mosaic</td>\n",
       "      <td>0.073620</td>\n",
       "      <td>67.019646</td>\n",
       "    </tr>\n",
       "    <tr>\n",
       "      <th>3</th>\n",
       "      <td>RPE1WTPE20431</td>\n",
       "      <td>1</td>\n",
       "      <td>0.9697</td>\n",
       "      <td>RPE1-WT</td>\n",
       "      <td>tweber</td>\n",
       "      <td>korbel</td>\n",
       "      <td>2022-11-09</td>\n",
       "      <td>2022-11-09</td>\n",
       "      <td>28</td>\n",
       "      <td>3351789</td>\n",
       "      <td>...</td>\n",
       "      <td>431794</td>\n",
       "      <td>1</td>\n",
       "      <td>0.303386</td>\n",
       "      <td>12.87370</td>\n",
       "      <td>0.1</td>\n",
       "      <td>/scratch/tweber/DATA/MC_DATA/PAPER/RPE1-WT/bam...</td>\n",
       "      <td>RPE1-WT</td>\n",
       "      <td>ashleys + mosaic</td>\n",
       "      <td>0.011491</td>\n",
       "      <td>67.709185</td>\n",
       "    </tr>\n",
       "    <tr>\n",
       "      <th>4</th>\n",
       "      <td>RPE1WTPE20448</td>\n",
       "      <td>1</td>\n",
       "      <td>0.9843</td>\n",
       "      <td>RPE1-WT</td>\n",
       "      <td>tweber</td>\n",
       "      <td>korbel</td>\n",
       "      <td>2022-11-09</td>\n",
       "      <td>2022-11-09</td>\n",
       "      <td>48</td>\n",
       "      <td>5352284</td>\n",
       "      <td>...</td>\n",
       "      <td>718991</td>\n",
       "      <td>1</td>\n",
       "      <td>0.303386</td>\n",
       "      <td>21.43710</td>\n",
       "      <td>0.1</td>\n",
       "      <td>/scratch/tweber/DATA/MC_DATA/PAPER/RPE1-WT/bam...</td>\n",
       "      <td>RPE1-WT</td>\n",
       "      <td>ashleys + mosaic</td>\n",
       "      <td>0.083169</td>\n",
       "      <td>66.542769</td>\n",
       "    </tr>\n",
       "    <tr>\n",
       "      <th>...</th>\n",
       "      <td>...</td>\n",
       "      <td>...</td>\n",
       "      <td>...</td>\n",
       "      <td>...</td>\n",
       "      <td>...</td>\n",
       "      <td>...</td>\n",
       "      <td>...</td>\n",
       "      <td>...</td>\n",
       "      <td>...</td>\n",
       "      <td>...</td>\n",
       "      <td>...</td>\n",
       "      <td>...</td>\n",
       "      <td>...</td>\n",
       "      <td>...</td>\n",
       "      <td>...</td>\n",
       "      <td>...</td>\n",
       "      <td>...</td>\n",
       "      <td>...</td>\n",
       "      <td>...</td>\n",
       "      <td>...</td>\n",
       "      <td>...</td>\n",
       "    </tr>\n",
       "    <tr>\n",
       "      <th>856</th>\n",
       "      <td>HGSVCpool1xulOPxEchoPE20592</td>\n",
       "      <td>0</td>\n",
       "      <td>0.0000</td>\n",
       "      <td>HGSVCpool1xulOPxEcho</td>\n",
       "      <td>tweber</td>\n",
       "      <td>korbel</td>\n",
       "      <td>2022-11-15</td>\n",
       "      <td>2022-11-15</td>\n",
       "      <td>0</td>\n",
       "      <td>59782</td>\n",
       "      <td>...</td>\n",
       "      <td>12419</td>\n",
       "      <td>0</td>\n",
       "      <td>0.000000</td>\n",
       "      <td>0.00000</td>\n",
       "      <td>0.0</td>\n",
       "      <td>/scratch/tweber/DATA/MC_DATA/EVA_1511_H33JMAFX...</td>\n",
       "      <td>HGSVCpool1xulOPxEcho</td>\n",
       "      <td>None</td>\n",
       "      <td>-0.093176</td>\n",
       "      <td>52.231441</td>\n",
       "    </tr>\n",
       "    <tr>\n",
       "      <th>857</th>\n",
       "      <td>HGSVCpool1xulOPxEchoPE20593</td>\n",
       "      <td>0</td>\n",
       "      <td>0.0000</td>\n",
       "      <td>HGSVCpool1xulOPxEcho</td>\n",
       "      <td>tweber</td>\n",
       "      <td>korbel</td>\n",
       "      <td>2022-11-15</td>\n",
       "      <td>2022-11-15</td>\n",
       "      <td>0</td>\n",
       "      <td>15884</td>\n",
       "      <td>...</td>\n",
       "      <td>653</td>\n",
       "      <td>0</td>\n",
       "      <td>0.000000</td>\n",
       "      <td>0.00000</td>\n",
       "      <td>0.0</td>\n",
       "      <td>/scratch/tweber/DATA/MC_DATA/EVA_1511_H33JMAFX...</td>\n",
       "      <td>HGSVCpool1xulOPxEcho</td>\n",
       "      <td>None</td>\n",
       "      <td>-0.096112</td>\n",
       "      <td>85.727776</td>\n",
       "    </tr>\n",
       "    <tr>\n",
       "      <th>858</th>\n",
       "      <td>HGSVCpool1xulOPxEchoPE20594</td>\n",
       "      <td>0</td>\n",
       "      <td>0.0000</td>\n",
       "      <td>HGSVCpool1xulOPxEcho</td>\n",
       "      <td>tweber</td>\n",
       "      <td>korbel</td>\n",
       "      <td>2022-11-15</td>\n",
       "      <td>2022-11-15</td>\n",
       "      <td>0</td>\n",
       "      <td>389</td>\n",
       "      <td>...</td>\n",
       "      <td>156</td>\n",
       "      <td>0</td>\n",
       "      <td>0.000000</td>\n",
       "      <td>0.00000</td>\n",
       "      <td>0.0</td>\n",
       "      <td>/scratch/tweber/DATA/MC_DATA/EVA_1511_H33JMAFX...</td>\n",
       "      <td>HGSVCpool1xulOPxEcho</td>\n",
       "      <td>None</td>\n",
       "      <td>-0.096236</td>\n",
       "      <td>9.511568</td>\n",
       "    </tr>\n",
       "    <tr>\n",
       "      <th>859</th>\n",
       "      <td>HGSVCpool1xulOPxEchoPE20595</td>\n",
       "      <td>0</td>\n",
       "      <td>0.0000</td>\n",
       "      <td>HGSVCpool1xulOPxEcho</td>\n",
       "      <td>tweber</td>\n",
       "      <td>korbel</td>\n",
       "      <td>2022-11-15</td>\n",
       "      <td>2022-11-15</td>\n",
       "      <td>0</td>\n",
       "      <td>5434</td>\n",
       "      <td>...</td>\n",
       "      <td>2248</td>\n",
       "      <td>0</td>\n",
       "      <td>0.000000</td>\n",
       "      <td>0.00000</td>\n",
       "      <td>0.0</td>\n",
       "      <td>/scratch/tweber/DATA/MC_DATA/EVA_1511_H33JMAFX...</td>\n",
       "      <td>HGSVCpool1xulOPxEcho</td>\n",
       "      <td>None</td>\n",
       "      <td>-0.095714</td>\n",
       "      <td>9.661391</td>\n",
       "    </tr>\n",
       "    <tr>\n",
       "      <th>860</th>\n",
       "      <td>HGSVCpool1xulOPxEchoPE20596</td>\n",
       "      <td>0</td>\n",
       "      <td>0.0000</td>\n",
       "      <td>HGSVCpool1xulOPxEcho</td>\n",
       "      <td>tweber</td>\n",
       "      <td>korbel</td>\n",
       "      <td>2022-11-15</td>\n",
       "      <td>2022-11-15</td>\n",
       "      <td>0</td>\n",
       "      <td>7015</td>\n",
       "      <td>...</td>\n",
       "      <td>3360</td>\n",
       "      <td>0</td>\n",
       "      <td>0.000000</td>\n",
       "      <td>0.00000</td>\n",
       "      <td>0.0</td>\n",
       "      <td>/scratch/tweber/DATA/MC_DATA/EVA_1511_H33JMAFX...</td>\n",
       "      <td>HGSVCpool1xulOPxEcho</td>\n",
       "      <td>None</td>\n",
       "      <td>-0.095436</td>\n",
       "      <td>0.570207</td>\n",
       "    </tr>\n",
       "  </tbody>\n",
       "</table>\n",
       "<p>860 rows × 24 columns</p>\n",
       "</div>"
      ],
      "text/plain": [
       "                            cell  prediction  probability  \\\n",
       "0                  RPE1WTPE20451           1       0.9726   \n",
       "1                  RPE1WTPE20484           1       0.9783   \n",
       "2                  RPE1WTPE20480           1       0.9685   \n",
       "3                  RPE1WTPE20431           1       0.9697   \n",
       "4                  RPE1WTPE20448           1       0.9843   \n",
       "..                           ...         ...          ...   \n",
       "856  HGSVCpool1xulOPxEchoPE20592           0       0.0000   \n",
       "857  HGSVCpool1xulOPxEchoPE20593           0       0.0000   \n",
       "858  HGSVCpool1xulOPxEchoPE20594           0       0.0000   \n",
       "859  HGSVCpool1xulOPxEchoPE20595           0       0.0000   \n",
       "860  HGSVCpool1xulOPxEchoPE20596           0       0.0000   \n",
       "\n",
       "                   sample   owner   group datetime_modified datetime_creation  \\\n",
       "0                 RPE1-WT  tweber  korbel        2022-11-09        2022-11-09   \n",
       "1                 RPE1-WT  tweber  korbel        2022-11-09        2022-11-09   \n",
       "2                 RPE1-WT  tweber  korbel        2022-11-09        2022-11-09   \n",
       "3                 RPE1-WT  tweber  korbel        2022-11-09        2022-11-09   \n",
       "4                 RPE1-WT  tweber  korbel        2022-11-09        2022-11-09   \n",
       "..                    ...     ...     ...               ...               ...   \n",
       "856  HGSVCpool1xulOPxEcho  tweber  korbel        2022-11-15        2022-11-15   \n",
       "857  HGSVCpool1xulOPxEcho  tweber  korbel        2022-11-15        2022-11-15   \n",
       "858  HGSVCpool1xulOPxEcho  tweber  korbel        2022-11-15        2022-11-15   \n",
       "859  HGSVCpool1xulOPxEcho  tweber  korbel        2022-11-15        2022-11-15   \n",
       "860  HGSVCpool1xulOPxEcho  tweber  korbel        2022-11-15        2022-11-15   \n",
       "\n",
       "     medbin   mapped  ...    good  pass1      nb_p      nb_r  nb_a  \\\n",
       "0        11  1319388  ...  175695      1  0.303386   5.23936   0.1   \n",
       "1        39  4489422  ...  592443      1  0.303386  17.66280   0.1   \n",
       "2        45  5074609  ...  680729      1  0.303386  20.29770   0.1   \n",
       "3        28  3351789  ...  431794      1  0.303386  12.87370   0.1   \n",
       "4        48  5352284  ...  718991      1  0.303386  21.43710   0.1   \n",
       "..      ...      ...  ...     ...    ...       ...       ...   ...   \n",
       "856       0    59782  ...   12419      0  0.000000   0.00000   0.0   \n",
       "857       0    15884  ...     653      0  0.000000   0.00000   0.0   \n",
       "858       0      389  ...     156      0  0.000000   0.00000   0.0   \n",
       "859       0     5434  ...    2248      0  0.000000   0.00000   0.0   \n",
       "860       0     7015  ...    3360      0  0.000000   0.00000   0.0   \n",
       "\n",
       "                                                   bam                Sample  \\\n",
       "0    /scratch/tweber/DATA/MC_DATA/PAPER/RPE1-WT/bam...               RPE1-WT   \n",
       "1    /scratch/tweber/DATA/MC_DATA/PAPER/RPE1-WT/bam...               RPE1-WT   \n",
       "2    /scratch/tweber/DATA/MC_DATA/PAPER/RPE1-WT/bam...               RPE1-WT   \n",
       "3    /scratch/tweber/DATA/MC_DATA/PAPER/RPE1-WT/bam...               RPE1-WT   \n",
       "4    /scratch/tweber/DATA/MC_DATA/PAPER/RPE1-WT/bam...               RPE1-WT   \n",
       "..                                                 ...                   ...   \n",
       "856  /scratch/tweber/DATA/MC_DATA/EVA_1511_H33JMAFX...  HGSVCpool1xulOPxEcho   \n",
       "857  /scratch/tweber/DATA/MC_DATA/EVA_1511_H33JMAFX...  HGSVCpool1xulOPxEcho   \n",
       "858  /scratch/tweber/DATA/MC_DATA/EVA_1511_H33JMAFX...  HGSVCpool1xulOPxEcho   \n",
       "859  /scratch/tweber/DATA/MC_DATA/EVA_1511_H33JMAFX...  HGSVCpool1xulOPxEcho   \n",
       "860  /scratch/tweber/DATA/MC_DATA/EVA_1511_H33JMAFX...  HGSVCpool1xulOPxEcho   \n",
       "\n",
       "     prediction_status  good_zscore      %dupl  \n",
       "0     ashleys + mosaic    -0.052425  67.149845  \n",
       "1     ashleys + mosaic     0.051586  66.701036  \n",
       "2     ashleys + mosaic     0.073620  67.019646  \n",
       "3     ashleys + mosaic     0.011491  67.709185  \n",
       "4     ashleys + mosaic     0.083169  66.542769  \n",
       "..                 ...          ...        ...  \n",
       "856               None    -0.093176  52.231441  \n",
       "857               None    -0.096112  85.727776  \n",
       "858               None    -0.096236   9.511568  \n",
       "859               None    -0.095714   9.661391  \n",
       "860               None    -0.095436   0.570207  \n",
       "\n",
       "[860 rows x 24 columns]"
      ]
     },
     "execution_count": 61,
     "metadata": {},
     "output_type": "execute_result"
    }
   ],
   "source": [
    "final_df[\"%dupl\"] = 100 * (final_df[\"dupl\"] / final_df[\"mapped\"])\n",
    "final_df[\"good_zscore\"] = scipy.stats.zscore(final_df.good.values.tolist())\n",
    "final_df.loc[final_df[\"good_zscore\"] < 5]"
   ]
  },
  {
   "cell_type": "code",
   "execution_count": null,
   "metadata": {},
   "outputs": [
    {
     "data": {
      "text/html": [
       "<svg  width=\"660\" height=\"55\"><rect x=\"0\" y=\"0\" width=\"55\" height=\"55\" style=\"fill:#a6cee3;stroke-width:2;stroke:rgb(255,255,255)\"/><rect x=\"55\" y=\"0\" width=\"55\" height=\"55\" style=\"fill:#1f78b4;stroke-width:2;stroke:rgb(255,255,255)\"/><rect x=\"110\" y=\"0\" width=\"55\" height=\"55\" style=\"fill:#b2df8a;stroke-width:2;stroke:rgb(255,255,255)\"/><rect x=\"165\" y=\"0\" width=\"55\" height=\"55\" style=\"fill:#33a02c;stroke-width:2;stroke:rgb(255,255,255)\"/><rect x=\"220\" y=\"0\" width=\"55\" height=\"55\" style=\"fill:#fb9a99;stroke-width:2;stroke:rgb(255,255,255)\"/><rect x=\"275\" y=\"0\" width=\"55\" height=\"55\" style=\"fill:#e31a1c;stroke-width:2;stroke:rgb(255,255,255)\"/><rect x=\"330\" y=\"0\" width=\"55\" height=\"55\" style=\"fill:#fdbf6f;stroke-width:2;stroke:rgb(255,255,255)\"/><rect x=\"385\" y=\"0\" width=\"55\" height=\"55\" style=\"fill:#ff7f00;stroke-width:2;stroke:rgb(255,255,255)\"/><rect x=\"440\" y=\"0\" width=\"55\" height=\"55\" style=\"fill:#cab2d6;stroke-width:2;stroke:rgb(255,255,255)\"/><rect x=\"495\" y=\"0\" width=\"55\" height=\"55\" style=\"fill:#6a3d9a;stroke-width:2;stroke:rgb(255,255,255)\"/><rect x=\"550\" y=\"0\" width=\"55\" height=\"55\" style=\"fill:#ffff99;stroke-width:2;stroke:rgb(255,255,255)\"/><rect x=\"605\" y=\"0\" width=\"55\" height=\"55\" style=\"fill:#b15928;stroke-width:2;stroke:rgb(255,255,255)\"/></svg>"
      ],
      "text/plain": [
       "[(0.6509803921568628, 0.807843137254902, 0.8901960784313725),\n",
       " (0.12156862745098039, 0.47058823529411764, 0.7058823529411765),\n",
       " (0.6980392156862745, 0.8745098039215686, 0.5411764705882353),\n",
       " (0.2, 0.6274509803921569, 0.17254901960784313),\n",
       " (0.984313725490196, 0.6039215686274509, 0.6),\n",
       " (0.8901960784313725, 0.10196078431372549, 0.10980392156862745),\n",
       " (0.9921568627450981, 0.7490196078431373, 0.43529411764705883),\n",
       " (1.0, 0.4980392156862745, 0.0),\n",
       " (0.792156862745098, 0.6980392156862745, 0.8392156862745098),\n",
       " (0.41568627450980394, 0.23921568627450981, 0.6039215686274509),\n",
       " (1.0, 1.0, 0.6),\n",
       " (0.6941176470588235, 0.34901960784313724, 0.1568627450980392)]"
      ]
     },
     "execution_count": 50,
     "metadata": {},
     "output_type": "execute_result"
    }
   ],
   "source": [
    "import seaborn as sns\n",
    "sns.color_palette(\"Paired\")\n"
   ]
  },
  {
   "cell_type": "code",
   "execution_count": null,
   "metadata": {},
   "outputs": [
    {
     "data": {
      "text/plain": [
       "12"
      ]
     },
     "execution_count": 52,
     "metadata": {},
     "output_type": "execute_result"
    }
   ],
   "source": [
    "len(sns.color_palette(\"Paired\"))"
   ]
  },
  {
   "cell_type": "code",
   "execution_count": null,
   "metadata": {},
   "outputs": [
    {
     "data": {
      "application/vnd.plotly.v1+json": {
       "config": {
        "plotlyServerURL": "https://plot.ly"
       },
       "data": [
        {
         "alignmentgroup": "True",
         "box": {
          "visible": true
         },
         "customdata": [
          [
           "RPE1WTPE20451"
          ],
          [
           "RPE1WTPE20484"
          ],
          [
           "RPE1WTPE20480"
          ],
          [
           "RPE1WTPE20431"
          ],
          [
           "RPE1WTPE20448"
          ],
          [
           "RPE1WTPE20447"
          ],
          [
           "RPE1WTPE20439"
          ],
          [
           "RPE1WTPE20421"
          ],
          [
           "RPE1WTPE20417"
          ],
          [
           "RPE1WTPE20461"
          ],
          [
           "RPE1WTPE20472"
          ],
          [
           "RPE1WTPE20464"
          ],
          [
           "RPE1WTPE20482"
          ],
          [
           "RPE1WTPE20466"
          ],
          [
           "RPE1WTPE20494"
          ],
          [
           "RPE1WTPE20458"
          ],
          [
           "RPE1WTPE20495"
          ],
          [
           "RPE1WTPE20403"
          ],
          [
           "RPE1WTPE20454"
          ],
          [
           "RPE1WTPE20455"
          ],
          [
           "RPE1WTPE20426"
          ],
          [
           "RPE1WTPE20446"
          ],
          [
           "RPE1WTPE20476"
          ],
          [
           "RPE1WTPE20450"
          ],
          [
           "RPE1WTPE20416"
          ],
          [
           "RPE1WTPE20423"
          ],
          [
           "RPE1WTPE20445"
          ],
          [
           "RPE1WTPE20428"
          ],
          [
           "RPE1WTPE20433"
          ],
          [
           "RPE1WTPE20457"
          ],
          [
           "RPE1WTPE20486"
          ],
          [
           "RPE1WTPE20459"
          ],
          [
           "RPE1WTPE20435"
          ],
          [
           "RPE1WTPE20420"
          ],
          [
           "RPE1WTPE20408"
          ],
          [
           "RPE1WTPE20430"
          ],
          [
           "RPE1WTPE20405"
          ],
          [
           "RPE1WTPE20410"
          ],
          [
           "RPE1WTPE20493"
          ],
          [
           "RPE1WTPE20441"
          ],
          [
           "RPE1WTPE20429"
          ],
          [
           "RPE1WTPE20477"
          ],
          [
           "RPE1WTPE20440"
          ],
          [
           "RPE1WTPE20468"
          ],
          [
           "RPE1WTPE20444"
          ],
          [
           "RPE1WTPE20469"
          ],
          [
           "RPE1WTPE20436"
          ],
          [
           "RPE1WTPE20437"
          ],
          [
           "RPE1WTPE20402"
          ],
          [
           "RPE1WTPE20424"
          ],
          [
           "RPE1WTPE20432"
          ],
          [
           "RPE1WTPE20438"
          ],
          [
           "RPE1WTPE20492"
          ],
          [
           "RPE1WTPE20481"
          ],
          [
           "RPE1WTPE20413"
          ],
          [
           "RPE1WTPE20449"
          ],
          [
           "RPE1WTPE20406"
          ],
          [
           "RPE1WTPE20456"
          ],
          [
           "RPE1WTPE20462"
          ],
          [
           "RPE1WTPE20473"
          ],
          [
           "RPE1WTPE20412"
          ],
          [
           "RPE1WTPE20470"
          ],
          [
           "RPE1WTPE20465"
          ],
          [
           "RPE1WTPE20422"
          ],
          [
           "RPE1WTPE20418"
          ],
          [
           "RPE1WTPE20463"
          ],
          [
           "RPE1WTPE20414"
          ],
          [
           "RPE1WTPE20434"
          ],
          [
           "RPE1WTPE20489"
          ],
          [
           "RPE1WTPE20425"
          ],
          [
           "RPE1WTPE20471"
          ],
          [
           "RPE1WTPE20467"
          ],
          [
           "RPE1WTPE20407"
          ],
          [
           "RPE1WTPE20479"
          ],
          [
           "RPE1WTPE20460"
          ],
          [
           "RPE1WTPE20401"
          ],
          [
           "RPE1WTPE20443"
          ],
          [
           "RPE1WTPE20411"
          ],
          [
           "RPE1WTPE20478"
          ],
          [
           "RPE1WTPE20415"
          ],
          [
           "RPE1WTPE20474"
          ],
          [
           "RPE1WTPE20453"
          ],
          [
           "RPE1WTPE20490"
          ],
          [
           "RPE1WTPE20419"
          ],
          [
           "RPE1WTPE20485"
          ],
          [
           "RPE1WTPE20442"
          ],
          [
           "RPE1WTPE20483"
          ],
          [
           "RPE1WTPE20452"
          ],
          [
           "RPE1WTPE20404"
          ],
          [
           "RPE1WTPE20491"
          ]
         ],
         "hovertemplate": "sample=%{x}<br>good=%{y}<br>cell=%{customdata[0]}<extra></extra>",
         "legendgroup": "RPE1-WT",
         "marker": {
          "color": "#636efa"
         },
         "name": "RPE1-WT",
         "offsetgroup": "RPE1-WT",
         "orientation": "v",
         "points": "all",
         "scalegroup": "True",
         "showlegend": true,
         "type": "violin",
         "x": [
          "RPE1-WT",
          "RPE1-WT",
          "RPE1-WT",
          "RPE1-WT",
          "RPE1-WT",
          "RPE1-WT",
          "RPE1-WT",
          "RPE1-WT",
          "RPE1-WT",
          "RPE1-WT",
          "RPE1-WT",
          "RPE1-WT",
          "RPE1-WT",
          "RPE1-WT",
          "RPE1-WT",
          "RPE1-WT",
          "RPE1-WT",
          "RPE1-WT",
          "RPE1-WT",
          "RPE1-WT",
          "RPE1-WT",
          "RPE1-WT",
          "RPE1-WT",
          "RPE1-WT",
          "RPE1-WT",
          "RPE1-WT",
          "RPE1-WT",
          "RPE1-WT",
          "RPE1-WT",
          "RPE1-WT",
          "RPE1-WT",
          "RPE1-WT",
          "RPE1-WT",
          "RPE1-WT",
          "RPE1-WT",
          "RPE1-WT",
          "RPE1-WT",
          "RPE1-WT",
          "RPE1-WT",
          "RPE1-WT",
          "RPE1-WT",
          "RPE1-WT",
          "RPE1-WT",
          "RPE1-WT",
          "RPE1-WT",
          "RPE1-WT",
          "RPE1-WT",
          "RPE1-WT",
          "RPE1-WT",
          "RPE1-WT",
          "RPE1-WT",
          "RPE1-WT",
          "RPE1-WT",
          "RPE1-WT",
          "RPE1-WT",
          "RPE1-WT",
          "RPE1-WT",
          "RPE1-WT",
          "RPE1-WT",
          "RPE1-WT",
          "RPE1-WT",
          "RPE1-WT",
          "RPE1-WT",
          "RPE1-WT",
          "RPE1-WT",
          "RPE1-WT",
          "RPE1-WT",
          "RPE1-WT",
          "RPE1-WT",
          "RPE1-WT",
          "RPE1-WT",
          "RPE1-WT",
          "RPE1-WT",
          "RPE1-WT",
          "RPE1-WT",
          "RPE1-WT",
          "RPE1-WT",
          "RPE1-WT",
          "RPE1-WT",
          "RPE1-WT",
          "RPE1-WT",
          "RPE1-WT",
          "RPE1-WT",
          "RPE1-WT",
          "RPE1-WT",
          "RPE1-WT",
          "RPE1-WT",
          "RPE1-WT",
          "RPE1-WT",
          "RPE1-WT"
         ],
         "x0": " ",
         "xaxis": "x",
         "y": [
          175695,
          592443,
          680729,
          431794,
          718991,
          348913,
          378962,
          269059,
          535481,
          357295,
          569325,
          394957,
          227050,
          535160,
          458599,
          382486,
          284339,
          428373,
          228420,
          413622,
          474387,
          189349,
          334024,
          227406,
          672896,
          406600,
          195881,
          420733,
          336571,
          345680,
          339650,
          253641,
          350341,
          600183,
          210179,
          684574,
          480834,
          862343,
          268461,
          205726,
          351766,
          153476,
          664636,
          298184,
          255384,
          355975,
          415089,
          394878,
          502039,
          613978,
          1002706,
          504654,
          197528,
          289574,
          278280,
          234089,
          422393,
          414816,
          197319,
          327269,
          526256,
          287663,
          250949,
          681916,
          389339,
          279843,
          669837,
          356577,
          363097,
          580208,
          283399,
          282253,
          356288,
          424445,
          382155,
          309789,
          525385,
          399297,
          550465,
          551094,
          482200,
          490407,
          681957,
          497693,
          234803,
          256460,
          251336,
          319992,
          697464,
          240409
         ],
         "y0": " ",
         "yaxis": "y"
        },
        {
         "alignmentgroup": "True",
         "box": {
          "visible": true
         },
         "customdata": [
          [
           "BM510x3PE20458"
          ],
          [
           "BM510x3PE20444"
          ],
          [
           "BM510x3PE20409"
          ],
          [
           "BM510x3PE20423"
          ],
          [
           "BM510x3PE20403"
          ],
          [
           "BM510x3PE20484"
          ],
          [
           "BM510x3PE20477"
          ],
          [
           "BM510x3PE20478"
          ],
          [
           "BM510x3PE20490"
          ],
          [
           "BM510x3PE20432"
          ],
          [
           "BM510x3PE20449"
          ],
          [
           "BM510x3PE20427"
          ],
          [
           "BM510x3PE20476"
          ],
          [
           "BM510x3PE20491"
          ],
          [
           "BM510x3PE20492"
          ],
          [
           "BM510x3PE20434"
          ],
          [
           "BM510x3PE20463"
          ],
          [
           "BM510x3PE20433"
          ],
          [
           "BM510x3PE20437"
          ],
          [
           "BM510x3PE20417"
          ],
          [
           "BM510x3PE20407"
          ],
          [
           "BM510x3PE20431"
          ],
          [
           "BM510x3PE20435"
          ],
          [
           "BM510x3PE20470"
          ],
          [
           "BM510x3PE20482"
          ],
          [
           "BM510x3PE20406"
          ],
          [
           "BM510x3PE20461"
          ],
          [
           "BM510x3PE20415"
          ],
          [
           "BM510x3PE20448"
          ],
          [
           "BM510x3PE20488"
          ],
          [
           "BM510x3PE20473"
          ],
          [
           "BM510x3PE20462"
          ],
          [
           "BM510x3PE20481"
          ],
          [
           "BM510x3PE20456"
          ],
          [
           "BM510x3PE20471"
          ],
          [
           "BM510x3PE20438"
          ],
          [
           "BM510x3PE20429"
          ],
          [
           "BM510x3PE20469"
          ],
          [
           "BM510x3PE20455"
          ],
          [
           "BM510x3PE20489"
          ],
          [
           "BM510x3PE20485"
          ],
          [
           "BM510x3PE20454"
          ],
          [
           "BM510x3PE20452"
          ],
          [
           "BM510x3PE20411"
          ],
          [
           "BM510x3PE20421"
          ],
          [
           "BM510x3PE20486"
          ],
          [
           "BM510x3PE20480"
          ],
          [
           "BM510x3PE20453"
          ],
          [
           "BM510x3PE20404"
          ],
          [
           "BM510x3PE20493"
          ],
          [
           "BM510x3PE20468"
          ],
          [
           "BM510x3PE20495"
          ],
          [
           "BM510x3PE20474"
          ],
          [
           "BM510x3PE20460"
          ],
          [
           "BM510x3PE20464"
          ],
          [
           "BM510x3PE20446"
          ],
          [
           "BM510x3PE20439"
          ],
          [
           "BM510x3PE20479"
          ],
          [
           "BM510x3PE20441"
          ],
          [
           "BM510x3PE20426"
          ],
          [
           "BM510x3PE20447"
          ],
          [
           "BM510x3PE20410"
          ],
          [
           "BM510x3PE20414"
          ],
          [
           "BM510x3PE20483"
          ],
          [
           "BM510x3PE20425"
          ],
          [
           "BM510x3PE20401"
          ],
          [
           "BM510x3PE20408"
          ],
          [
           "BM510x3PE20416"
          ],
          [
           "BM510x3PE20475"
          ],
          [
           "BM510x3PE20440"
          ],
          [
           "BM510x3PE20494"
          ],
          [
           "BM510x3PE20457"
          ],
          [
           "BM510x3PE20487"
          ],
          [
           "BM510x3PE20496"
          ],
          [
           "BM510x3PE20436"
          ],
          [
           "BM510x3PE20424"
          ],
          [
           "BM510x3PE20459"
          ],
          [
           "BM510x3PE20413"
          ],
          [
           "BM510x3PE20402"
          ],
          [
           "BM510x3PE20418"
          ],
          [
           "BM510x3PE20422"
          ],
          [
           "BM510x3PE20419"
          ]
         ],
         "hovertemplate": "sample=%{x}<br>good=%{y}<br>cell=%{customdata[0]}<extra></extra>",
         "legendgroup": "RPE-BM510",
         "marker": {
          "color": "#EF553B"
         },
         "name": "RPE-BM510",
         "offsetgroup": "RPE-BM510",
         "orientation": "v",
         "points": "all",
         "scalegroup": "True",
         "showlegend": true,
         "type": "violin",
         "x": [
          "RPE-BM510",
          "RPE-BM510",
          "RPE-BM510",
          "RPE-BM510",
          "RPE-BM510",
          "RPE-BM510",
          "RPE-BM510",
          "RPE-BM510",
          "RPE-BM510",
          "RPE-BM510",
          "RPE-BM510",
          "RPE-BM510",
          "RPE-BM510",
          "RPE-BM510",
          "RPE-BM510",
          "RPE-BM510",
          "RPE-BM510",
          "RPE-BM510",
          "RPE-BM510",
          "RPE-BM510",
          "RPE-BM510",
          "RPE-BM510",
          "RPE-BM510",
          "RPE-BM510",
          "RPE-BM510",
          "RPE-BM510",
          "RPE-BM510",
          "RPE-BM510",
          "RPE-BM510",
          "RPE-BM510",
          "RPE-BM510",
          "RPE-BM510",
          "RPE-BM510",
          "RPE-BM510",
          "RPE-BM510",
          "RPE-BM510",
          "RPE-BM510",
          "RPE-BM510",
          "RPE-BM510",
          "RPE-BM510",
          "RPE-BM510",
          "RPE-BM510",
          "RPE-BM510",
          "RPE-BM510",
          "RPE-BM510",
          "RPE-BM510",
          "RPE-BM510",
          "RPE-BM510",
          "RPE-BM510",
          "RPE-BM510",
          "RPE-BM510",
          "RPE-BM510",
          "RPE-BM510",
          "RPE-BM510",
          "RPE-BM510",
          "RPE-BM510",
          "RPE-BM510",
          "RPE-BM510",
          "RPE-BM510",
          "RPE-BM510",
          "RPE-BM510",
          "RPE-BM510",
          "RPE-BM510",
          "RPE-BM510",
          "RPE-BM510",
          "RPE-BM510",
          "RPE-BM510",
          "RPE-BM510",
          "RPE-BM510",
          "RPE-BM510",
          "RPE-BM510",
          "RPE-BM510",
          "RPE-BM510",
          "RPE-BM510",
          "RPE-BM510",
          "RPE-BM510",
          "RPE-BM510",
          "RPE-BM510",
          "RPE-BM510",
          "RPE-BM510",
          "RPE-BM510",
          "RPE-BM510"
         ],
         "x0": " ",
         "xaxis": "x",
         "y": [
          711764,
          349085,
          705050,
          364113,
          415054,
          268191,
          436220,
          446971,
          100492,
          533713,
          207962,
          211228,
          730970,
          747031,
          666546,
          300350,
          607873,
          342019,
          575636,
          241688,
          323467,
          780579,
          694278,
          280938,
          187043,
          557782,
          396098,
          684664,
          692699,
          444645,
          317940,
          536653,
          494558,
          528039,
          407669,
          318775,
          618062,
          461668,
          455254,
          193088,
          385248,
          500194,
          635331,
          504654,
          226455,
          465709,
          571951,
          376682,
          159925,
          296410,
          610298,
          412469,
          193520,
          281124,
          103804,
          164197,
          399187,
          471225,
          488117,
          277715,
          665026,
          241760,
          493615,
          243128,
          284974,
          402053,
          544794,
          466039,
          575506,
          488777,
          244213,
          213470,
          408946,
          589226,
          744443,
          438070,
          508451,
          214425,
          285912,
          317622,
          427545,
          337781
         ],
         "y0": " ",
         "yaxis": "y"
        },
        {
         "alignmentgroup": "True",
         "box": {
          "visible": true
         },
         "customdata": [
          [
           "GM20509Bx01PE20581"
          ],
          [
           "GM20509Bx01PE20562"
          ],
          [
           "GM20509Bx01PE20557"
          ],
          [
           "GM20509Bx01PE20565"
          ],
          [
           "GM20509Bx01PE20533"
          ],
          [
           "GM20509Bx01PE20553"
          ],
          [
           "GM20509Bx01PE20549"
          ],
          [
           "GM20509Bx01PE20587"
          ],
          [
           "GM20509Bx01PE20542"
          ],
          [
           "GM20509Bx01PE20530"
          ],
          [
           "GM20509Bx01PE20517"
          ],
          [
           "GM20509Bx01PE20526"
          ],
          [
           "GM20509Bx01PE20510"
          ],
          [
           "GM20509Bx01PE20537"
          ],
          [
           "GM20509Bx01PE20508"
          ],
          [
           "GM20509Bx01PE20544"
          ],
          [
           "GM20509Bx01PE20546"
          ],
          [
           "GM20509Bx01PE20560"
          ],
          [
           "GM20509Bx01PE20566"
          ],
          [
           "GM20509Bx01PE20529"
          ],
          [
           "GM20509Bx01PE20503"
          ],
          [
           "GM20509Bx01PE20541"
          ],
          [
           "GM20509Bx01PE20520"
          ],
          [
           "GM20509Bx01PE20555"
          ],
          [
           "GM20509Bx01PE20561"
          ],
          [
           "GM20509Bx01PE20579"
          ],
          [
           "GM20509Bx01PE20539"
          ],
          [
           "GM20509Bx01PE20515"
          ],
          [
           "GM20509Bx01PE20550"
          ],
          [
           "GM20509Bx01PE20568"
          ],
          [
           "GM20509Bx01PE20585"
          ],
          [
           "GM20509Bx01PE20552"
          ],
          [
           "GM20509Bx01PE20501"
          ],
          [
           "GM20509Bx01PE20548"
          ],
          [
           "GM20509Bx01PE20586"
          ],
          [
           "GM20509Bx01PE20525"
          ],
          [
           "GM20509Bx01PE20582"
          ],
          [
           "GM20509Bx01PE20576"
          ],
          [
           "GM20509Bx01PE20509"
          ],
          [
           "GM20509Bx01PE20506"
          ],
          [
           "GM20509Bx01PE20518"
          ],
          [
           "GM20509Bx01PE20569"
          ],
          [
           "GM20509Bx01PE20511"
          ],
          [
           "GM20509Bx01PE20531"
          ],
          [
           "GM20509Bx01PE20519"
          ],
          [
           "GM20509Bx01PE20589"
          ],
          [
           "GM20509Bx01PE20545"
          ],
          [
           "GM20509Bx01PE20514"
          ],
          [
           "GM20509Bx01PE20535"
          ],
          [
           "GM20509Bx01PE20556"
          ],
          [
           "GM20509Bx01PE20502"
          ],
          [
           "GM20509Bx01PE20547"
          ],
          [
           "GM20509Bx01PE20536"
          ]
         ],
         "hovertemplate": "sample=%{x}<br>good=%{y}<br>cell=%{customdata[0]}<extra></extra>",
         "legendgroup": "LCL",
         "marker": {
          "color": "#00cc96"
         },
         "name": "LCL",
         "offsetgroup": "LCL",
         "orientation": "v",
         "points": "all",
         "scalegroup": "True",
         "showlegend": true,
         "type": "violin",
         "x": [
          "LCL",
          "LCL",
          "LCL",
          "LCL",
          "LCL",
          "LCL",
          "LCL",
          "LCL",
          "LCL",
          "LCL",
          "LCL",
          "LCL",
          "LCL",
          "LCL",
          "LCL",
          "LCL",
          "LCL",
          "LCL",
          "LCL",
          "LCL",
          "LCL",
          "LCL",
          "LCL",
          "LCL",
          "LCL",
          "LCL",
          "LCL",
          "LCL",
          "LCL",
          "LCL",
          "LCL",
          "LCL",
          "LCL",
          "LCL",
          "LCL",
          "LCL",
          "LCL",
          "LCL",
          "LCL",
          "LCL",
          "LCL",
          "LCL",
          "LCL",
          "LCL",
          "LCL",
          "LCL",
          "LCL",
          "LCL",
          "LCL",
          "LCL",
          "LCL",
          "LCL",
          "LCL"
         ],
         "x0": " ",
         "xaxis": "x",
         "y": [
          326784,
          720882,
          450287,
          414042,
          450556,
          94189,
          497924,
          824158,
          427611,
          303564,
          639160,
          539145,
          120242,
          275636,
          332513,
          746002,
          251258,
          572969,
          709648,
          190982,
          415471,
          349521,
          113639,
          189601,
          150926,
          252826,
          466441,
          1979346,
          437227,
          109233,
          86927,
          176059,
          512252,
          170283,
          576323,
          834200,
          480420,
          559628,
          675559,
          320363,
          470494,
          313602,
          348730,
          122956,
          583402,
          190330,
          514619,
          127313,
          438464,
          452959,
          456209,
          419701,
          394974
         ],
         "y0": " ",
         "yaxis": "y"
        },
        {
         "alignmentgroup": "True",
         "box": {
          "visible": true
         },
         "customdata": [
          [
           "C7x02PE20351"
          ],
          [
           "C7x02PE20301"
          ],
          [
           "C7x02PE20359"
          ],
          [
           "C7x02PE20375"
          ],
          [
           "C7x02PE20332"
          ],
          [
           "C7x02PE20348"
          ],
          [
           "C7x02PE20358"
          ],
          [
           "C7x02PE20356"
          ],
          [
           "C7x02PE20324"
          ],
          [
           "C7x02PE20311"
          ],
          [
           "C7x02PE20367"
          ],
          [
           "C7x02PE20347"
          ],
          [
           "C7x02PE20390"
          ],
          [
           "C7x02PE20338"
          ],
          [
           "C7x02PE20328"
          ],
          [
           "C7x02PE20344"
          ],
          [
           "C7x02PE20319"
          ],
          [
           "C7x02PE20355"
          ],
          [
           "C7x02PE20326"
          ],
          [
           "C7x02PE20382"
          ],
          [
           "C7x02PE20391"
          ],
          [
           "C7x02PE20377"
          ],
          [
           "C7x02PE20369"
          ],
          [
           "C7x02PE20361"
          ],
          [
           "C7x02PE20310"
          ],
          [
           "C7x02PE20321"
          ],
          [
           "C7x02PE20334"
          ],
          [
           "C7x02PE20376"
          ],
          [
           "C7x02PE20383"
          ],
          [
           "C7x02PE20363"
          ],
          [
           "C7x02PE20362"
          ],
          [
           "C7x02PE20340"
          ],
          [
           "C7x02PE20370"
          ],
          [
           "C7x02PE20392"
          ],
          [
           "C7x02PE20374"
          ],
          [
           "C7x02PE20320"
          ],
          [
           "C7x02PE20341"
          ],
          [
           "C7x02PE20323"
          ],
          [
           "C7x02PE20302"
          ],
          [
           "C7x02PE20386"
          ],
          [
           "C7x02PE20304"
          ],
          [
           "C7x02PE20365"
          ],
          [
           "C7x02PE20368"
          ],
          [
           "C7x02PE20331"
          ],
          [
           "C7x02PE20353"
          ],
          [
           "C7x02PE20371"
          ],
          [
           "C7x02PE20345"
          ],
          [
           "C7x02PE20372"
          ],
          [
           "C7x02PE20307"
          ],
          [
           "C7x02PE20325"
          ],
          [
           "C7x02PE20337"
          ],
          [
           "C7x02PE20366"
          ],
          [
           "C7x02PE20349"
          ],
          [
           "C7x02PE20393"
          ],
          [
           "C7x02PE20333"
          ],
          [
           "C7x02PE20336"
          ],
          [
           "C7x02PE20364"
          ],
          [
           "C7x02PE20360"
          ],
          [
           "C7x02PE20309"
          ],
          [
           "C7x02PE20339"
          ],
          [
           "C7x02PE20327"
          ],
          [
           "C7x02PE20384"
          ],
          [
           "C7x02PE20379"
          ],
          [
           "C7x02PE20343"
          ],
          [
           "C7x02PE20346"
          ],
          [
           "C7x02PE20303"
          ],
          [
           "C7x02PE20350"
          ],
          [
           "C7x02PE20354"
          ],
          [
           "C7x02PE20387"
          ],
          [
           "C7x02PE20313"
          ],
          [
           "C7x02PE20388"
          ],
          [
           "C7x02PE20306"
          ],
          [
           "C7x02PE20335"
          ],
          [
           "C7x02PE20396"
          ],
          [
           "C7x02PE20330"
          ],
          [
           "C7x02PE20378"
          ],
          [
           "C7x02PE20317"
          ],
          [
           "C7x02PE20322"
          ],
          [
           "C7x02PE20342"
          ],
          [
           "C7x02PE20352"
          ],
          [
           "C7x02PE20308"
          ],
          [
           "C7x02PE20380"
          ],
          [
           "C7x02PE20316"
          ],
          [
           "C7x02PE20373"
          ],
          [
           "C7x02PE20318"
          ]
         ],
         "hovertemplate": "sample=%{x}<br>good=%{y}<br>cell=%{customdata[0]}<extra></extra>",
         "legendgroup": "C7",
         "marker": {
          "color": "#ab63fa"
         },
         "name": "C7",
         "offsetgroup": "C7",
         "orientation": "v",
         "points": "all",
         "scalegroup": "True",
         "showlegend": true,
         "type": "violin",
         "x": [
          "C7",
          "C7",
          "C7",
          "C7",
          "C7",
          "C7",
          "C7",
          "C7",
          "C7",
          "C7",
          "C7",
          "C7",
          "C7",
          "C7",
          "C7",
          "C7",
          "C7",
          "C7",
          "C7",
          "C7",
          "C7",
          "C7",
          "C7",
          "C7",
          "C7",
          "C7",
          "C7",
          "C7",
          "C7",
          "C7",
          "C7",
          "C7",
          "C7",
          "C7",
          "C7",
          "C7",
          "C7",
          "C7",
          "C7",
          "C7",
          "C7",
          "C7",
          "C7",
          "C7",
          "C7",
          "C7",
          "C7",
          "C7",
          "C7",
          "C7",
          "C7",
          "C7",
          "C7",
          "C7",
          "C7",
          "C7",
          "C7",
          "C7",
          "C7",
          "C7",
          "C7",
          "C7",
          "C7",
          "C7",
          "C7",
          "C7",
          "C7",
          "C7",
          "C7",
          "C7",
          "C7",
          "C7",
          "C7",
          "C7",
          "C7",
          "C7",
          "C7",
          "C7",
          "C7",
          "C7",
          "C7",
          "C7",
          "C7",
          "C7",
          "C7"
         ],
         "x0": " ",
         "xaxis": "x",
         "y": [
          440618,
          342373,
          205528,
          304704,
          531083,
          704225,
          426675,
          433348,
          674571,
          356927,
          165681,
          354976,
          300571,
          522242,
          241052,
          304543,
          406540,
          312300,
          249054,
          222660,
          263067,
          521167,
          415787,
          299354,
          365338,
          389882,
          218384,
          245169,
          238325,
          435945,
          129666,
          592847,
          466990,
          154772,
          422873,
          774595,
          594297,
          682185,
          175891,
          410836,
          464537,
          157278,
          382724,
          420665,
          179067,
          530235,
          230657,
          495389,
          346982,
          464241,
          356908,
          382624,
          569082,
          263291,
          309841,
          617002,
          564962,
          275934,
          576578,
          362356,
          458576,
          228308,
          590999,
          771586,
          338143,
          320057,
          493496,
          363665,
          271854,
          239562,
          323753,
          761771,
          648263,
          270095,
          383928,
          484562,
          318375,
          834190,
          449717,
          437321,
          788911,
          517798,
          406335,
          598558,
          320603
         ],
         "y0": " ",
         "yaxis": "y"
        },
        {
         "alignmentgroup": "True",
         "box": {
          "visible": true
         },
         "customdata": [
          [
           "RPE1BCL11Ax03PE20403"
          ],
          [
           "RPE1BCL11Ax03PE20405"
          ],
          [
           "RPE1BCL11Ax03PE20409"
          ],
          [
           "RPE1BCL11Ax03PE20410"
          ],
          [
           "RPE1BCL11Ax03PE20411"
          ],
          [
           "RPE1BCL11Ax03PE20418"
          ],
          [
           "RPE1BCL11Ax03PE20420"
          ],
          [
           "RPE1BCL11Ax03PE20421"
          ],
          [
           "RPE1BCL11Ax03PE20425"
          ],
          [
           "RPE1BCL11Ax03PE20426"
          ],
          [
           "RPE1BCL11Ax03PE20427"
          ],
          [
           "RPE1BCL11Ax03PE20432"
          ],
          [
           "RPE1BCL11Ax03PE20433"
          ],
          [
           "RPE1BCL11Ax03PE20440"
          ],
          [
           "RPE1BCL11Ax03PE20441"
          ],
          [
           "RPE1BCL11Ax03PE20443"
          ],
          [
           "RPE1BCL11Ax03PE20457"
          ],
          [
           "RPE1BCL11Ax03PE20461"
          ],
          [
           "RPE1BCL11Ax03PE20463"
          ],
          [
           "RPE1BCL11Ax03PE20465"
          ],
          [
           "RPE1BCL11Ax03PE20469"
          ],
          [
           "RPE1BCL11Ax03PE20475"
          ],
          [
           "RPE1BCL11Ax03PE20480"
          ],
          [
           "RPE1BCL11Ax03PE20482"
          ],
          [
           "RPE1BCL11Ax03PE20484"
          ],
          [
           "RPE1BCL11Ax03PE20485"
          ],
          [
           "RPE1BCL11Ax03PE20487"
          ],
          [
           "RPE1BCL11Ax03PE20490"
          ]
         ],
         "hovertemplate": "sample=%{x}<br>good=%{y}<br>cell=%{customdata[0]}<extra></extra>",
         "legendgroup": "RPE1BCL11A",
         "marker": {
          "color": "#FFA15A"
         },
         "name": "RPE1BCL11A",
         "offsetgroup": "RPE1BCL11A",
         "orientation": "v",
         "points": "all",
         "scalegroup": "True",
         "showlegend": true,
         "type": "violin",
         "x": [
          "RPE1BCL11A",
          "RPE1BCL11A",
          "RPE1BCL11A",
          "RPE1BCL11A",
          "RPE1BCL11A",
          "RPE1BCL11A",
          "RPE1BCL11A",
          "RPE1BCL11A",
          "RPE1BCL11A",
          "RPE1BCL11A",
          "RPE1BCL11A",
          "RPE1BCL11A",
          "RPE1BCL11A",
          "RPE1BCL11A",
          "RPE1BCL11A",
          "RPE1BCL11A",
          "RPE1BCL11A",
          "RPE1BCL11A",
          "RPE1BCL11A",
          "RPE1BCL11A",
          "RPE1BCL11A",
          "RPE1BCL11A",
          "RPE1BCL11A",
          "RPE1BCL11A",
          "RPE1BCL11A",
          "RPE1BCL11A",
          "RPE1BCL11A",
          "RPE1BCL11A"
         ],
         "x0": " ",
         "xaxis": "x",
         "y": [
          116404,
          96322,
          204006,
          112804,
          94997,
          95628,
          243916,
          115908,
          229708,
          83047,
          103077,
          97006,
          100514,
          1294918,
          70623,
          81926,
          116947,
          88612,
          91814,
          78449,
          87286,
          91767,
          111396,
          120341,
          137589,
          78226,
          92765,
          159335
         ],
         "y0": " ",
         "yaxis": "y"
        },
        {
         "alignmentgroup": "True",
         "box": {
          "visible": true
         },
         "customdata": [
          [
           "PC7PC37PC39PC42x01PE20326"
          ],
          [
           "PC7PC37PC39PC42x01PE20343"
          ],
          [
           "PC7PC37PC39PC42x01PE20348"
          ],
          [
           "PC7PC37PC39PC42x01PE20374"
          ],
          [
           "PC7PC37PC39PC42x01PE20393"
          ],
          [
           "PC7PC37PC39PC42x01PE20395"
          ]
         ],
         "hovertemplate": "sample=%{x}<br>good=%{y}<br>cell=%{customdata[0]}<extra></extra>",
         "legendgroup": "PC7PC37PC39PC42",
         "marker": {
          "color": "#19d3f3"
         },
         "name": "PC7PC37PC39PC42",
         "offsetgroup": "PC7PC37PC39PC42",
         "orientation": "v",
         "points": "all",
         "scalegroup": "True",
         "showlegend": true,
         "type": "violin",
         "x": [
          "PC7PC37PC39PC42",
          "PC7PC37PC39PC42",
          "PC7PC37PC39PC42",
          "PC7PC37PC39PC42",
          "PC7PC37PC39PC42",
          "PC7PC37PC39PC42"
         ],
         "x0": " ",
         "xaxis": "x",
         "y": [
          154798,
          153674,
          97632,
          153570,
          535760,
          221475
         ],
         "y0": " ",
         "yaxis": "y"
        },
        {
         "alignmentgroup": "True",
         "box": {
          "visible": true
         },
         "customdata": [
          [
           "HGSVCpool1xulOPxmanualPE20403"
          ],
          [
           "HGSVCpool1xulOPxmanualPE20406"
          ],
          [
           "HGSVCpool1xulOPxmanualPE20407"
          ],
          [
           "HGSVCpool1xulOPxmanualPE20408"
          ],
          [
           "HGSVCpool1xulOPxmanualPE20409"
          ],
          [
           "HGSVCpool1xulOPxmanualPE20410"
          ],
          [
           "HGSVCpool1xulOPxmanualPE20411"
          ],
          [
           "HGSVCpool1xulOPxmanualPE20414"
          ],
          [
           "HGSVCpool1xulOPxmanualPE20417"
          ],
          [
           "HGSVCpool1xulOPxmanualPE20420"
          ],
          [
           "HGSVCpool1xulOPxmanualPE20421"
          ],
          [
           "HGSVCpool1xulOPxmanualPE20422"
          ],
          [
           "HGSVCpool1xulOPxmanualPE20423"
          ],
          [
           "HGSVCpool1xulOPxmanualPE20424"
          ],
          [
           "HGSVCpool1xulOPxmanualPE20425"
          ],
          [
           "HGSVCpool1xulOPxmanualPE20429"
          ],
          [
           "HGSVCpool1xulOPxmanualPE20433"
          ],
          [
           "HGSVCpool1xulOPxmanualPE20435"
          ],
          [
           "HGSVCpool1xulOPxmanualPE20436"
          ],
          [
           "HGSVCpool1xulOPxmanualPE20439"
          ],
          [
           "HGSVCpool1xulOPxmanualPE20440"
          ],
          [
           "HGSVCpool1xulOPxmanualPE20441"
          ],
          [
           "HGSVCpool1xulOPxmanualPE20442"
          ],
          [
           "HGSVCpool1xulOPxmanualPE20449"
          ],
          [
           "HGSVCpool1xulOPxmanualPE20454"
          ],
          [
           "HGSVCpool1xulOPxmanualPE20456"
          ],
          [
           "HGSVCpool1xulOPxmanualPE20462"
          ],
          [
           "HGSVCpool1xulOPxmanualPE20463"
          ],
          [
           "HGSVCpool1xulOPxmanualPE20464"
          ],
          [
           "HGSVCpool1xulOPxmanualPE20466"
          ],
          [
           "HGSVCpool1xulOPxmanualPE20467"
          ],
          [
           "HGSVCpool1xulOPxmanualPE20468"
          ],
          [
           "HGSVCpool1xulOPxmanualPE20470"
          ],
          [
           "HGSVCpool1xulOPxmanualPE20472"
          ],
          [
           "HGSVCpool1xulOPxmanualPE20475"
          ],
          [
           "HGSVCpool1xulOPxmanualPE20477"
          ],
          [
           "HGSVCpool1xulOPxmanualPE20478"
          ],
          [
           "HGSVCpool1xulOPxmanualPE20479"
          ],
          [
           "HGSVCpool1xulOPxmanualPE20483"
          ],
          [
           "HGSVCpool1xulOPxmanualPE20484"
          ],
          [
           "HGSVCpool1xulOPxmanualPE20485"
          ],
          [
           "HGSVCpool1xulOPxmanualPE20488"
          ],
          [
           "HGSVCpool1xulOPxmanualPE20489"
          ],
          [
           "HGSVCpool1xulOPxmanualPE20492"
          ],
          [
           "HGSVCpool1xulOPxmanualPE20493"
          ]
         ],
         "hovertemplate": "sample=%{x}<br>good=%{y}<br>cell=%{customdata[0]}<extra></extra>",
         "legendgroup": "HGSVCpool1xulOPxmanual",
         "marker": {
          "color": "#FF6692"
         },
         "name": "HGSVCpool1xulOPxmanual",
         "offsetgroup": "HGSVCpool1xulOPxmanual",
         "orientation": "v",
         "points": "all",
         "scalegroup": "True",
         "showlegend": true,
         "type": "violin",
         "x": [
          "HGSVCpool1xulOPxmanual",
          "HGSVCpool1xulOPxmanual",
          "HGSVCpool1xulOPxmanual",
          "HGSVCpool1xulOPxmanual",
          "HGSVCpool1xulOPxmanual",
          "HGSVCpool1xulOPxmanual",
          "HGSVCpool1xulOPxmanual",
          "HGSVCpool1xulOPxmanual",
          "HGSVCpool1xulOPxmanual",
          "HGSVCpool1xulOPxmanual",
          "HGSVCpool1xulOPxmanual",
          "HGSVCpool1xulOPxmanual",
          "HGSVCpool1xulOPxmanual",
          "HGSVCpool1xulOPxmanual",
          "HGSVCpool1xulOPxmanual",
          "HGSVCpool1xulOPxmanual",
          "HGSVCpool1xulOPxmanual",
          "HGSVCpool1xulOPxmanual",
          "HGSVCpool1xulOPxmanual",
          "HGSVCpool1xulOPxmanual",
          "HGSVCpool1xulOPxmanual",
          "HGSVCpool1xulOPxmanual",
          "HGSVCpool1xulOPxmanual",
          "HGSVCpool1xulOPxmanual",
          "HGSVCpool1xulOPxmanual",
          "HGSVCpool1xulOPxmanual",
          "HGSVCpool1xulOPxmanual",
          "HGSVCpool1xulOPxmanual",
          "HGSVCpool1xulOPxmanual",
          "HGSVCpool1xulOPxmanual",
          "HGSVCpool1xulOPxmanual",
          "HGSVCpool1xulOPxmanual",
          "HGSVCpool1xulOPxmanual",
          "HGSVCpool1xulOPxmanual",
          "HGSVCpool1xulOPxmanual",
          "HGSVCpool1xulOPxmanual",
          "HGSVCpool1xulOPxmanual",
          "HGSVCpool1xulOPxmanual",
          "HGSVCpool1xulOPxmanual",
          "HGSVCpool1xulOPxmanual",
          "HGSVCpool1xulOPxmanual",
          "HGSVCpool1xulOPxmanual",
          "HGSVCpool1xulOPxmanual",
          "HGSVCpool1xulOPxmanual",
          "HGSVCpool1xulOPxmanual"
         ],
         "x0": " ",
         "xaxis": "x",
         "y": [
          398425,
          194229,
          330414,
          296693,
          438472,
          307677,
          160733,
          191976,
          193323,
          525548,
          321648,
          167487,
          550591,
          553487,
          231476,
          422020,
          141806,
          330533,
          358194,
          291204,
          166860,
          172239,
          90800,
          313087,
          79093,
          198604,
          95527,
          232404,
          230699,
          499076,
          239394,
          153412,
          293044,
          425302,
          276007,
          237494,
          126027,
          431737,
          471042,
          243355,
          533571,
          502377,
          430281,
          547656,
          486889
         ],
         "y0": " ",
         "yaxis": "y"
        },
        {
         "alignmentgroup": "True",
         "box": {
          "visible": true
         },
         "customdata": [
          [
           "KM1096PE20305"
          ],
          [
           "KM1096PE20307"
          ],
          [
           "KM1096PE20308"
          ],
          [
           "KM1096PE20309"
          ],
          [
           "KM1096PE20310"
          ],
          [
           "KM1096PE20311"
          ],
          [
           "KM1096PE20312"
          ],
          [
           "KM1096PE20313"
          ],
          [
           "KM1096PE20314"
          ],
          [
           "KM1096PE20315"
          ],
          [
           "KM1096PE20318"
          ],
          [
           "KM1096PE20319"
          ],
          [
           "KM1096PE20320"
          ],
          [
           "KM1096PE20321"
          ],
          [
           "KM1096PE20322"
          ],
          [
           "KM1096PE20324"
          ],
          [
           "KM1096PE20326"
          ],
          [
           "KM1096PE20327"
          ],
          [
           "KM1096PE20328"
          ],
          [
           "KM1096PE20329"
          ],
          [
           "KM1096PE20330"
          ],
          [
           "KM1096PE20331"
          ],
          [
           "KM1096PE20332"
          ],
          [
           "KM1096PE20333"
          ],
          [
           "KM1096PE20334"
          ],
          [
           "KM1096PE20336"
          ],
          [
           "KM1096PE20338"
          ],
          [
           "KM1096PE20339"
          ],
          [
           "KM1096PE20344"
          ],
          [
           "KM1096PE20345"
          ],
          [
           "KM1096PE20349"
          ],
          [
           "KM1096PE20350"
          ],
          [
           "KM1096PE20353"
          ],
          [
           "KM1096PE20354"
          ],
          [
           "KM1096PE20355"
          ],
          [
           "KM1096PE20356"
          ],
          [
           "KM1096PE20357"
          ],
          [
           "KM1096PE20360"
          ],
          [
           "KM1096PE20361"
          ],
          [
           "KM1096PE20362"
          ],
          [
           "KM1096PE20363"
          ],
          [
           "KM1096PE20364"
          ],
          [
           "KM1096PE20366"
          ],
          [
           "KM1096PE20367"
          ],
          [
           "KM1096PE20368"
          ],
          [
           "KM1096PE20370"
          ],
          [
           "KM1096PE20371"
          ],
          [
           "KM1096PE20373"
          ],
          [
           "KM1096PE20375"
          ],
          [
           "KM1096PE20378"
          ],
          [
           "KM1096PE20379"
          ],
          [
           "KM1096PE20380"
          ],
          [
           "KM1096PE20381"
          ],
          [
           "KM1096PE20382"
          ],
          [
           "KM1096PE20383"
          ],
          [
           "KM1096PE20384"
          ],
          [
           "KM1096PE20385"
          ],
          [
           "KM1096PE20390"
          ],
          [
           "KM1096PE20391"
          ],
          [
           "KM1096PE20393"
          ],
          [
           "KM1096PE20394"
          ],
          [
           "KM1096PE20395"
          ]
         ],
         "hovertemplate": "sample=%{x}<br>good=%{y}<br>cell=%{customdata[0]}<extra></extra>",
         "legendgroup": "KM1096",
         "marker": {
          "color": "#B6E880"
         },
         "name": "KM1096",
         "offsetgroup": "KM1096",
         "orientation": "v",
         "points": "all",
         "scalegroup": "True",
         "showlegend": true,
         "type": "violin",
         "x": [
          "KM1096",
          "KM1096",
          "KM1096",
          "KM1096",
          "KM1096",
          "KM1096",
          "KM1096",
          "KM1096",
          "KM1096",
          "KM1096",
          "KM1096",
          "KM1096",
          "KM1096",
          "KM1096",
          "KM1096",
          "KM1096",
          "KM1096",
          "KM1096",
          "KM1096",
          "KM1096",
          "KM1096",
          "KM1096",
          "KM1096",
          "KM1096",
          "KM1096",
          "KM1096",
          "KM1096",
          "KM1096",
          "KM1096",
          "KM1096",
          "KM1096",
          "KM1096",
          "KM1096",
          "KM1096",
          "KM1096",
          "KM1096",
          "KM1096",
          "KM1096",
          "KM1096",
          "KM1096",
          "KM1096",
          "KM1096",
          "KM1096",
          "KM1096",
          "KM1096",
          "KM1096",
          "KM1096",
          "KM1096",
          "KM1096",
          "KM1096",
          "KM1096",
          "KM1096",
          "KM1096",
          "KM1096",
          "KM1096",
          "KM1096",
          "KM1096",
          "KM1096",
          "KM1096",
          "KM1096",
          "KM1096",
          "KM1096"
         ],
         "x0": " ",
         "xaxis": "x",
         "y": [
          272073,
          376161,
          361599,
          327949,
          323280,
          293426,
          246388,
          255110,
          319140,
          291156,
          303223,
          287430,
          307557,
          218165,
          306353,
          227062,
          213668,
          235817,
          148175,
          385754,
          300911,
          227924,
          112685,
          126153,
          326878,
          207199,
          315482,
          288646,
          147320,
          191253,
          274595,
          93402,
          288624,
          268816,
          156645,
          246112,
          126745,
          420203,
          315342,
          234903,
          245364,
          419194,
          234205,
          253133,
          333444,
          401186,
          247594,
          172813,
          265322,
          286787,
          246891,
          461174,
          87477,
          200938,
          538203,
          147534,
          192276,
          279607,
          94941,
          409190,
          444549,
          239078
         ],
         "y0": " ",
         "yaxis": "y"
        },
        {
         "alignmentgroup": "True",
         "box": {
          "visible": true
         },
         "customdata": [
          [
           "HGSVCpool1xulOPxEchoPE20503"
          ],
          [
           "HGSVCpool1xulOPxEchoPE20505"
          ],
          [
           "HGSVCpool1xulOPxEchoPE20506"
          ],
          [
           "HGSVCpool1xulOPxEchoPE20509"
          ],
          [
           "HGSVCpool1xulOPxEchoPE20510"
          ],
          [
           "HGSVCpool1xulOPxEchoPE20511"
          ],
          [
           "HGSVCpool1xulOPxEchoPE20512"
          ],
          [
           "HGSVCpool1xulOPxEchoPE20513"
          ],
          [
           "HGSVCpool1xulOPxEchoPE20518"
          ],
          [
           "HGSVCpool1xulOPxEchoPE20519"
          ],
          [
           "HGSVCpool1xulOPxEchoPE20520"
          ],
          [
           "HGSVCpool1xulOPxEchoPE20521"
          ],
          [
           "HGSVCpool1xulOPxEchoPE20522"
          ],
          [
           "HGSVCpool1xulOPxEchoPE20525"
          ],
          [
           "HGSVCpool1xulOPxEchoPE20526"
          ],
          [
           "HGSVCpool1xulOPxEchoPE20527"
          ],
          [
           "HGSVCpool1xulOPxEchoPE20529"
          ],
          [
           "HGSVCpool1xulOPxEchoPE20533"
          ],
          [
           "HGSVCpool1xulOPxEchoPE20534"
          ],
          [
           "HGSVCpool1xulOPxEchoPE20535"
          ],
          [
           "HGSVCpool1xulOPxEchoPE20536"
          ],
          [
           "HGSVCpool1xulOPxEchoPE20538"
          ],
          [
           "HGSVCpool1xulOPxEchoPE20541"
          ],
          [
           "HGSVCpool1xulOPxEchoPE20542"
          ],
          [
           "HGSVCpool1xulOPxEchoPE20543"
          ],
          [
           "HGSVCpool1xulOPxEchoPE20550"
          ],
          [
           "HGSVCpool1xulOPxEchoPE20551"
          ],
          [
           "HGSVCpool1xulOPxEchoPE20552"
          ],
          [
           "HGSVCpool1xulOPxEchoPE20557"
          ],
          [
           "HGSVCpool1xulOPxEchoPE20558"
          ],
          [
           "HGSVCpool1xulOPxEchoPE20559"
          ],
          [
           "HGSVCpool1xulOPxEchoPE20565"
          ],
          [
           "HGSVCpool1xulOPxEchoPE20573"
          ],
          [
           "HGSVCpool1xulOPxEchoPE20574"
          ],
          [
           "HGSVCpool1xulOPxEchoPE20581"
          ],
          [
           "HGSVCpool1xulOPxEchoPE20582"
          ],
          [
           "HGSVCpool1xulOPxEchoPE20591"
          ]
         ],
         "hovertemplate": "sample=%{x}<br>good=%{y}<br>cell=%{customdata[0]}<extra></extra>",
         "legendgroup": "HGSVCpool1xulOPxEcho",
         "marker": {
          "color": "#FF97FF"
         },
         "name": "HGSVCpool1xulOPxEcho",
         "offsetgroup": "HGSVCpool1xulOPxEcho",
         "orientation": "v",
         "points": "all",
         "scalegroup": "True",
         "showlegend": true,
         "type": "violin",
         "x": [
          "HGSVCpool1xulOPxEcho",
          "HGSVCpool1xulOPxEcho",
          "HGSVCpool1xulOPxEcho",
          "HGSVCpool1xulOPxEcho",
          "HGSVCpool1xulOPxEcho",
          "HGSVCpool1xulOPxEcho",
          "HGSVCpool1xulOPxEcho",
          "HGSVCpool1xulOPxEcho",
          "HGSVCpool1xulOPxEcho",
          "HGSVCpool1xulOPxEcho",
          "HGSVCpool1xulOPxEcho",
          "HGSVCpool1xulOPxEcho",
          "HGSVCpool1xulOPxEcho",
          "HGSVCpool1xulOPxEcho",
          "HGSVCpool1xulOPxEcho",
          "HGSVCpool1xulOPxEcho",
          "HGSVCpool1xulOPxEcho",
          "HGSVCpool1xulOPxEcho",
          "HGSVCpool1xulOPxEcho",
          "HGSVCpool1xulOPxEcho",
          "HGSVCpool1xulOPxEcho",
          "HGSVCpool1xulOPxEcho",
          "HGSVCpool1xulOPxEcho",
          "HGSVCpool1xulOPxEcho",
          "HGSVCpool1xulOPxEcho",
          "HGSVCpool1xulOPxEcho",
          "HGSVCpool1xulOPxEcho",
          "HGSVCpool1xulOPxEcho",
          "HGSVCpool1xulOPxEcho",
          "HGSVCpool1xulOPxEcho",
          "HGSVCpool1xulOPxEcho",
          "HGSVCpool1xulOPxEcho",
          "HGSVCpool1xulOPxEcho",
          "HGSVCpool1xulOPxEcho",
          "HGSVCpool1xulOPxEcho",
          "HGSVCpool1xulOPxEcho",
          "HGSVCpool1xulOPxEcho"
         ],
         "x0": " ",
         "xaxis": "x",
         "y": [
          330299,
          143955,
          365231,
          286694,
          277035,
          215033,
          155787,
          344913,
          312492,
          190128,
          149496,
          105276,
          94553,
          169765,
          212562,
          178363,
          181793,
          197788,
          203134,
          185043,
          237303,
          66834,
          67685,
          251716,
          100236,
          316525,
          89743,
          271024,
          128144,
          144475,
          166333,
          159508,
          161349,
          129634,
          157333,
          195126,
          68552
         ],
         "y0": " ",
         "yaxis": "y"
        }
       ],
       "layout": {
        "legend": {
         "title": {
          "text": "sample"
         },
         "tracegroupgap": 0
        },
        "margin": {
         "t": 60
        },
        "template": {
         "data": {
          "bar": [
           {
            "error_x": {
             "color": "#2a3f5f"
            },
            "error_y": {
             "color": "#2a3f5f"
            },
            "marker": {
             "line": {
              "color": "#E5ECF6",
              "width": 0.5
             },
             "pattern": {
              "fillmode": "overlay",
              "size": 10,
              "solidity": 0.2
             }
            },
            "type": "bar"
           }
          ],
          "barpolar": [
           {
            "marker": {
             "line": {
              "color": "#E5ECF6",
              "width": 0.5
             },
             "pattern": {
              "fillmode": "overlay",
              "size": 10,
              "solidity": 0.2
             }
            },
            "type": "barpolar"
           }
          ],
          "carpet": [
           {
            "aaxis": {
             "endlinecolor": "#2a3f5f",
             "gridcolor": "white",
             "linecolor": "white",
             "minorgridcolor": "white",
             "startlinecolor": "#2a3f5f"
            },
            "baxis": {
             "endlinecolor": "#2a3f5f",
             "gridcolor": "white",
             "linecolor": "white",
             "minorgridcolor": "white",
             "startlinecolor": "#2a3f5f"
            },
            "type": "carpet"
           }
          ],
          "choropleth": [
           {
            "colorbar": {
             "outlinewidth": 0,
             "ticks": ""
            },
            "type": "choropleth"
           }
          ],
          "contour": [
           {
            "colorbar": {
             "outlinewidth": 0,
             "ticks": ""
            },
            "colorscale": [
             [
              0,
              "#0d0887"
             ],
             [
              0.1111111111111111,
              "#46039f"
             ],
             [
              0.2222222222222222,
              "#7201a8"
             ],
             [
              0.3333333333333333,
              "#9c179e"
             ],
             [
              0.4444444444444444,
              "#bd3786"
             ],
             [
              0.5555555555555556,
              "#d8576b"
             ],
             [
              0.6666666666666666,
              "#ed7953"
             ],
             [
              0.7777777777777778,
              "#fb9f3a"
             ],
             [
              0.8888888888888888,
              "#fdca26"
             ],
             [
              1,
              "#f0f921"
             ]
            ],
            "type": "contour"
           }
          ],
          "contourcarpet": [
           {
            "colorbar": {
             "outlinewidth": 0,
             "ticks": ""
            },
            "type": "contourcarpet"
           }
          ],
          "heatmap": [
           {
            "colorbar": {
             "outlinewidth": 0,
             "ticks": ""
            },
            "colorscale": [
             [
              0,
              "#0d0887"
             ],
             [
              0.1111111111111111,
              "#46039f"
             ],
             [
              0.2222222222222222,
              "#7201a8"
             ],
             [
              0.3333333333333333,
              "#9c179e"
             ],
             [
              0.4444444444444444,
              "#bd3786"
             ],
             [
              0.5555555555555556,
              "#d8576b"
             ],
             [
              0.6666666666666666,
              "#ed7953"
             ],
             [
              0.7777777777777778,
              "#fb9f3a"
             ],
             [
              0.8888888888888888,
              "#fdca26"
             ],
             [
              1,
              "#f0f921"
             ]
            ],
            "type": "heatmap"
           }
          ],
          "heatmapgl": [
           {
            "colorbar": {
             "outlinewidth": 0,
             "ticks": ""
            },
            "colorscale": [
             [
              0,
              "#0d0887"
             ],
             [
              0.1111111111111111,
              "#46039f"
             ],
             [
              0.2222222222222222,
              "#7201a8"
             ],
             [
              0.3333333333333333,
              "#9c179e"
             ],
             [
              0.4444444444444444,
              "#bd3786"
             ],
             [
              0.5555555555555556,
              "#d8576b"
             ],
             [
              0.6666666666666666,
              "#ed7953"
             ],
             [
              0.7777777777777778,
              "#fb9f3a"
             ],
             [
              0.8888888888888888,
              "#fdca26"
             ],
             [
              1,
              "#f0f921"
             ]
            ],
            "type": "heatmapgl"
           }
          ],
          "histogram": [
           {
            "marker": {
             "pattern": {
              "fillmode": "overlay",
              "size": 10,
              "solidity": 0.2
             }
            },
            "type": "histogram"
           }
          ],
          "histogram2d": [
           {
            "colorbar": {
             "outlinewidth": 0,
             "ticks": ""
            },
            "colorscale": [
             [
              0,
              "#0d0887"
             ],
             [
              0.1111111111111111,
              "#46039f"
             ],
             [
              0.2222222222222222,
              "#7201a8"
             ],
             [
              0.3333333333333333,
              "#9c179e"
             ],
             [
              0.4444444444444444,
              "#bd3786"
             ],
             [
              0.5555555555555556,
              "#d8576b"
             ],
             [
              0.6666666666666666,
              "#ed7953"
             ],
             [
              0.7777777777777778,
              "#fb9f3a"
             ],
             [
              0.8888888888888888,
              "#fdca26"
             ],
             [
              1,
              "#f0f921"
             ]
            ],
            "type": "histogram2d"
           }
          ],
          "histogram2dcontour": [
           {
            "colorbar": {
             "outlinewidth": 0,
             "ticks": ""
            },
            "colorscale": [
             [
              0,
              "#0d0887"
             ],
             [
              0.1111111111111111,
              "#46039f"
             ],
             [
              0.2222222222222222,
              "#7201a8"
             ],
             [
              0.3333333333333333,
              "#9c179e"
             ],
             [
              0.4444444444444444,
              "#bd3786"
             ],
             [
              0.5555555555555556,
              "#d8576b"
             ],
             [
              0.6666666666666666,
              "#ed7953"
             ],
             [
              0.7777777777777778,
              "#fb9f3a"
             ],
             [
              0.8888888888888888,
              "#fdca26"
             ],
             [
              1,
              "#f0f921"
             ]
            ],
            "type": "histogram2dcontour"
           }
          ],
          "mesh3d": [
           {
            "colorbar": {
             "outlinewidth": 0,
             "ticks": ""
            },
            "type": "mesh3d"
           }
          ],
          "parcoords": [
           {
            "line": {
             "colorbar": {
              "outlinewidth": 0,
              "ticks": ""
             }
            },
            "type": "parcoords"
           }
          ],
          "pie": [
           {
            "automargin": true,
            "type": "pie"
           }
          ],
          "scatter": [
           {
            "fillpattern": {
             "fillmode": "overlay",
             "size": 10,
             "solidity": 0.2
            },
            "type": "scatter"
           }
          ],
          "scatter3d": [
           {
            "line": {
             "colorbar": {
              "outlinewidth": 0,
              "ticks": ""
             }
            },
            "marker": {
             "colorbar": {
              "outlinewidth": 0,
              "ticks": ""
             }
            },
            "type": "scatter3d"
           }
          ],
          "scattercarpet": [
           {
            "marker": {
             "colorbar": {
              "outlinewidth": 0,
              "ticks": ""
             }
            },
            "type": "scattercarpet"
           }
          ],
          "scattergeo": [
           {
            "marker": {
             "colorbar": {
              "outlinewidth": 0,
              "ticks": ""
             }
            },
            "type": "scattergeo"
           }
          ],
          "scattergl": [
           {
            "marker": {
             "colorbar": {
              "outlinewidth": 0,
              "ticks": ""
             }
            },
            "type": "scattergl"
           }
          ],
          "scattermapbox": [
           {
            "marker": {
             "colorbar": {
              "outlinewidth": 0,
              "ticks": ""
             }
            },
            "type": "scattermapbox"
           }
          ],
          "scatterpolar": [
           {
            "marker": {
             "colorbar": {
              "outlinewidth": 0,
              "ticks": ""
             }
            },
            "type": "scatterpolar"
           }
          ],
          "scatterpolargl": [
           {
            "marker": {
             "colorbar": {
              "outlinewidth": 0,
              "ticks": ""
             }
            },
            "type": "scatterpolargl"
           }
          ],
          "scatterternary": [
           {
            "marker": {
             "colorbar": {
              "outlinewidth": 0,
              "ticks": ""
             }
            },
            "type": "scatterternary"
           }
          ],
          "surface": [
           {
            "colorbar": {
             "outlinewidth": 0,
             "ticks": ""
            },
            "colorscale": [
             [
              0,
              "#0d0887"
             ],
             [
              0.1111111111111111,
              "#46039f"
             ],
             [
              0.2222222222222222,
              "#7201a8"
             ],
             [
              0.3333333333333333,
              "#9c179e"
             ],
             [
              0.4444444444444444,
              "#bd3786"
             ],
             [
              0.5555555555555556,
              "#d8576b"
             ],
             [
              0.6666666666666666,
              "#ed7953"
             ],
             [
              0.7777777777777778,
              "#fb9f3a"
             ],
             [
              0.8888888888888888,
              "#fdca26"
             ],
             [
              1,
              "#f0f921"
             ]
            ],
            "type": "surface"
           }
          ],
          "table": [
           {
            "cells": {
             "fill": {
              "color": "#EBF0F8"
             },
             "line": {
              "color": "white"
             }
            },
            "header": {
             "fill": {
              "color": "#C8D4E3"
             },
             "line": {
              "color": "white"
             }
            },
            "type": "table"
           }
          ]
         },
         "layout": {
          "annotationdefaults": {
           "arrowcolor": "#2a3f5f",
           "arrowhead": 0,
           "arrowwidth": 1
          },
          "autotypenumbers": "strict",
          "coloraxis": {
           "colorbar": {
            "outlinewidth": 0,
            "ticks": ""
           }
          },
          "colorscale": {
           "diverging": [
            [
             0,
             "#8e0152"
            ],
            [
             0.1,
             "#c51b7d"
            ],
            [
             0.2,
             "#de77ae"
            ],
            [
             0.3,
             "#f1b6da"
            ],
            [
             0.4,
             "#fde0ef"
            ],
            [
             0.5,
             "#f7f7f7"
            ],
            [
             0.6,
             "#e6f5d0"
            ],
            [
             0.7,
             "#b8e186"
            ],
            [
             0.8,
             "#7fbc41"
            ],
            [
             0.9,
             "#4d9221"
            ],
            [
             1,
             "#276419"
            ]
           ],
           "sequential": [
            [
             0,
             "#0d0887"
            ],
            [
             0.1111111111111111,
             "#46039f"
            ],
            [
             0.2222222222222222,
             "#7201a8"
            ],
            [
             0.3333333333333333,
             "#9c179e"
            ],
            [
             0.4444444444444444,
             "#bd3786"
            ],
            [
             0.5555555555555556,
             "#d8576b"
            ],
            [
             0.6666666666666666,
             "#ed7953"
            ],
            [
             0.7777777777777778,
             "#fb9f3a"
            ],
            [
             0.8888888888888888,
             "#fdca26"
            ],
            [
             1,
             "#f0f921"
            ]
           ],
           "sequentialminus": [
            [
             0,
             "#0d0887"
            ],
            [
             0.1111111111111111,
             "#46039f"
            ],
            [
             0.2222222222222222,
             "#7201a8"
            ],
            [
             0.3333333333333333,
             "#9c179e"
            ],
            [
             0.4444444444444444,
             "#bd3786"
            ],
            [
             0.5555555555555556,
             "#d8576b"
            ],
            [
             0.6666666666666666,
             "#ed7953"
            ],
            [
             0.7777777777777778,
             "#fb9f3a"
            ],
            [
             0.8888888888888888,
             "#fdca26"
            ],
            [
             1,
             "#f0f921"
            ]
           ]
          },
          "colorway": [
           "#636efa",
           "#EF553B",
           "#00cc96",
           "#ab63fa",
           "#FFA15A",
           "#19d3f3",
           "#FF6692",
           "#B6E880",
           "#FF97FF",
           "#FECB52"
          ],
          "font": {
           "color": "#2a3f5f"
          },
          "geo": {
           "bgcolor": "white",
           "lakecolor": "white",
           "landcolor": "#E5ECF6",
           "showlakes": true,
           "showland": true,
           "subunitcolor": "white"
          },
          "hoverlabel": {
           "align": "left"
          },
          "hovermode": "closest",
          "mapbox": {
           "style": "light"
          },
          "paper_bgcolor": "white",
          "plot_bgcolor": "#E5ECF6",
          "polar": {
           "angularaxis": {
            "gridcolor": "white",
            "linecolor": "white",
            "ticks": ""
           },
           "bgcolor": "#E5ECF6",
           "radialaxis": {
            "gridcolor": "white",
            "linecolor": "white",
            "ticks": ""
           }
          },
          "scene": {
           "xaxis": {
            "backgroundcolor": "#E5ECF6",
            "gridcolor": "white",
            "gridwidth": 2,
            "linecolor": "white",
            "showbackground": true,
            "ticks": "",
            "zerolinecolor": "white"
           },
           "yaxis": {
            "backgroundcolor": "#E5ECF6",
            "gridcolor": "white",
            "gridwidth": 2,
            "linecolor": "white",
            "showbackground": true,
            "ticks": "",
            "zerolinecolor": "white"
           },
           "zaxis": {
            "backgroundcolor": "#E5ECF6",
            "gridcolor": "white",
            "gridwidth": 2,
            "linecolor": "white",
            "showbackground": true,
            "ticks": "",
            "zerolinecolor": "white"
           }
          },
          "shapedefaults": {
           "line": {
            "color": "#2a3f5f"
           }
          },
          "ternary": {
           "aaxis": {
            "gridcolor": "white",
            "linecolor": "white",
            "ticks": ""
           },
           "baxis": {
            "gridcolor": "white",
            "linecolor": "white",
            "ticks": ""
           },
           "bgcolor": "#E5ECF6",
           "caxis": {
            "gridcolor": "white",
            "linecolor": "white",
            "ticks": ""
           }
          },
          "title": {
           "x": 0.05
          },
          "xaxis": {
           "automargin": true,
           "gridcolor": "white",
           "linecolor": "white",
           "ticks": "",
           "title": {
            "standoff": 15
           },
           "zerolinecolor": "white",
           "zerolinewidth": 2
          },
          "yaxis": {
           "automargin": true,
           "gridcolor": "white",
           "linecolor": "white",
           "ticks": "",
           "title": {
            "standoff": 15
           },
           "zerolinecolor": "white",
           "zerolinewidth": 2
          }
         }
        },
        "violinmode": "overlay",
        "xaxis": {
         "anchor": "y",
         "categoryarray": [
          "RPE1-WT",
          "RPE-BM510",
          "LCL",
          "C7",
          "RPE1BCL11A",
          "PC7PC37PC39PC42",
          "HGSVCpool1xulOPxmanual",
          "KM1096",
          "HGSVCpool1xulOPxEcho"
         ],
         "categoryorder": "array",
         "domain": [
          0,
          1
         ],
         "title": {
          "text": "sample"
         }
        },
        "yaxis": {
         "anchor": "x",
         "domain": [
          0,
          1
         ],
         "title": {
          "text": "good"
         }
        }
       }
      },
      "text/html": [
       "<div>                            <div id=\"90697b32-b02c-441a-b8f0-8bce3b7052cc\" class=\"plotly-graph-div\" style=\"height:525px; width:100%;\"></div>            <script type=\"text/javascript\">                require([\"plotly\"], function(Plotly) {                    window.PLOTLYENV=window.PLOTLYENV || {};                                    if (document.getElementById(\"90697b32-b02c-441a-b8f0-8bce3b7052cc\")) {                    Plotly.newPlot(                        \"90697b32-b02c-441a-b8f0-8bce3b7052cc\",                        [{\"alignmentgroup\":\"True\",\"box\":{\"visible\":true},\"customdata\":[[\"RPE1WTPE20451\"],[\"RPE1WTPE20484\"],[\"RPE1WTPE20480\"],[\"RPE1WTPE20431\"],[\"RPE1WTPE20448\"],[\"RPE1WTPE20447\"],[\"RPE1WTPE20439\"],[\"RPE1WTPE20421\"],[\"RPE1WTPE20417\"],[\"RPE1WTPE20461\"],[\"RPE1WTPE20472\"],[\"RPE1WTPE20464\"],[\"RPE1WTPE20482\"],[\"RPE1WTPE20466\"],[\"RPE1WTPE20494\"],[\"RPE1WTPE20458\"],[\"RPE1WTPE20495\"],[\"RPE1WTPE20403\"],[\"RPE1WTPE20454\"],[\"RPE1WTPE20455\"],[\"RPE1WTPE20426\"],[\"RPE1WTPE20446\"],[\"RPE1WTPE20476\"],[\"RPE1WTPE20450\"],[\"RPE1WTPE20416\"],[\"RPE1WTPE20423\"],[\"RPE1WTPE20445\"],[\"RPE1WTPE20428\"],[\"RPE1WTPE20433\"],[\"RPE1WTPE20457\"],[\"RPE1WTPE20486\"],[\"RPE1WTPE20459\"],[\"RPE1WTPE20435\"],[\"RPE1WTPE20420\"],[\"RPE1WTPE20408\"],[\"RPE1WTPE20430\"],[\"RPE1WTPE20405\"],[\"RPE1WTPE20410\"],[\"RPE1WTPE20493\"],[\"RPE1WTPE20441\"],[\"RPE1WTPE20429\"],[\"RPE1WTPE20477\"],[\"RPE1WTPE20440\"],[\"RPE1WTPE20468\"],[\"RPE1WTPE20444\"],[\"RPE1WTPE20469\"],[\"RPE1WTPE20436\"],[\"RPE1WTPE20437\"],[\"RPE1WTPE20402\"],[\"RPE1WTPE20424\"],[\"RPE1WTPE20432\"],[\"RPE1WTPE20438\"],[\"RPE1WTPE20492\"],[\"RPE1WTPE20481\"],[\"RPE1WTPE20413\"],[\"RPE1WTPE20449\"],[\"RPE1WTPE20406\"],[\"RPE1WTPE20456\"],[\"RPE1WTPE20462\"],[\"RPE1WTPE20473\"],[\"RPE1WTPE20412\"],[\"RPE1WTPE20470\"],[\"RPE1WTPE20465\"],[\"RPE1WTPE20422\"],[\"RPE1WTPE20418\"],[\"RPE1WTPE20463\"],[\"RPE1WTPE20414\"],[\"RPE1WTPE20434\"],[\"RPE1WTPE20489\"],[\"RPE1WTPE20425\"],[\"RPE1WTPE20471\"],[\"RPE1WTPE20467\"],[\"RPE1WTPE20407\"],[\"RPE1WTPE20479\"],[\"RPE1WTPE20460\"],[\"RPE1WTPE20401\"],[\"RPE1WTPE20443\"],[\"RPE1WTPE20411\"],[\"RPE1WTPE20478\"],[\"RPE1WTPE20415\"],[\"RPE1WTPE20474\"],[\"RPE1WTPE20453\"],[\"RPE1WTPE20490\"],[\"RPE1WTPE20419\"],[\"RPE1WTPE20485\"],[\"RPE1WTPE20442\"],[\"RPE1WTPE20483\"],[\"RPE1WTPE20452\"],[\"RPE1WTPE20404\"],[\"RPE1WTPE20491\"]],\"hovertemplate\":\"sample=%{x}<br>good=%{y}<br>cell=%{customdata[0]}<extra></extra>\",\"legendgroup\":\"RPE1-WT\",\"marker\":{\"color\":\"#636efa\"},\"name\":\"RPE1-WT\",\"offsetgroup\":\"RPE1-WT\",\"orientation\":\"v\",\"points\":\"all\",\"scalegroup\":\"True\",\"showlegend\":true,\"x\":[\"RPE1-WT\",\"RPE1-WT\",\"RPE1-WT\",\"RPE1-WT\",\"RPE1-WT\",\"RPE1-WT\",\"RPE1-WT\",\"RPE1-WT\",\"RPE1-WT\",\"RPE1-WT\",\"RPE1-WT\",\"RPE1-WT\",\"RPE1-WT\",\"RPE1-WT\",\"RPE1-WT\",\"RPE1-WT\",\"RPE1-WT\",\"RPE1-WT\",\"RPE1-WT\",\"RPE1-WT\",\"RPE1-WT\",\"RPE1-WT\",\"RPE1-WT\",\"RPE1-WT\",\"RPE1-WT\",\"RPE1-WT\",\"RPE1-WT\",\"RPE1-WT\",\"RPE1-WT\",\"RPE1-WT\",\"RPE1-WT\",\"RPE1-WT\",\"RPE1-WT\",\"RPE1-WT\",\"RPE1-WT\",\"RPE1-WT\",\"RPE1-WT\",\"RPE1-WT\",\"RPE1-WT\",\"RPE1-WT\",\"RPE1-WT\",\"RPE1-WT\",\"RPE1-WT\",\"RPE1-WT\",\"RPE1-WT\",\"RPE1-WT\",\"RPE1-WT\",\"RPE1-WT\",\"RPE1-WT\",\"RPE1-WT\",\"RPE1-WT\",\"RPE1-WT\",\"RPE1-WT\",\"RPE1-WT\",\"RPE1-WT\",\"RPE1-WT\",\"RPE1-WT\",\"RPE1-WT\",\"RPE1-WT\",\"RPE1-WT\",\"RPE1-WT\",\"RPE1-WT\",\"RPE1-WT\",\"RPE1-WT\",\"RPE1-WT\",\"RPE1-WT\",\"RPE1-WT\",\"RPE1-WT\",\"RPE1-WT\",\"RPE1-WT\",\"RPE1-WT\",\"RPE1-WT\",\"RPE1-WT\",\"RPE1-WT\",\"RPE1-WT\",\"RPE1-WT\",\"RPE1-WT\",\"RPE1-WT\",\"RPE1-WT\",\"RPE1-WT\",\"RPE1-WT\",\"RPE1-WT\",\"RPE1-WT\",\"RPE1-WT\",\"RPE1-WT\",\"RPE1-WT\",\"RPE1-WT\",\"RPE1-WT\",\"RPE1-WT\",\"RPE1-WT\"],\"x0\":\" \",\"xaxis\":\"x\",\"y\":[175695,592443,680729,431794,718991,348913,378962,269059,535481,357295,569325,394957,227050,535160,458599,382486,284339,428373,228420,413622,474387,189349,334024,227406,672896,406600,195881,420733,336571,345680,339650,253641,350341,600183,210179,684574,480834,862343,268461,205726,351766,153476,664636,298184,255384,355975,415089,394878,502039,613978,1002706,504654,197528,289574,278280,234089,422393,414816,197319,327269,526256,287663,250949,681916,389339,279843,669837,356577,363097,580208,283399,282253,356288,424445,382155,309789,525385,399297,550465,551094,482200,490407,681957,497693,234803,256460,251336,319992,697464,240409],\"y0\":\" \",\"yaxis\":\"y\",\"type\":\"violin\"},{\"alignmentgroup\":\"True\",\"box\":{\"visible\":true},\"customdata\":[[\"BM510x3PE20458\"],[\"BM510x3PE20444\"],[\"BM510x3PE20409\"],[\"BM510x3PE20423\"],[\"BM510x3PE20403\"],[\"BM510x3PE20484\"],[\"BM510x3PE20477\"],[\"BM510x3PE20478\"],[\"BM510x3PE20490\"],[\"BM510x3PE20432\"],[\"BM510x3PE20449\"],[\"BM510x3PE20427\"],[\"BM510x3PE20476\"],[\"BM510x3PE20491\"],[\"BM510x3PE20492\"],[\"BM510x3PE20434\"],[\"BM510x3PE20463\"],[\"BM510x3PE20433\"],[\"BM510x3PE20437\"],[\"BM510x3PE20417\"],[\"BM510x3PE20407\"],[\"BM510x3PE20431\"],[\"BM510x3PE20435\"],[\"BM510x3PE20470\"],[\"BM510x3PE20482\"],[\"BM510x3PE20406\"],[\"BM510x3PE20461\"],[\"BM510x3PE20415\"],[\"BM510x3PE20448\"],[\"BM510x3PE20488\"],[\"BM510x3PE20473\"],[\"BM510x3PE20462\"],[\"BM510x3PE20481\"],[\"BM510x3PE20456\"],[\"BM510x3PE20471\"],[\"BM510x3PE20438\"],[\"BM510x3PE20429\"],[\"BM510x3PE20469\"],[\"BM510x3PE20455\"],[\"BM510x3PE20489\"],[\"BM510x3PE20485\"],[\"BM510x3PE20454\"],[\"BM510x3PE20452\"],[\"BM510x3PE20411\"],[\"BM510x3PE20421\"],[\"BM510x3PE20486\"],[\"BM510x3PE20480\"],[\"BM510x3PE20453\"],[\"BM510x3PE20404\"],[\"BM510x3PE20493\"],[\"BM510x3PE20468\"],[\"BM510x3PE20495\"],[\"BM510x3PE20474\"],[\"BM510x3PE20460\"],[\"BM510x3PE20464\"],[\"BM510x3PE20446\"],[\"BM510x3PE20439\"],[\"BM510x3PE20479\"],[\"BM510x3PE20441\"],[\"BM510x3PE20426\"],[\"BM510x3PE20447\"],[\"BM510x3PE20410\"],[\"BM510x3PE20414\"],[\"BM510x3PE20483\"],[\"BM510x3PE20425\"],[\"BM510x3PE20401\"],[\"BM510x3PE20408\"],[\"BM510x3PE20416\"],[\"BM510x3PE20475\"],[\"BM510x3PE20440\"],[\"BM510x3PE20494\"],[\"BM510x3PE20457\"],[\"BM510x3PE20487\"],[\"BM510x3PE20496\"],[\"BM510x3PE20436\"],[\"BM510x3PE20424\"],[\"BM510x3PE20459\"],[\"BM510x3PE20413\"],[\"BM510x3PE20402\"],[\"BM510x3PE20418\"],[\"BM510x3PE20422\"],[\"BM510x3PE20419\"]],\"hovertemplate\":\"sample=%{x}<br>good=%{y}<br>cell=%{customdata[0]}<extra></extra>\",\"legendgroup\":\"RPE-BM510\",\"marker\":{\"color\":\"#EF553B\"},\"name\":\"RPE-BM510\",\"offsetgroup\":\"RPE-BM510\",\"orientation\":\"v\",\"points\":\"all\",\"scalegroup\":\"True\",\"showlegend\":true,\"x\":[\"RPE-BM510\",\"RPE-BM510\",\"RPE-BM510\",\"RPE-BM510\",\"RPE-BM510\",\"RPE-BM510\",\"RPE-BM510\",\"RPE-BM510\",\"RPE-BM510\",\"RPE-BM510\",\"RPE-BM510\",\"RPE-BM510\",\"RPE-BM510\",\"RPE-BM510\",\"RPE-BM510\",\"RPE-BM510\",\"RPE-BM510\",\"RPE-BM510\",\"RPE-BM510\",\"RPE-BM510\",\"RPE-BM510\",\"RPE-BM510\",\"RPE-BM510\",\"RPE-BM510\",\"RPE-BM510\",\"RPE-BM510\",\"RPE-BM510\",\"RPE-BM510\",\"RPE-BM510\",\"RPE-BM510\",\"RPE-BM510\",\"RPE-BM510\",\"RPE-BM510\",\"RPE-BM510\",\"RPE-BM510\",\"RPE-BM510\",\"RPE-BM510\",\"RPE-BM510\",\"RPE-BM510\",\"RPE-BM510\",\"RPE-BM510\",\"RPE-BM510\",\"RPE-BM510\",\"RPE-BM510\",\"RPE-BM510\",\"RPE-BM510\",\"RPE-BM510\",\"RPE-BM510\",\"RPE-BM510\",\"RPE-BM510\",\"RPE-BM510\",\"RPE-BM510\",\"RPE-BM510\",\"RPE-BM510\",\"RPE-BM510\",\"RPE-BM510\",\"RPE-BM510\",\"RPE-BM510\",\"RPE-BM510\",\"RPE-BM510\",\"RPE-BM510\",\"RPE-BM510\",\"RPE-BM510\",\"RPE-BM510\",\"RPE-BM510\",\"RPE-BM510\",\"RPE-BM510\",\"RPE-BM510\",\"RPE-BM510\",\"RPE-BM510\",\"RPE-BM510\",\"RPE-BM510\",\"RPE-BM510\",\"RPE-BM510\",\"RPE-BM510\",\"RPE-BM510\",\"RPE-BM510\",\"RPE-BM510\",\"RPE-BM510\",\"RPE-BM510\",\"RPE-BM510\",\"RPE-BM510\"],\"x0\":\" \",\"xaxis\":\"x\",\"y\":[711764,349085,705050,364113,415054,268191,436220,446971,100492,533713,207962,211228,730970,747031,666546,300350,607873,342019,575636,241688,323467,780579,694278,280938,187043,557782,396098,684664,692699,444645,317940,536653,494558,528039,407669,318775,618062,461668,455254,193088,385248,500194,635331,504654,226455,465709,571951,376682,159925,296410,610298,412469,193520,281124,103804,164197,399187,471225,488117,277715,665026,241760,493615,243128,284974,402053,544794,466039,575506,488777,244213,213470,408946,589226,744443,438070,508451,214425,285912,317622,427545,337781],\"y0\":\" \",\"yaxis\":\"y\",\"type\":\"violin\"},{\"alignmentgroup\":\"True\",\"box\":{\"visible\":true},\"customdata\":[[\"GM20509Bx01PE20581\"],[\"GM20509Bx01PE20562\"],[\"GM20509Bx01PE20557\"],[\"GM20509Bx01PE20565\"],[\"GM20509Bx01PE20533\"],[\"GM20509Bx01PE20553\"],[\"GM20509Bx01PE20549\"],[\"GM20509Bx01PE20587\"],[\"GM20509Bx01PE20542\"],[\"GM20509Bx01PE20530\"],[\"GM20509Bx01PE20517\"],[\"GM20509Bx01PE20526\"],[\"GM20509Bx01PE20510\"],[\"GM20509Bx01PE20537\"],[\"GM20509Bx01PE20508\"],[\"GM20509Bx01PE20544\"],[\"GM20509Bx01PE20546\"],[\"GM20509Bx01PE20560\"],[\"GM20509Bx01PE20566\"],[\"GM20509Bx01PE20529\"],[\"GM20509Bx01PE20503\"],[\"GM20509Bx01PE20541\"],[\"GM20509Bx01PE20520\"],[\"GM20509Bx01PE20555\"],[\"GM20509Bx01PE20561\"],[\"GM20509Bx01PE20579\"],[\"GM20509Bx01PE20539\"],[\"GM20509Bx01PE20515\"],[\"GM20509Bx01PE20550\"],[\"GM20509Bx01PE20568\"],[\"GM20509Bx01PE20585\"],[\"GM20509Bx01PE20552\"],[\"GM20509Bx01PE20501\"],[\"GM20509Bx01PE20548\"],[\"GM20509Bx01PE20586\"],[\"GM20509Bx01PE20525\"],[\"GM20509Bx01PE20582\"],[\"GM20509Bx01PE20576\"],[\"GM20509Bx01PE20509\"],[\"GM20509Bx01PE20506\"],[\"GM20509Bx01PE20518\"],[\"GM20509Bx01PE20569\"],[\"GM20509Bx01PE20511\"],[\"GM20509Bx01PE20531\"],[\"GM20509Bx01PE20519\"],[\"GM20509Bx01PE20589\"],[\"GM20509Bx01PE20545\"],[\"GM20509Bx01PE20514\"],[\"GM20509Bx01PE20535\"],[\"GM20509Bx01PE20556\"],[\"GM20509Bx01PE20502\"],[\"GM20509Bx01PE20547\"],[\"GM20509Bx01PE20536\"]],\"hovertemplate\":\"sample=%{x}<br>good=%{y}<br>cell=%{customdata[0]}<extra></extra>\",\"legendgroup\":\"LCL\",\"marker\":{\"color\":\"#00cc96\"},\"name\":\"LCL\",\"offsetgroup\":\"LCL\",\"orientation\":\"v\",\"points\":\"all\",\"scalegroup\":\"True\",\"showlegend\":true,\"x\":[\"LCL\",\"LCL\",\"LCL\",\"LCL\",\"LCL\",\"LCL\",\"LCL\",\"LCL\",\"LCL\",\"LCL\",\"LCL\",\"LCL\",\"LCL\",\"LCL\",\"LCL\",\"LCL\",\"LCL\",\"LCL\",\"LCL\",\"LCL\",\"LCL\",\"LCL\",\"LCL\",\"LCL\",\"LCL\",\"LCL\",\"LCL\",\"LCL\",\"LCL\",\"LCL\",\"LCL\",\"LCL\",\"LCL\",\"LCL\",\"LCL\",\"LCL\",\"LCL\",\"LCL\",\"LCL\",\"LCL\",\"LCL\",\"LCL\",\"LCL\",\"LCL\",\"LCL\",\"LCL\",\"LCL\",\"LCL\",\"LCL\",\"LCL\",\"LCL\",\"LCL\",\"LCL\"],\"x0\":\" \",\"xaxis\":\"x\",\"y\":[326784,720882,450287,414042,450556,94189,497924,824158,427611,303564,639160,539145,120242,275636,332513,746002,251258,572969,709648,190982,415471,349521,113639,189601,150926,252826,466441,1979346,437227,109233,86927,176059,512252,170283,576323,834200,480420,559628,675559,320363,470494,313602,348730,122956,583402,190330,514619,127313,438464,452959,456209,419701,394974],\"y0\":\" \",\"yaxis\":\"y\",\"type\":\"violin\"},{\"alignmentgroup\":\"True\",\"box\":{\"visible\":true},\"customdata\":[[\"C7x02PE20351\"],[\"C7x02PE20301\"],[\"C7x02PE20359\"],[\"C7x02PE20375\"],[\"C7x02PE20332\"],[\"C7x02PE20348\"],[\"C7x02PE20358\"],[\"C7x02PE20356\"],[\"C7x02PE20324\"],[\"C7x02PE20311\"],[\"C7x02PE20367\"],[\"C7x02PE20347\"],[\"C7x02PE20390\"],[\"C7x02PE20338\"],[\"C7x02PE20328\"],[\"C7x02PE20344\"],[\"C7x02PE20319\"],[\"C7x02PE20355\"],[\"C7x02PE20326\"],[\"C7x02PE20382\"],[\"C7x02PE20391\"],[\"C7x02PE20377\"],[\"C7x02PE20369\"],[\"C7x02PE20361\"],[\"C7x02PE20310\"],[\"C7x02PE20321\"],[\"C7x02PE20334\"],[\"C7x02PE20376\"],[\"C7x02PE20383\"],[\"C7x02PE20363\"],[\"C7x02PE20362\"],[\"C7x02PE20340\"],[\"C7x02PE20370\"],[\"C7x02PE20392\"],[\"C7x02PE20374\"],[\"C7x02PE20320\"],[\"C7x02PE20341\"],[\"C7x02PE20323\"],[\"C7x02PE20302\"],[\"C7x02PE20386\"],[\"C7x02PE20304\"],[\"C7x02PE20365\"],[\"C7x02PE20368\"],[\"C7x02PE20331\"],[\"C7x02PE20353\"],[\"C7x02PE20371\"],[\"C7x02PE20345\"],[\"C7x02PE20372\"],[\"C7x02PE20307\"],[\"C7x02PE20325\"],[\"C7x02PE20337\"],[\"C7x02PE20366\"],[\"C7x02PE20349\"],[\"C7x02PE20393\"],[\"C7x02PE20333\"],[\"C7x02PE20336\"],[\"C7x02PE20364\"],[\"C7x02PE20360\"],[\"C7x02PE20309\"],[\"C7x02PE20339\"],[\"C7x02PE20327\"],[\"C7x02PE20384\"],[\"C7x02PE20379\"],[\"C7x02PE20343\"],[\"C7x02PE20346\"],[\"C7x02PE20303\"],[\"C7x02PE20350\"],[\"C7x02PE20354\"],[\"C7x02PE20387\"],[\"C7x02PE20313\"],[\"C7x02PE20388\"],[\"C7x02PE20306\"],[\"C7x02PE20335\"],[\"C7x02PE20396\"],[\"C7x02PE20330\"],[\"C7x02PE20378\"],[\"C7x02PE20317\"],[\"C7x02PE20322\"],[\"C7x02PE20342\"],[\"C7x02PE20352\"],[\"C7x02PE20308\"],[\"C7x02PE20380\"],[\"C7x02PE20316\"],[\"C7x02PE20373\"],[\"C7x02PE20318\"]],\"hovertemplate\":\"sample=%{x}<br>good=%{y}<br>cell=%{customdata[0]}<extra></extra>\",\"legendgroup\":\"C7\",\"marker\":{\"color\":\"#ab63fa\"},\"name\":\"C7\",\"offsetgroup\":\"C7\",\"orientation\":\"v\",\"points\":\"all\",\"scalegroup\":\"True\",\"showlegend\":true,\"x\":[\"C7\",\"C7\",\"C7\",\"C7\",\"C7\",\"C7\",\"C7\",\"C7\",\"C7\",\"C7\",\"C7\",\"C7\",\"C7\",\"C7\",\"C7\",\"C7\",\"C7\",\"C7\",\"C7\",\"C7\",\"C7\",\"C7\",\"C7\",\"C7\",\"C7\",\"C7\",\"C7\",\"C7\",\"C7\",\"C7\",\"C7\",\"C7\",\"C7\",\"C7\",\"C7\",\"C7\",\"C7\",\"C7\",\"C7\",\"C7\",\"C7\",\"C7\",\"C7\",\"C7\",\"C7\",\"C7\",\"C7\",\"C7\",\"C7\",\"C7\",\"C7\",\"C7\",\"C7\",\"C7\",\"C7\",\"C7\",\"C7\",\"C7\",\"C7\",\"C7\",\"C7\",\"C7\",\"C7\",\"C7\",\"C7\",\"C7\",\"C7\",\"C7\",\"C7\",\"C7\",\"C7\",\"C7\",\"C7\",\"C7\",\"C7\",\"C7\",\"C7\",\"C7\",\"C7\",\"C7\",\"C7\",\"C7\",\"C7\",\"C7\",\"C7\"],\"x0\":\" \",\"xaxis\":\"x\",\"y\":[440618,342373,205528,304704,531083,704225,426675,433348,674571,356927,165681,354976,300571,522242,241052,304543,406540,312300,249054,222660,263067,521167,415787,299354,365338,389882,218384,245169,238325,435945,129666,592847,466990,154772,422873,774595,594297,682185,175891,410836,464537,157278,382724,420665,179067,530235,230657,495389,346982,464241,356908,382624,569082,263291,309841,617002,564962,275934,576578,362356,458576,228308,590999,771586,338143,320057,493496,363665,271854,239562,323753,761771,648263,270095,383928,484562,318375,834190,449717,437321,788911,517798,406335,598558,320603],\"y0\":\" \",\"yaxis\":\"y\",\"type\":\"violin\"},{\"alignmentgroup\":\"True\",\"box\":{\"visible\":true},\"customdata\":[[\"RPE1BCL11Ax03PE20403\"],[\"RPE1BCL11Ax03PE20405\"],[\"RPE1BCL11Ax03PE20409\"],[\"RPE1BCL11Ax03PE20410\"],[\"RPE1BCL11Ax03PE20411\"],[\"RPE1BCL11Ax03PE20418\"],[\"RPE1BCL11Ax03PE20420\"],[\"RPE1BCL11Ax03PE20421\"],[\"RPE1BCL11Ax03PE20425\"],[\"RPE1BCL11Ax03PE20426\"],[\"RPE1BCL11Ax03PE20427\"],[\"RPE1BCL11Ax03PE20432\"],[\"RPE1BCL11Ax03PE20433\"],[\"RPE1BCL11Ax03PE20440\"],[\"RPE1BCL11Ax03PE20441\"],[\"RPE1BCL11Ax03PE20443\"],[\"RPE1BCL11Ax03PE20457\"],[\"RPE1BCL11Ax03PE20461\"],[\"RPE1BCL11Ax03PE20463\"],[\"RPE1BCL11Ax03PE20465\"],[\"RPE1BCL11Ax03PE20469\"],[\"RPE1BCL11Ax03PE20475\"],[\"RPE1BCL11Ax03PE20480\"],[\"RPE1BCL11Ax03PE20482\"],[\"RPE1BCL11Ax03PE20484\"],[\"RPE1BCL11Ax03PE20485\"],[\"RPE1BCL11Ax03PE20487\"],[\"RPE1BCL11Ax03PE20490\"]],\"hovertemplate\":\"sample=%{x}<br>good=%{y}<br>cell=%{customdata[0]}<extra></extra>\",\"legendgroup\":\"RPE1BCL11A\",\"marker\":{\"color\":\"#FFA15A\"},\"name\":\"RPE1BCL11A\",\"offsetgroup\":\"RPE1BCL11A\",\"orientation\":\"v\",\"points\":\"all\",\"scalegroup\":\"True\",\"showlegend\":true,\"x\":[\"RPE1BCL11A\",\"RPE1BCL11A\",\"RPE1BCL11A\",\"RPE1BCL11A\",\"RPE1BCL11A\",\"RPE1BCL11A\",\"RPE1BCL11A\",\"RPE1BCL11A\",\"RPE1BCL11A\",\"RPE1BCL11A\",\"RPE1BCL11A\",\"RPE1BCL11A\",\"RPE1BCL11A\",\"RPE1BCL11A\",\"RPE1BCL11A\",\"RPE1BCL11A\",\"RPE1BCL11A\",\"RPE1BCL11A\",\"RPE1BCL11A\",\"RPE1BCL11A\",\"RPE1BCL11A\",\"RPE1BCL11A\",\"RPE1BCL11A\",\"RPE1BCL11A\",\"RPE1BCL11A\",\"RPE1BCL11A\",\"RPE1BCL11A\",\"RPE1BCL11A\"],\"x0\":\" \",\"xaxis\":\"x\",\"y\":[116404,96322,204006,112804,94997,95628,243916,115908,229708,83047,103077,97006,100514,1294918,70623,81926,116947,88612,91814,78449,87286,91767,111396,120341,137589,78226,92765,159335],\"y0\":\" \",\"yaxis\":\"y\",\"type\":\"violin\"},{\"alignmentgroup\":\"True\",\"box\":{\"visible\":true},\"customdata\":[[\"PC7PC37PC39PC42x01PE20326\"],[\"PC7PC37PC39PC42x01PE20343\"],[\"PC7PC37PC39PC42x01PE20348\"],[\"PC7PC37PC39PC42x01PE20374\"],[\"PC7PC37PC39PC42x01PE20393\"],[\"PC7PC37PC39PC42x01PE20395\"]],\"hovertemplate\":\"sample=%{x}<br>good=%{y}<br>cell=%{customdata[0]}<extra></extra>\",\"legendgroup\":\"PC7PC37PC39PC42\",\"marker\":{\"color\":\"#19d3f3\"},\"name\":\"PC7PC37PC39PC42\",\"offsetgroup\":\"PC7PC37PC39PC42\",\"orientation\":\"v\",\"points\":\"all\",\"scalegroup\":\"True\",\"showlegend\":true,\"x\":[\"PC7PC37PC39PC42\",\"PC7PC37PC39PC42\",\"PC7PC37PC39PC42\",\"PC7PC37PC39PC42\",\"PC7PC37PC39PC42\",\"PC7PC37PC39PC42\"],\"x0\":\" \",\"xaxis\":\"x\",\"y\":[154798,153674,97632,153570,535760,221475],\"y0\":\" \",\"yaxis\":\"y\",\"type\":\"violin\"},{\"alignmentgroup\":\"True\",\"box\":{\"visible\":true},\"customdata\":[[\"HGSVCpool1xulOPxmanualPE20403\"],[\"HGSVCpool1xulOPxmanualPE20406\"],[\"HGSVCpool1xulOPxmanualPE20407\"],[\"HGSVCpool1xulOPxmanualPE20408\"],[\"HGSVCpool1xulOPxmanualPE20409\"],[\"HGSVCpool1xulOPxmanualPE20410\"],[\"HGSVCpool1xulOPxmanualPE20411\"],[\"HGSVCpool1xulOPxmanualPE20414\"],[\"HGSVCpool1xulOPxmanualPE20417\"],[\"HGSVCpool1xulOPxmanualPE20420\"],[\"HGSVCpool1xulOPxmanualPE20421\"],[\"HGSVCpool1xulOPxmanualPE20422\"],[\"HGSVCpool1xulOPxmanualPE20423\"],[\"HGSVCpool1xulOPxmanualPE20424\"],[\"HGSVCpool1xulOPxmanualPE20425\"],[\"HGSVCpool1xulOPxmanualPE20429\"],[\"HGSVCpool1xulOPxmanualPE20433\"],[\"HGSVCpool1xulOPxmanualPE20435\"],[\"HGSVCpool1xulOPxmanualPE20436\"],[\"HGSVCpool1xulOPxmanualPE20439\"],[\"HGSVCpool1xulOPxmanualPE20440\"],[\"HGSVCpool1xulOPxmanualPE20441\"],[\"HGSVCpool1xulOPxmanualPE20442\"],[\"HGSVCpool1xulOPxmanualPE20449\"],[\"HGSVCpool1xulOPxmanualPE20454\"],[\"HGSVCpool1xulOPxmanualPE20456\"],[\"HGSVCpool1xulOPxmanualPE20462\"],[\"HGSVCpool1xulOPxmanualPE20463\"],[\"HGSVCpool1xulOPxmanualPE20464\"],[\"HGSVCpool1xulOPxmanualPE20466\"],[\"HGSVCpool1xulOPxmanualPE20467\"],[\"HGSVCpool1xulOPxmanualPE20468\"],[\"HGSVCpool1xulOPxmanualPE20470\"],[\"HGSVCpool1xulOPxmanualPE20472\"],[\"HGSVCpool1xulOPxmanualPE20475\"],[\"HGSVCpool1xulOPxmanualPE20477\"],[\"HGSVCpool1xulOPxmanualPE20478\"],[\"HGSVCpool1xulOPxmanualPE20479\"],[\"HGSVCpool1xulOPxmanualPE20483\"],[\"HGSVCpool1xulOPxmanualPE20484\"],[\"HGSVCpool1xulOPxmanualPE20485\"],[\"HGSVCpool1xulOPxmanualPE20488\"],[\"HGSVCpool1xulOPxmanualPE20489\"],[\"HGSVCpool1xulOPxmanualPE20492\"],[\"HGSVCpool1xulOPxmanualPE20493\"]],\"hovertemplate\":\"sample=%{x}<br>good=%{y}<br>cell=%{customdata[0]}<extra></extra>\",\"legendgroup\":\"HGSVCpool1xulOPxmanual\",\"marker\":{\"color\":\"#FF6692\"},\"name\":\"HGSVCpool1xulOPxmanual\",\"offsetgroup\":\"HGSVCpool1xulOPxmanual\",\"orientation\":\"v\",\"points\":\"all\",\"scalegroup\":\"True\",\"showlegend\":true,\"x\":[\"HGSVCpool1xulOPxmanual\",\"HGSVCpool1xulOPxmanual\",\"HGSVCpool1xulOPxmanual\",\"HGSVCpool1xulOPxmanual\",\"HGSVCpool1xulOPxmanual\",\"HGSVCpool1xulOPxmanual\",\"HGSVCpool1xulOPxmanual\",\"HGSVCpool1xulOPxmanual\",\"HGSVCpool1xulOPxmanual\",\"HGSVCpool1xulOPxmanual\",\"HGSVCpool1xulOPxmanual\",\"HGSVCpool1xulOPxmanual\",\"HGSVCpool1xulOPxmanual\",\"HGSVCpool1xulOPxmanual\",\"HGSVCpool1xulOPxmanual\",\"HGSVCpool1xulOPxmanual\",\"HGSVCpool1xulOPxmanual\",\"HGSVCpool1xulOPxmanual\",\"HGSVCpool1xulOPxmanual\",\"HGSVCpool1xulOPxmanual\",\"HGSVCpool1xulOPxmanual\",\"HGSVCpool1xulOPxmanual\",\"HGSVCpool1xulOPxmanual\",\"HGSVCpool1xulOPxmanual\",\"HGSVCpool1xulOPxmanual\",\"HGSVCpool1xulOPxmanual\",\"HGSVCpool1xulOPxmanual\",\"HGSVCpool1xulOPxmanual\",\"HGSVCpool1xulOPxmanual\",\"HGSVCpool1xulOPxmanual\",\"HGSVCpool1xulOPxmanual\",\"HGSVCpool1xulOPxmanual\",\"HGSVCpool1xulOPxmanual\",\"HGSVCpool1xulOPxmanual\",\"HGSVCpool1xulOPxmanual\",\"HGSVCpool1xulOPxmanual\",\"HGSVCpool1xulOPxmanual\",\"HGSVCpool1xulOPxmanual\",\"HGSVCpool1xulOPxmanual\",\"HGSVCpool1xulOPxmanual\",\"HGSVCpool1xulOPxmanual\",\"HGSVCpool1xulOPxmanual\",\"HGSVCpool1xulOPxmanual\",\"HGSVCpool1xulOPxmanual\",\"HGSVCpool1xulOPxmanual\"],\"x0\":\" \",\"xaxis\":\"x\",\"y\":[398425,194229,330414,296693,438472,307677,160733,191976,193323,525548,321648,167487,550591,553487,231476,422020,141806,330533,358194,291204,166860,172239,90800,313087,79093,198604,95527,232404,230699,499076,239394,153412,293044,425302,276007,237494,126027,431737,471042,243355,533571,502377,430281,547656,486889],\"y0\":\" \",\"yaxis\":\"y\",\"type\":\"violin\"},{\"alignmentgroup\":\"True\",\"box\":{\"visible\":true},\"customdata\":[[\"KM1096PE20305\"],[\"KM1096PE20307\"],[\"KM1096PE20308\"],[\"KM1096PE20309\"],[\"KM1096PE20310\"],[\"KM1096PE20311\"],[\"KM1096PE20312\"],[\"KM1096PE20313\"],[\"KM1096PE20314\"],[\"KM1096PE20315\"],[\"KM1096PE20318\"],[\"KM1096PE20319\"],[\"KM1096PE20320\"],[\"KM1096PE20321\"],[\"KM1096PE20322\"],[\"KM1096PE20324\"],[\"KM1096PE20326\"],[\"KM1096PE20327\"],[\"KM1096PE20328\"],[\"KM1096PE20329\"],[\"KM1096PE20330\"],[\"KM1096PE20331\"],[\"KM1096PE20332\"],[\"KM1096PE20333\"],[\"KM1096PE20334\"],[\"KM1096PE20336\"],[\"KM1096PE20338\"],[\"KM1096PE20339\"],[\"KM1096PE20344\"],[\"KM1096PE20345\"],[\"KM1096PE20349\"],[\"KM1096PE20350\"],[\"KM1096PE20353\"],[\"KM1096PE20354\"],[\"KM1096PE20355\"],[\"KM1096PE20356\"],[\"KM1096PE20357\"],[\"KM1096PE20360\"],[\"KM1096PE20361\"],[\"KM1096PE20362\"],[\"KM1096PE20363\"],[\"KM1096PE20364\"],[\"KM1096PE20366\"],[\"KM1096PE20367\"],[\"KM1096PE20368\"],[\"KM1096PE20370\"],[\"KM1096PE20371\"],[\"KM1096PE20373\"],[\"KM1096PE20375\"],[\"KM1096PE20378\"],[\"KM1096PE20379\"],[\"KM1096PE20380\"],[\"KM1096PE20381\"],[\"KM1096PE20382\"],[\"KM1096PE20383\"],[\"KM1096PE20384\"],[\"KM1096PE20385\"],[\"KM1096PE20390\"],[\"KM1096PE20391\"],[\"KM1096PE20393\"],[\"KM1096PE20394\"],[\"KM1096PE20395\"]],\"hovertemplate\":\"sample=%{x}<br>good=%{y}<br>cell=%{customdata[0]}<extra></extra>\",\"legendgroup\":\"KM1096\",\"marker\":{\"color\":\"#B6E880\"},\"name\":\"KM1096\",\"offsetgroup\":\"KM1096\",\"orientation\":\"v\",\"points\":\"all\",\"scalegroup\":\"True\",\"showlegend\":true,\"x\":[\"KM1096\",\"KM1096\",\"KM1096\",\"KM1096\",\"KM1096\",\"KM1096\",\"KM1096\",\"KM1096\",\"KM1096\",\"KM1096\",\"KM1096\",\"KM1096\",\"KM1096\",\"KM1096\",\"KM1096\",\"KM1096\",\"KM1096\",\"KM1096\",\"KM1096\",\"KM1096\",\"KM1096\",\"KM1096\",\"KM1096\",\"KM1096\",\"KM1096\",\"KM1096\",\"KM1096\",\"KM1096\",\"KM1096\",\"KM1096\",\"KM1096\",\"KM1096\",\"KM1096\",\"KM1096\",\"KM1096\",\"KM1096\",\"KM1096\",\"KM1096\",\"KM1096\",\"KM1096\",\"KM1096\",\"KM1096\",\"KM1096\",\"KM1096\",\"KM1096\",\"KM1096\",\"KM1096\",\"KM1096\",\"KM1096\",\"KM1096\",\"KM1096\",\"KM1096\",\"KM1096\",\"KM1096\",\"KM1096\",\"KM1096\",\"KM1096\",\"KM1096\",\"KM1096\",\"KM1096\",\"KM1096\",\"KM1096\"],\"x0\":\" \",\"xaxis\":\"x\",\"y\":[272073,376161,361599,327949,323280,293426,246388,255110,319140,291156,303223,287430,307557,218165,306353,227062,213668,235817,148175,385754,300911,227924,112685,126153,326878,207199,315482,288646,147320,191253,274595,93402,288624,268816,156645,246112,126745,420203,315342,234903,245364,419194,234205,253133,333444,401186,247594,172813,265322,286787,246891,461174,87477,200938,538203,147534,192276,279607,94941,409190,444549,239078],\"y0\":\" \",\"yaxis\":\"y\",\"type\":\"violin\"},{\"alignmentgroup\":\"True\",\"box\":{\"visible\":true},\"customdata\":[[\"HGSVCpool1xulOPxEchoPE20503\"],[\"HGSVCpool1xulOPxEchoPE20505\"],[\"HGSVCpool1xulOPxEchoPE20506\"],[\"HGSVCpool1xulOPxEchoPE20509\"],[\"HGSVCpool1xulOPxEchoPE20510\"],[\"HGSVCpool1xulOPxEchoPE20511\"],[\"HGSVCpool1xulOPxEchoPE20512\"],[\"HGSVCpool1xulOPxEchoPE20513\"],[\"HGSVCpool1xulOPxEchoPE20518\"],[\"HGSVCpool1xulOPxEchoPE20519\"],[\"HGSVCpool1xulOPxEchoPE20520\"],[\"HGSVCpool1xulOPxEchoPE20521\"],[\"HGSVCpool1xulOPxEchoPE20522\"],[\"HGSVCpool1xulOPxEchoPE20525\"],[\"HGSVCpool1xulOPxEchoPE20526\"],[\"HGSVCpool1xulOPxEchoPE20527\"],[\"HGSVCpool1xulOPxEchoPE20529\"],[\"HGSVCpool1xulOPxEchoPE20533\"],[\"HGSVCpool1xulOPxEchoPE20534\"],[\"HGSVCpool1xulOPxEchoPE20535\"],[\"HGSVCpool1xulOPxEchoPE20536\"],[\"HGSVCpool1xulOPxEchoPE20538\"],[\"HGSVCpool1xulOPxEchoPE20541\"],[\"HGSVCpool1xulOPxEchoPE20542\"],[\"HGSVCpool1xulOPxEchoPE20543\"],[\"HGSVCpool1xulOPxEchoPE20550\"],[\"HGSVCpool1xulOPxEchoPE20551\"],[\"HGSVCpool1xulOPxEchoPE20552\"],[\"HGSVCpool1xulOPxEchoPE20557\"],[\"HGSVCpool1xulOPxEchoPE20558\"],[\"HGSVCpool1xulOPxEchoPE20559\"],[\"HGSVCpool1xulOPxEchoPE20565\"],[\"HGSVCpool1xulOPxEchoPE20573\"],[\"HGSVCpool1xulOPxEchoPE20574\"],[\"HGSVCpool1xulOPxEchoPE20581\"],[\"HGSVCpool1xulOPxEchoPE20582\"],[\"HGSVCpool1xulOPxEchoPE20591\"]],\"hovertemplate\":\"sample=%{x}<br>good=%{y}<br>cell=%{customdata[0]}<extra></extra>\",\"legendgroup\":\"HGSVCpool1xulOPxEcho\",\"marker\":{\"color\":\"#FF97FF\"},\"name\":\"HGSVCpool1xulOPxEcho\",\"offsetgroup\":\"HGSVCpool1xulOPxEcho\",\"orientation\":\"v\",\"points\":\"all\",\"scalegroup\":\"True\",\"showlegend\":true,\"x\":[\"HGSVCpool1xulOPxEcho\",\"HGSVCpool1xulOPxEcho\",\"HGSVCpool1xulOPxEcho\",\"HGSVCpool1xulOPxEcho\",\"HGSVCpool1xulOPxEcho\",\"HGSVCpool1xulOPxEcho\",\"HGSVCpool1xulOPxEcho\",\"HGSVCpool1xulOPxEcho\",\"HGSVCpool1xulOPxEcho\",\"HGSVCpool1xulOPxEcho\",\"HGSVCpool1xulOPxEcho\",\"HGSVCpool1xulOPxEcho\",\"HGSVCpool1xulOPxEcho\",\"HGSVCpool1xulOPxEcho\",\"HGSVCpool1xulOPxEcho\",\"HGSVCpool1xulOPxEcho\",\"HGSVCpool1xulOPxEcho\",\"HGSVCpool1xulOPxEcho\",\"HGSVCpool1xulOPxEcho\",\"HGSVCpool1xulOPxEcho\",\"HGSVCpool1xulOPxEcho\",\"HGSVCpool1xulOPxEcho\",\"HGSVCpool1xulOPxEcho\",\"HGSVCpool1xulOPxEcho\",\"HGSVCpool1xulOPxEcho\",\"HGSVCpool1xulOPxEcho\",\"HGSVCpool1xulOPxEcho\",\"HGSVCpool1xulOPxEcho\",\"HGSVCpool1xulOPxEcho\",\"HGSVCpool1xulOPxEcho\",\"HGSVCpool1xulOPxEcho\",\"HGSVCpool1xulOPxEcho\",\"HGSVCpool1xulOPxEcho\",\"HGSVCpool1xulOPxEcho\",\"HGSVCpool1xulOPxEcho\",\"HGSVCpool1xulOPxEcho\",\"HGSVCpool1xulOPxEcho\"],\"x0\":\" \",\"xaxis\":\"x\",\"y\":[330299,143955,365231,286694,277035,215033,155787,344913,312492,190128,149496,105276,94553,169765,212562,178363,181793,197788,203134,185043,237303,66834,67685,251716,100236,316525,89743,271024,128144,144475,166333,159508,161349,129634,157333,195126,68552],\"y0\":\" \",\"yaxis\":\"y\",\"type\":\"violin\"}],                        {\"template\":{\"data\":{\"histogram2dcontour\":[{\"type\":\"histogram2dcontour\",\"colorbar\":{\"outlinewidth\":0,\"ticks\":\"\"},\"colorscale\":[[0.0,\"#0d0887\"],[0.1111111111111111,\"#46039f\"],[0.2222222222222222,\"#7201a8\"],[0.3333333333333333,\"#9c179e\"],[0.4444444444444444,\"#bd3786\"],[0.5555555555555556,\"#d8576b\"],[0.6666666666666666,\"#ed7953\"],[0.7777777777777778,\"#fb9f3a\"],[0.8888888888888888,\"#fdca26\"],[1.0,\"#f0f921\"]]}],\"choropleth\":[{\"type\":\"choropleth\",\"colorbar\":{\"outlinewidth\":0,\"ticks\":\"\"}}],\"histogram2d\":[{\"type\":\"histogram2d\",\"colorbar\":{\"outlinewidth\":0,\"ticks\":\"\"},\"colorscale\":[[0.0,\"#0d0887\"],[0.1111111111111111,\"#46039f\"],[0.2222222222222222,\"#7201a8\"],[0.3333333333333333,\"#9c179e\"],[0.4444444444444444,\"#bd3786\"],[0.5555555555555556,\"#d8576b\"],[0.6666666666666666,\"#ed7953\"],[0.7777777777777778,\"#fb9f3a\"],[0.8888888888888888,\"#fdca26\"],[1.0,\"#f0f921\"]]}],\"heatmap\":[{\"type\":\"heatmap\",\"colorbar\":{\"outlinewidth\":0,\"ticks\":\"\"},\"colorscale\":[[0.0,\"#0d0887\"],[0.1111111111111111,\"#46039f\"],[0.2222222222222222,\"#7201a8\"],[0.3333333333333333,\"#9c179e\"],[0.4444444444444444,\"#bd3786\"],[0.5555555555555556,\"#d8576b\"],[0.6666666666666666,\"#ed7953\"],[0.7777777777777778,\"#fb9f3a\"],[0.8888888888888888,\"#fdca26\"],[1.0,\"#f0f921\"]]}],\"heatmapgl\":[{\"type\":\"heatmapgl\",\"colorbar\":{\"outlinewidth\":0,\"ticks\":\"\"},\"colorscale\":[[0.0,\"#0d0887\"],[0.1111111111111111,\"#46039f\"],[0.2222222222222222,\"#7201a8\"],[0.3333333333333333,\"#9c179e\"],[0.4444444444444444,\"#bd3786\"],[0.5555555555555556,\"#d8576b\"],[0.6666666666666666,\"#ed7953\"],[0.7777777777777778,\"#fb9f3a\"],[0.8888888888888888,\"#fdca26\"],[1.0,\"#f0f921\"]]}],\"contourcarpet\":[{\"type\":\"contourcarpet\",\"colorbar\":{\"outlinewidth\":0,\"ticks\":\"\"}}],\"contour\":[{\"type\":\"contour\",\"colorbar\":{\"outlinewidth\":0,\"ticks\":\"\"},\"colorscale\":[[0.0,\"#0d0887\"],[0.1111111111111111,\"#46039f\"],[0.2222222222222222,\"#7201a8\"],[0.3333333333333333,\"#9c179e\"],[0.4444444444444444,\"#bd3786\"],[0.5555555555555556,\"#d8576b\"],[0.6666666666666666,\"#ed7953\"],[0.7777777777777778,\"#fb9f3a\"],[0.8888888888888888,\"#fdca26\"],[1.0,\"#f0f921\"]]}],\"surface\":[{\"type\":\"surface\",\"colorbar\":{\"outlinewidth\":0,\"ticks\":\"\"},\"colorscale\":[[0.0,\"#0d0887\"],[0.1111111111111111,\"#46039f\"],[0.2222222222222222,\"#7201a8\"],[0.3333333333333333,\"#9c179e\"],[0.4444444444444444,\"#bd3786\"],[0.5555555555555556,\"#d8576b\"],[0.6666666666666666,\"#ed7953\"],[0.7777777777777778,\"#fb9f3a\"],[0.8888888888888888,\"#fdca26\"],[1.0,\"#f0f921\"]]}],\"mesh3d\":[{\"type\":\"mesh3d\",\"colorbar\":{\"outlinewidth\":0,\"ticks\":\"\"}}],\"scatter\":[{\"fillpattern\":{\"fillmode\":\"overlay\",\"size\":10,\"solidity\":0.2},\"type\":\"scatter\"}],\"parcoords\":[{\"type\":\"parcoords\",\"line\":{\"colorbar\":{\"outlinewidth\":0,\"ticks\":\"\"}}}],\"scatterpolargl\":[{\"type\":\"scatterpolargl\",\"marker\":{\"colorbar\":{\"outlinewidth\":0,\"ticks\":\"\"}}}],\"bar\":[{\"error_x\":{\"color\":\"#2a3f5f\"},\"error_y\":{\"color\":\"#2a3f5f\"},\"marker\":{\"line\":{\"color\":\"#E5ECF6\",\"width\":0.5},\"pattern\":{\"fillmode\":\"overlay\",\"size\":10,\"solidity\":0.2}},\"type\":\"bar\"}],\"scattergeo\":[{\"type\":\"scattergeo\",\"marker\":{\"colorbar\":{\"outlinewidth\":0,\"ticks\":\"\"}}}],\"scatterpolar\":[{\"type\":\"scatterpolar\",\"marker\":{\"colorbar\":{\"outlinewidth\":0,\"ticks\":\"\"}}}],\"histogram\":[{\"marker\":{\"pattern\":{\"fillmode\":\"overlay\",\"size\":10,\"solidity\":0.2}},\"type\":\"histogram\"}],\"scattergl\":[{\"type\":\"scattergl\",\"marker\":{\"colorbar\":{\"outlinewidth\":0,\"ticks\":\"\"}}}],\"scatter3d\":[{\"type\":\"scatter3d\",\"line\":{\"colorbar\":{\"outlinewidth\":0,\"ticks\":\"\"}},\"marker\":{\"colorbar\":{\"outlinewidth\":0,\"ticks\":\"\"}}}],\"scattermapbox\":[{\"type\":\"scattermapbox\",\"marker\":{\"colorbar\":{\"outlinewidth\":0,\"ticks\":\"\"}}}],\"scatterternary\":[{\"type\":\"scatterternary\",\"marker\":{\"colorbar\":{\"outlinewidth\":0,\"ticks\":\"\"}}}],\"scattercarpet\":[{\"type\":\"scattercarpet\",\"marker\":{\"colorbar\":{\"outlinewidth\":0,\"ticks\":\"\"}}}],\"carpet\":[{\"aaxis\":{\"endlinecolor\":\"#2a3f5f\",\"gridcolor\":\"white\",\"linecolor\":\"white\",\"minorgridcolor\":\"white\",\"startlinecolor\":\"#2a3f5f\"},\"baxis\":{\"endlinecolor\":\"#2a3f5f\",\"gridcolor\":\"white\",\"linecolor\":\"white\",\"minorgridcolor\":\"white\",\"startlinecolor\":\"#2a3f5f\"},\"type\":\"carpet\"}],\"table\":[{\"cells\":{\"fill\":{\"color\":\"#EBF0F8\"},\"line\":{\"color\":\"white\"}},\"header\":{\"fill\":{\"color\":\"#C8D4E3\"},\"line\":{\"color\":\"white\"}},\"type\":\"table\"}],\"barpolar\":[{\"marker\":{\"line\":{\"color\":\"#E5ECF6\",\"width\":0.5},\"pattern\":{\"fillmode\":\"overlay\",\"size\":10,\"solidity\":0.2}},\"type\":\"barpolar\"}],\"pie\":[{\"automargin\":true,\"type\":\"pie\"}]},\"layout\":{\"autotypenumbers\":\"strict\",\"colorway\":[\"#636efa\",\"#EF553B\",\"#00cc96\",\"#ab63fa\",\"#FFA15A\",\"#19d3f3\",\"#FF6692\",\"#B6E880\",\"#FF97FF\",\"#FECB52\"],\"font\":{\"color\":\"#2a3f5f\"},\"hovermode\":\"closest\",\"hoverlabel\":{\"align\":\"left\"},\"paper_bgcolor\":\"white\",\"plot_bgcolor\":\"#E5ECF6\",\"polar\":{\"bgcolor\":\"#E5ECF6\",\"angularaxis\":{\"gridcolor\":\"white\",\"linecolor\":\"white\",\"ticks\":\"\"},\"radialaxis\":{\"gridcolor\":\"white\",\"linecolor\":\"white\",\"ticks\":\"\"}},\"ternary\":{\"bgcolor\":\"#E5ECF6\",\"aaxis\":{\"gridcolor\":\"white\",\"linecolor\":\"white\",\"ticks\":\"\"},\"baxis\":{\"gridcolor\":\"white\",\"linecolor\":\"white\",\"ticks\":\"\"},\"caxis\":{\"gridcolor\":\"white\",\"linecolor\":\"white\",\"ticks\":\"\"}},\"coloraxis\":{\"colorbar\":{\"outlinewidth\":0,\"ticks\":\"\"}},\"colorscale\":{\"sequential\":[[0.0,\"#0d0887\"],[0.1111111111111111,\"#46039f\"],[0.2222222222222222,\"#7201a8\"],[0.3333333333333333,\"#9c179e\"],[0.4444444444444444,\"#bd3786\"],[0.5555555555555556,\"#d8576b\"],[0.6666666666666666,\"#ed7953\"],[0.7777777777777778,\"#fb9f3a\"],[0.8888888888888888,\"#fdca26\"],[1.0,\"#f0f921\"]],\"sequentialminus\":[[0.0,\"#0d0887\"],[0.1111111111111111,\"#46039f\"],[0.2222222222222222,\"#7201a8\"],[0.3333333333333333,\"#9c179e\"],[0.4444444444444444,\"#bd3786\"],[0.5555555555555556,\"#d8576b\"],[0.6666666666666666,\"#ed7953\"],[0.7777777777777778,\"#fb9f3a\"],[0.8888888888888888,\"#fdca26\"],[1.0,\"#f0f921\"]],\"diverging\":[[0,\"#8e0152\"],[0.1,\"#c51b7d\"],[0.2,\"#de77ae\"],[0.3,\"#f1b6da\"],[0.4,\"#fde0ef\"],[0.5,\"#f7f7f7\"],[0.6,\"#e6f5d0\"],[0.7,\"#b8e186\"],[0.8,\"#7fbc41\"],[0.9,\"#4d9221\"],[1,\"#276419\"]]},\"xaxis\":{\"gridcolor\":\"white\",\"linecolor\":\"white\",\"ticks\":\"\",\"title\":{\"standoff\":15},\"zerolinecolor\":\"white\",\"automargin\":true,\"zerolinewidth\":2},\"yaxis\":{\"gridcolor\":\"white\",\"linecolor\":\"white\",\"ticks\":\"\",\"title\":{\"standoff\":15},\"zerolinecolor\":\"white\",\"automargin\":true,\"zerolinewidth\":2},\"scene\":{\"xaxis\":{\"backgroundcolor\":\"#E5ECF6\",\"gridcolor\":\"white\",\"linecolor\":\"white\",\"showbackground\":true,\"ticks\":\"\",\"zerolinecolor\":\"white\",\"gridwidth\":2},\"yaxis\":{\"backgroundcolor\":\"#E5ECF6\",\"gridcolor\":\"white\",\"linecolor\":\"white\",\"showbackground\":true,\"ticks\":\"\",\"zerolinecolor\":\"white\",\"gridwidth\":2},\"zaxis\":{\"backgroundcolor\":\"#E5ECF6\",\"gridcolor\":\"white\",\"linecolor\":\"white\",\"showbackground\":true,\"ticks\":\"\",\"zerolinecolor\":\"white\",\"gridwidth\":2}},\"shapedefaults\":{\"line\":{\"color\":\"#2a3f5f\"}},\"annotationdefaults\":{\"arrowcolor\":\"#2a3f5f\",\"arrowhead\":0,\"arrowwidth\":1},\"geo\":{\"bgcolor\":\"white\",\"landcolor\":\"#E5ECF6\",\"subunitcolor\":\"white\",\"showland\":true,\"showlakes\":true,\"lakecolor\":\"white\"},\"title\":{\"x\":0.05},\"mapbox\":{\"style\":\"light\"}}},\"xaxis\":{\"anchor\":\"y\",\"domain\":[0.0,1.0],\"title\":{\"text\":\"sample\"},\"categoryorder\":\"array\",\"categoryarray\":[\"RPE1-WT\",\"RPE-BM510\",\"LCL\",\"C7\",\"RPE1BCL11A\",\"PC7PC37PC39PC42\",\"HGSVCpool1xulOPxmanual\",\"KM1096\",\"HGSVCpool1xulOPxEcho\"]},\"yaxis\":{\"anchor\":\"x\",\"domain\":[0.0,1.0],\"title\":{\"text\":\"good\"}},\"legend\":{\"title\":{\"text\":\"sample\"},\"tracegroupgap\":0},\"margin\":{\"t\":60},\"violinmode\":\"overlay\"},                        {\"responsive\": true}                    ).then(function(){\n",
       "                            \n",
       "var gd = document.getElementById('90697b32-b02c-441a-b8f0-8bce3b7052cc');\n",
       "var x = new MutationObserver(function (mutations, observer) {{\n",
       "        var display = window.getComputedStyle(gd).display;\n",
       "        if (!display || display === 'none') {{\n",
       "            console.log([gd, 'removed!']);\n",
       "            Plotly.purge(gd);\n",
       "            observer.disconnect();\n",
       "        }}\n",
       "}});\n",
       "\n",
       "// Listen for the removal of the full notebook cells\n",
       "var notebookContainer = gd.closest('#notebook-container');\n",
       "if (notebookContainer) {{\n",
       "    x.observe(notebookContainer, {childList: true});\n",
       "}}\n",
       "\n",
       "// Listen for the clearing of the current output cell\n",
       "var outputEl = gd.closest('.output');\n",
       "if (outputEl) {{\n",
       "    x.observe(outputEl, {childList: true});\n",
       "}}\n",
       "\n",
       "                        })                };                });            </script>        </div>"
      ]
     },
     "metadata": {},
     "output_type": "display_data"
    }
   ],
   "source": [
    "px.violin(final_df.loc[final_df[\"prediction\"] == 1], x=\"sample\", y=\"good\",points=\"all\", color=\"sample\", hover_data=[\"cell\"], box=True,)"
   ]
  },
  {
   "cell_type": "code",
   "execution_count": null,
   "metadata": {},
   "outputs": [
    {
     "data": {
      "application/vnd.plotly.v1+json": {
       "config": {
        "plotlyServerURL": "https://plot.ly"
       },
       "data": [
        {
         "alignmentgroup": "True",
         "box": {
          "visible": true
         },
         "customdata": [
          [
           "RPE1WTPE20451"
          ],
          [
           "RPE1WTPE20484"
          ],
          [
           "RPE1WTPE20480"
          ],
          [
           "RPE1WTPE20431"
          ],
          [
           "RPE1WTPE20448"
          ],
          [
           "RPE1WTPE20447"
          ],
          [
           "RPE1WTPE20439"
          ],
          [
           "RPE1WTPE20421"
          ],
          [
           "RPE1WTPE20417"
          ],
          [
           "RPE1WTPE20461"
          ],
          [
           "RPE1WTPE20472"
          ],
          [
           "RPE1WTPE20464"
          ],
          [
           "RPE1WTPE20482"
          ],
          [
           "RPE1WTPE20466"
          ],
          [
           "RPE1WTPE20494"
          ],
          [
           "RPE1WTPE20458"
          ],
          [
           "RPE1WTPE20495"
          ],
          [
           "RPE1WTPE20403"
          ],
          [
           "RPE1WTPE20454"
          ],
          [
           "RPE1WTPE20455"
          ],
          [
           "RPE1WTPE20426"
          ],
          [
           "RPE1WTPE20446"
          ],
          [
           "RPE1WTPE20476"
          ],
          [
           "RPE1WTPE20450"
          ],
          [
           "RPE1WTPE20416"
          ],
          [
           "RPE1WTPE20423"
          ],
          [
           "RPE1WTPE20445"
          ],
          [
           "RPE1WTPE20428"
          ],
          [
           "RPE1WTPE20433"
          ],
          [
           "RPE1WTPE20457"
          ],
          [
           "RPE1WTPE20486"
          ],
          [
           "RPE1WTPE20459"
          ],
          [
           "RPE1WTPE20435"
          ],
          [
           "RPE1WTPE20420"
          ],
          [
           "RPE1WTPE20408"
          ],
          [
           "RPE1WTPE20430"
          ],
          [
           "RPE1WTPE20405"
          ],
          [
           "RPE1WTPE20410"
          ],
          [
           "RPE1WTPE20493"
          ],
          [
           "RPE1WTPE20441"
          ],
          [
           "RPE1WTPE20429"
          ],
          [
           "RPE1WTPE20477"
          ],
          [
           "RPE1WTPE20440"
          ],
          [
           "RPE1WTPE20468"
          ],
          [
           "RPE1WTPE20444"
          ],
          [
           "RPE1WTPE20469"
          ],
          [
           "RPE1WTPE20436"
          ],
          [
           "RPE1WTPE20437"
          ],
          [
           "RPE1WTPE20402"
          ],
          [
           "RPE1WTPE20424"
          ],
          [
           "RPE1WTPE20432"
          ],
          [
           "RPE1WTPE20438"
          ],
          [
           "RPE1WTPE20492"
          ],
          [
           "RPE1WTPE20481"
          ],
          [
           "RPE1WTPE20413"
          ],
          [
           "RPE1WTPE20449"
          ],
          [
           "RPE1WTPE20406"
          ],
          [
           "RPE1WTPE20456"
          ],
          [
           "RPE1WTPE20462"
          ],
          [
           "RPE1WTPE20473"
          ],
          [
           "RPE1WTPE20412"
          ],
          [
           "RPE1WTPE20470"
          ],
          [
           "RPE1WTPE20465"
          ],
          [
           "RPE1WTPE20422"
          ],
          [
           "RPE1WTPE20418"
          ],
          [
           "RPE1WTPE20463"
          ],
          [
           "RPE1WTPE20414"
          ],
          [
           "RPE1WTPE20434"
          ],
          [
           "RPE1WTPE20489"
          ],
          [
           "RPE1WTPE20425"
          ],
          [
           "RPE1WTPE20471"
          ],
          [
           "RPE1WTPE20467"
          ],
          [
           "RPE1WTPE20407"
          ],
          [
           "RPE1WTPE20479"
          ],
          [
           "RPE1WTPE20460"
          ],
          [
           "RPE1WTPE20401"
          ],
          [
           "RPE1WTPE20443"
          ],
          [
           "RPE1WTPE20411"
          ],
          [
           "RPE1WTPE20478"
          ],
          [
           "RPE1WTPE20415"
          ],
          [
           "RPE1WTPE20474"
          ],
          [
           "RPE1WTPE20453"
          ],
          [
           "RPE1WTPE20490"
          ],
          [
           "RPE1WTPE20419"
          ],
          [
           "RPE1WTPE20485"
          ],
          [
           "RPE1WTPE20442"
          ],
          [
           "RPE1WTPE20483"
          ],
          [
           "RPE1WTPE20452"
          ],
          [
           "RPE1WTPE20404"
          ],
          [
           "RPE1WTPE20491"
          ]
         ],
         "hovertemplate": "sample=%{x}<br>%dupl=%{y}<br>cell=%{customdata[0]}<extra></extra>",
         "legendgroup": "RPE1-WT",
         "marker": {
          "color": "#636efa"
         },
         "name": "RPE1-WT",
         "offsetgroup": "RPE1-WT",
         "orientation": "v",
         "points": "all",
         "scalegroup": "True",
         "showlegend": true,
         "type": "violin",
         "x": [
          "RPE1-WT",
          "RPE1-WT",
          "RPE1-WT",
          "RPE1-WT",
          "RPE1-WT",
          "RPE1-WT",
          "RPE1-WT",
          "RPE1-WT",
          "RPE1-WT",
          "RPE1-WT",
          "RPE1-WT",
          "RPE1-WT",
          "RPE1-WT",
          "RPE1-WT",
          "RPE1-WT",
          "RPE1-WT",
          "RPE1-WT",
          "RPE1-WT",
          "RPE1-WT",
          "RPE1-WT",
          "RPE1-WT",
          "RPE1-WT",
          "RPE1-WT",
          "RPE1-WT",
          "RPE1-WT",
          "RPE1-WT",
          "RPE1-WT",
          "RPE1-WT",
          "RPE1-WT",
          "RPE1-WT",
          "RPE1-WT",
          "RPE1-WT",
          "RPE1-WT",
          "RPE1-WT",
          "RPE1-WT",
          "RPE1-WT",
          "RPE1-WT",
          "RPE1-WT",
          "RPE1-WT",
          "RPE1-WT",
          "RPE1-WT",
          "RPE1-WT",
          "RPE1-WT",
          "RPE1-WT",
          "RPE1-WT",
          "RPE1-WT",
          "RPE1-WT",
          "RPE1-WT",
          "RPE1-WT",
          "RPE1-WT",
          "RPE1-WT",
          "RPE1-WT",
          "RPE1-WT",
          "RPE1-WT",
          "RPE1-WT",
          "RPE1-WT",
          "RPE1-WT",
          "RPE1-WT",
          "RPE1-WT",
          "RPE1-WT",
          "RPE1-WT",
          "RPE1-WT",
          "RPE1-WT",
          "RPE1-WT",
          "RPE1-WT",
          "RPE1-WT",
          "RPE1-WT",
          "RPE1-WT",
          "RPE1-WT",
          "RPE1-WT",
          "RPE1-WT",
          "RPE1-WT",
          "RPE1-WT",
          "RPE1-WT",
          "RPE1-WT",
          "RPE1-WT",
          "RPE1-WT",
          "RPE1-WT",
          "RPE1-WT",
          "RPE1-WT",
          "RPE1-WT",
          "RPE1-WT",
          "RPE1-WT",
          "RPE1-WT",
          "RPE1-WT",
          "RPE1-WT",
          "RPE1-WT",
          "RPE1-WT",
          "RPE1-WT",
          "RPE1-WT"
         ],
         "x0": " ",
         "xaxis": "x",
         "y": [
          67.1498452312739,
          66.70103634721796,
          67.01964624269574,
          67.7091845578585,
          66.54276940461305,
          68.40577641807891,
          64.8365992328353,
          66.64786115384214,
          67.11438726124645,
          68.06664423185241,
          68.15779798573716,
          67.47443647745497,
          58.239854934616254,
          69.0316869725254,
          66.91847865981126,
          68.578684466667,
          66.28666371730512,
          69.78636495706489,
          65.96924862407705,
          65.71145899287416,
          68.7164228620546,
          55.56921019855648,
          64.69797524002982,
          64.64966885605497,
          65.19873796870904,
          67.27892391048353,
          65.96399455717096,
          67.02133156867345,
          65.20844011302977,
          69.0409948383557,
          67.47360915198634,
          66.51679383043381,
          67.92166138781876,
          67.06583970723842,
          64.07932954236486,
          68.68351897697245,
          68.27372073543161,
          68.9694674770165,
          64.92683107810868,
          67.97833699351268,
          67.57054449423391,
          64.00259804446027,
          68.56259894217874,
          65.8581425582389,
          64.24744210096519,
          63.44057665994933,
          66.01601525988507,
          67.43694519736076,
          68.477179712419,
          66.33803103783372,
          68.30803541168275,
          67.59990511077147,
          64.68230142137173,
          65.58131681483803,
          64.05469762686579,
          67.14539254480206,
          67.59918056595986,
          65.62117699863433,
          66.92324214762655,
          66.96228882842527,
          65.17530690831931,
          66.59314168126826,
          69.22140136630192,
          68.35661319020132,
          68.53744903711814,
          60.826442621680556,
          68.45922563839889,
          67.48093621385726,
          69.06525210703309,
          68.66416904336967,
          64.29524167120047,
          68.74004610711546,
          68.27625091061901,
          65.72380465277692,
          61.49868597929966,
          69.46876447672376,
          69.56715151283294,
          67.77383225430776,
          65.4269260483884,
          66.97614793410537,
          67.85345314983935,
          67.29822440369107,
          68.41409575984814,
          66.02301801827684,
          65.40002466569177,
          68.6016176775251,
          65.05095344055431,
          65.21425483520426,
          67.1537854390563,
          66.40823655639005
         ],
         "y0": " ",
         "yaxis": "y"
        },
        {
         "alignmentgroup": "True",
         "box": {
          "visible": true
         },
         "customdata": [
          [
           "BM510x3PE20458"
          ],
          [
           "BM510x3PE20444"
          ],
          [
           "BM510x3PE20409"
          ],
          [
           "BM510x3PE20423"
          ],
          [
           "BM510x3PE20403"
          ],
          [
           "BM510x3PE20484"
          ],
          [
           "BM510x3PE20477"
          ],
          [
           "BM510x3PE20478"
          ],
          [
           "BM510x3PE20490"
          ],
          [
           "BM510x3PE20432"
          ],
          [
           "BM510x3PE20449"
          ],
          [
           "BM510x3PE20427"
          ],
          [
           "BM510x3PE20476"
          ],
          [
           "BM510x3PE20491"
          ],
          [
           "BM510x3PE20492"
          ],
          [
           "BM510x3PE20434"
          ],
          [
           "BM510x3PE20463"
          ],
          [
           "BM510x3PE20433"
          ],
          [
           "BM510x3PE20437"
          ],
          [
           "BM510x3PE20417"
          ],
          [
           "BM510x3PE20407"
          ],
          [
           "BM510x3PE20431"
          ],
          [
           "BM510x3PE20435"
          ],
          [
           "BM510x3PE20470"
          ],
          [
           "BM510x3PE20482"
          ],
          [
           "BM510x3PE20406"
          ],
          [
           "BM510x3PE20461"
          ],
          [
           "BM510x3PE20415"
          ],
          [
           "BM510x3PE20448"
          ],
          [
           "BM510x3PE20488"
          ],
          [
           "BM510x3PE20473"
          ],
          [
           "BM510x3PE20462"
          ],
          [
           "BM510x3PE20481"
          ],
          [
           "BM510x3PE20456"
          ],
          [
           "BM510x3PE20471"
          ],
          [
           "BM510x3PE20438"
          ],
          [
           "BM510x3PE20429"
          ],
          [
           "BM510x3PE20469"
          ],
          [
           "BM510x3PE20455"
          ],
          [
           "BM510x3PE20489"
          ],
          [
           "BM510x3PE20485"
          ],
          [
           "BM510x3PE20454"
          ],
          [
           "BM510x3PE20452"
          ],
          [
           "BM510x3PE20411"
          ],
          [
           "BM510x3PE20421"
          ],
          [
           "BM510x3PE20486"
          ],
          [
           "BM510x3PE20480"
          ],
          [
           "BM510x3PE20453"
          ],
          [
           "BM510x3PE20404"
          ],
          [
           "BM510x3PE20493"
          ],
          [
           "BM510x3PE20468"
          ],
          [
           "BM510x3PE20495"
          ],
          [
           "BM510x3PE20474"
          ],
          [
           "BM510x3PE20460"
          ],
          [
           "BM510x3PE20464"
          ],
          [
           "BM510x3PE20446"
          ],
          [
           "BM510x3PE20439"
          ],
          [
           "BM510x3PE20479"
          ],
          [
           "BM510x3PE20441"
          ],
          [
           "BM510x3PE20426"
          ],
          [
           "BM510x3PE20447"
          ],
          [
           "BM510x3PE20410"
          ],
          [
           "BM510x3PE20414"
          ],
          [
           "BM510x3PE20483"
          ],
          [
           "BM510x3PE20425"
          ],
          [
           "BM510x3PE20401"
          ],
          [
           "BM510x3PE20408"
          ],
          [
           "BM510x3PE20416"
          ],
          [
           "BM510x3PE20475"
          ],
          [
           "BM510x3PE20440"
          ],
          [
           "BM510x3PE20494"
          ],
          [
           "BM510x3PE20457"
          ],
          [
           "BM510x3PE20487"
          ],
          [
           "BM510x3PE20496"
          ],
          [
           "BM510x3PE20436"
          ],
          [
           "BM510x3PE20424"
          ],
          [
           "BM510x3PE20459"
          ],
          [
           "BM510x3PE20413"
          ],
          [
           "BM510x3PE20402"
          ],
          [
           "BM510x3PE20418"
          ],
          [
           "BM510x3PE20422"
          ],
          [
           "BM510x3PE20419"
          ]
         ],
         "hovertemplate": "sample=%{x}<br>%dupl=%{y}<br>cell=%{customdata[0]}<extra></extra>",
         "legendgroup": "RPE-BM510",
         "marker": {
          "color": "#EF553B"
         },
         "name": "RPE-BM510",
         "offsetgroup": "RPE-BM510",
         "orientation": "v",
         "points": "all",
         "scalegroup": "True",
         "showlegend": true,
         "type": "violin",
         "x": [
          "RPE-BM510",
          "RPE-BM510",
          "RPE-BM510",
          "RPE-BM510",
          "RPE-BM510",
          "RPE-BM510",
          "RPE-BM510",
          "RPE-BM510",
          "RPE-BM510",
          "RPE-BM510",
          "RPE-BM510",
          "RPE-BM510",
          "RPE-BM510",
          "RPE-BM510",
          "RPE-BM510",
          "RPE-BM510",
          "RPE-BM510",
          "RPE-BM510",
          "RPE-BM510",
          "RPE-BM510",
          "RPE-BM510",
          "RPE-BM510",
          "RPE-BM510",
          "RPE-BM510",
          "RPE-BM510",
          "RPE-BM510",
          "RPE-BM510",
          "RPE-BM510",
          "RPE-BM510",
          "RPE-BM510",
          "RPE-BM510",
          "RPE-BM510",
          "RPE-BM510",
          "RPE-BM510",
          "RPE-BM510",
          "RPE-BM510",
          "RPE-BM510",
          "RPE-BM510",
          "RPE-BM510",
          "RPE-BM510",
          "RPE-BM510",
          "RPE-BM510",
          "RPE-BM510",
          "RPE-BM510",
          "RPE-BM510",
          "RPE-BM510",
          "RPE-BM510",
          "RPE-BM510",
          "RPE-BM510",
          "RPE-BM510",
          "RPE-BM510",
          "RPE-BM510",
          "RPE-BM510",
          "RPE-BM510",
          "RPE-BM510",
          "RPE-BM510",
          "RPE-BM510",
          "RPE-BM510",
          "RPE-BM510",
          "RPE-BM510",
          "RPE-BM510",
          "RPE-BM510",
          "RPE-BM510",
          "RPE-BM510",
          "RPE-BM510",
          "RPE-BM510",
          "RPE-BM510",
          "RPE-BM510",
          "RPE-BM510",
          "RPE-BM510",
          "RPE-BM510",
          "RPE-BM510",
          "RPE-BM510",
          "RPE-BM510",
          "RPE-BM510",
          "RPE-BM510",
          "RPE-BM510",
          "RPE-BM510",
          "RPE-BM510",
          "RPE-BM510",
          "RPE-BM510",
          "RPE-BM510"
         ],
         "x0": " ",
         "xaxis": "x",
         "y": [
          54.74562051793257,
          50.414657084684336,
          56.96014963873126,
          51.064933064060405,
          58.02994894718429,
          53.003064728915184,
          50.2265969141976,
          50.6492249845771,
          52.54374650198497,
          52.28373162140154,
          52.27013722449363,
          54.41705016807607,
          51.73010448296633,
          54.24292084732593,
          51.530899130881814,
          53.68645131581857,
          50.570968456658626,
          54.248723951467724,
          54.65586032335692,
          53.77071328380099,
          56.12034925754964,
          53.421575401949426,
          55.596835836814506,
          49.650122466828506,
          46.48440791053804,
          55.41742966245435,
          56.651010910815295,
          51.13264370431142,
          53.044406995372874,
          50.78116497632704,
          53.677309976702944,
          54.17766744116961,
          52.85908845059991,
          51.001017634911896,
          46.96548702505144,
          53.694340258337505,
          55.56316579383559,
          51.74108719067178,
          51.42353687539423,
          56.75929157420325,
          51.72900634437686,
          53.32636499258866,
          51.133135915876,
          53.50871624080792,
          52.50401861672793,
          52.4677341037603,
          51.5450542722421,
          54.72766849476385,
          51.749846413361524,
          54.03200056292739,
          53.06599947589753,
          45.50506192120116,
          54.520737924910456,
          48.38938500487778,
          53.1836730737542,
          38.66324177320251,
          50.68509750121443,
          49.70391162704705,
          56.57626663464944,
          55.127690450680156,
          53.09826973664341,
          53.706968732514014,
          52.62712867115512,
          52.617740621083065,
          55.886070884629824,
          56.66143695134548,
          51.74239180579468,
          50.73199035244914,
          55.37906237107899,
          52.207054592963054,
          51.63321480064208,
          54.45679392789785,
          48.625607793648015,
          51.65933690868856,
          53.88013808873644,
          51.19089696429964,
          54.61782130372238,
          51.81713971648719,
          55.09379727188903,
          54.88426838776487,
          53.46980978123474,
          52.99787412272365
         ],
         "y0": " ",
         "yaxis": "y"
        },
        {
         "alignmentgroup": "True",
         "box": {
          "visible": true
         },
         "customdata": [
          [
           "GM20509Bx01PE20581"
          ],
          [
           "GM20509Bx01PE20562"
          ],
          [
           "GM20509Bx01PE20557"
          ],
          [
           "GM20509Bx01PE20565"
          ],
          [
           "GM20509Bx01PE20533"
          ],
          [
           "GM20509Bx01PE20553"
          ],
          [
           "GM20509Bx01PE20549"
          ],
          [
           "GM20509Bx01PE20587"
          ],
          [
           "GM20509Bx01PE20542"
          ],
          [
           "GM20509Bx01PE20530"
          ],
          [
           "GM20509Bx01PE20517"
          ],
          [
           "GM20509Bx01PE20526"
          ],
          [
           "GM20509Bx01PE20510"
          ],
          [
           "GM20509Bx01PE20537"
          ],
          [
           "GM20509Bx01PE20508"
          ],
          [
           "GM20509Bx01PE20544"
          ],
          [
           "GM20509Bx01PE20546"
          ],
          [
           "GM20509Bx01PE20560"
          ],
          [
           "GM20509Bx01PE20566"
          ],
          [
           "GM20509Bx01PE20529"
          ],
          [
           "GM20509Bx01PE20503"
          ],
          [
           "GM20509Bx01PE20541"
          ],
          [
           "GM20509Bx01PE20520"
          ],
          [
           "GM20509Bx01PE20555"
          ],
          [
           "GM20509Bx01PE20561"
          ],
          [
           "GM20509Bx01PE20579"
          ],
          [
           "GM20509Bx01PE20539"
          ],
          [
           "GM20509Bx01PE20515"
          ],
          [
           "GM20509Bx01PE20550"
          ],
          [
           "GM20509Bx01PE20568"
          ],
          [
           "GM20509Bx01PE20585"
          ],
          [
           "GM20509Bx01PE20552"
          ],
          [
           "GM20509Bx01PE20501"
          ],
          [
           "GM20509Bx01PE20548"
          ],
          [
           "GM20509Bx01PE20586"
          ],
          [
           "GM20509Bx01PE20525"
          ],
          [
           "GM20509Bx01PE20582"
          ],
          [
           "GM20509Bx01PE20576"
          ],
          [
           "GM20509Bx01PE20509"
          ],
          [
           "GM20509Bx01PE20506"
          ],
          [
           "GM20509Bx01PE20518"
          ],
          [
           "GM20509Bx01PE20569"
          ],
          [
           "GM20509Bx01PE20511"
          ],
          [
           "GM20509Bx01PE20531"
          ],
          [
           "GM20509Bx01PE20519"
          ],
          [
           "GM20509Bx01PE20589"
          ],
          [
           "GM20509Bx01PE20545"
          ],
          [
           "GM20509Bx01PE20514"
          ],
          [
           "GM20509Bx01PE20535"
          ],
          [
           "GM20509Bx01PE20556"
          ],
          [
           "GM20509Bx01PE20502"
          ],
          [
           "GM20509Bx01PE20547"
          ],
          [
           "GM20509Bx01PE20536"
          ]
         ],
         "hovertemplate": "sample=%{x}<br>%dupl=%{y}<br>cell=%{customdata[0]}<extra></extra>",
         "legendgroup": "LCL",
         "marker": {
          "color": "#00cc96"
         },
         "name": "LCL",
         "offsetgroup": "LCL",
         "orientation": "v",
         "points": "all",
         "scalegroup": "True",
         "showlegend": true,
         "type": "violin",
         "x": [
          "LCL",
          "LCL",
          "LCL",
          "LCL",
          "LCL",
          "LCL",
          "LCL",
          "LCL",
          "LCL",
          "LCL",
          "LCL",
          "LCL",
          "LCL",
          "LCL",
          "LCL",
          "LCL",
          "LCL",
          "LCL",
          "LCL",
          "LCL",
          "LCL",
          "LCL",
          "LCL",
          "LCL",
          "LCL",
          "LCL",
          "LCL",
          "LCL",
          "LCL",
          "LCL",
          "LCL",
          "LCL",
          "LCL",
          "LCL",
          "LCL",
          "LCL",
          "LCL",
          "LCL",
          "LCL",
          "LCL",
          "LCL",
          "LCL",
          "LCL",
          "LCL",
          "LCL",
          "LCL",
          "LCL",
          "LCL",
          "LCL",
          "LCL",
          "LCL",
          "LCL",
          "LCL"
         ],
         "x0": " ",
         "xaxis": "x",
         "y": [
          49.23160986728232,
          40.51864912091885,
          43.95237991835317,
          44.9244044238996,
          45.13120955374983,
          42.44929055936036,
          44.944092043354864,
          47.3035758697054,
          47.83837937035779,
          41.366226492980346,
          42.503878737971824,
          43.59084773328281,
          46.103248680254254,
          43.369300068172244,
          41.97291936732459,
          44.50908938998094,
          40.4104815666597,
          43.70168908634169,
          42.91738353068178,
          43.263165514019306,
          45.80970448526725,
          44.17030936798126,
          43.60124134807915,
          42.650726194367905,
          40.909397838180375,
          53.91434227953763,
          41.48629749624064,
          3.3883135462170504,
          47.90622614132657,
          42.5284539181909,
          48.72322983912286,
          43.69382058439397,
          43.96101545694997,
          39.798243719970735,
          46.50731756600723,
          43.20199828021709,
          47.88158244561325,
          44.61100224855186,
          44.076163986392594,
          47.52854446119776,
          44.40358775215643,
          47.03840807688325,
          46.4408528653595,
          37.735152575741004,
          40.358493988333635,
          43.09555685017214,
          47.59041338649017,
          40.74852147186607,
          46.48105100948102,
          49.869548772102725,
          37.37792123981854,
          48.00421859356815,
          31.039424162445258
         ],
         "y0": " ",
         "yaxis": "y"
        },
        {
         "alignmentgroup": "True",
         "box": {
          "visible": true
         },
         "customdata": [
          [
           "C7x02PE20351"
          ],
          [
           "C7x02PE20301"
          ],
          [
           "C7x02PE20359"
          ],
          [
           "C7x02PE20375"
          ],
          [
           "C7x02PE20332"
          ],
          [
           "C7x02PE20348"
          ],
          [
           "C7x02PE20358"
          ],
          [
           "C7x02PE20356"
          ],
          [
           "C7x02PE20324"
          ],
          [
           "C7x02PE20311"
          ],
          [
           "C7x02PE20367"
          ],
          [
           "C7x02PE20347"
          ],
          [
           "C7x02PE20390"
          ],
          [
           "C7x02PE20338"
          ],
          [
           "C7x02PE20328"
          ],
          [
           "C7x02PE20344"
          ],
          [
           "C7x02PE20319"
          ],
          [
           "C7x02PE20355"
          ],
          [
           "C7x02PE20326"
          ],
          [
           "C7x02PE20382"
          ],
          [
           "C7x02PE20391"
          ],
          [
           "C7x02PE20377"
          ],
          [
           "C7x02PE20369"
          ],
          [
           "C7x02PE20361"
          ],
          [
           "C7x02PE20310"
          ],
          [
           "C7x02PE20321"
          ],
          [
           "C7x02PE20334"
          ],
          [
           "C7x02PE20376"
          ],
          [
           "C7x02PE20383"
          ],
          [
           "C7x02PE20363"
          ],
          [
           "C7x02PE20362"
          ],
          [
           "C7x02PE20340"
          ],
          [
           "C7x02PE20370"
          ],
          [
           "C7x02PE20392"
          ],
          [
           "C7x02PE20374"
          ],
          [
           "C7x02PE20320"
          ],
          [
           "C7x02PE20341"
          ],
          [
           "C7x02PE20323"
          ],
          [
           "C7x02PE20302"
          ],
          [
           "C7x02PE20386"
          ],
          [
           "C7x02PE20304"
          ],
          [
           "C7x02PE20365"
          ],
          [
           "C7x02PE20368"
          ],
          [
           "C7x02PE20331"
          ],
          [
           "C7x02PE20353"
          ],
          [
           "C7x02PE20371"
          ],
          [
           "C7x02PE20345"
          ],
          [
           "C7x02PE20372"
          ],
          [
           "C7x02PE20307"
          ],
          [
           "C7x02PE20325"
          ],
          [
           "C7x02PE20337"
          ],
          [
           "C7x02PE20366"
          ],
          [
           "C7x02PE20349"
          ],
          [
           "C7x02PE20393"
          ],
          [
           "C7x02PE20333"
          ],
          [
           "C7x02PE20336"
          ],
          [
           "C7x02PE20364"
          ],
          [
           "C7x02PE20360"
          ],
          [
           "C7x02PE20309"
          ],
          [
           "C7x02PE20339"
          ],
          [
           "C7x02PE20327"
          ],
          [
           "C7x02PE20384"
          ],
          [
           "C7x02PE20379"
          ],
          [
           "C7x02PE20343"
          ],
          [
           "C7x02PE20346"
          ],
          [
           "C7x02PE20303"
          ],
          [
           "C7x02PE20350"
          ],
          [
           "C7x02PE20354"
          ],
          [
           "C7x02PE20387"
          ],
          [
           "C7x02PE20313"
          ],
          [
           "C7x02PE20388"
          ],
          [
           "C7x02PE20306"
          ],
          [
           "C7x02PE20335"
          ],
          [
           "C7x02PE20396"
          ],
          [
           "C7x02PE20330"
          ],
          [
           "C7x02PE20378"
          ],
          [
           "C7x02PE20317"
          ],
          [
           "C7x02PE20322"
          ],
          [
           "C7x02PE20342"
          ],
          [
           "C7x02PE20352"
          ],
          [
           "C7x02PE20308"
          ],
          [
           "C7x02PE20380"
          ],
          [
           "C7x02PE20316"
          ],
          [
           "C7x02PE20373"
          ],
          [
           "C7x02PE20318"
          ]
         ],
         "hovertemplate": "sample=%{x}<br>%dupl=%{y}<br>cell=%{customdata[0]}<extra></extra>",
         "legendgroup": "C7",
         "marker": {
          "color": "#ab63fa"
         },
         "name": "C7",
         "offsetgroup": "C7",
         "orientation": "v",
         "points": "all",
         "scalegroup": "True",
         "showlegend": true,
         "type": "violin",
         "x": [
          "C7",
          "C7",
          "C7",
          "C7",
          "C7",
          "C7",
          "C7",
          "C7",
          "C7",
          "C7",
          "C7",
          "C7",
          "C7",
          "C7",
          "C7",
          "C7",
          "C7",
          "C7",
          "C7",
          "C7",
          "C7",
          "C7",
          "C7",
          "C7",
          "C7",
          "C7",
          "C7",
          "C7",
          "C7",
          "C7",
          "C7",
          "C7",
          "C7",
          "C7",
          "C7",
          "C7",
          "C7",
          "C7",
          "C7",
          "C7",
          "C7",
          "C7",
          "C7",
          "C7",
          "C7",
          "C7",
          "C7",
          "C7",
          "C7",
          "C7",
          "C7",
          "C7",
          "C7",
          "C7",
          "C7",
          "C7",
          "C7",
          "C7",
          "C7",
          "C7",
          "C7",
          "C7",
          "C7",
          "C7",
          "C7",
          "C7",
          "C7",
          "C7",
          "C7",
          "C7",
          "C7",
          "C7",
          "C7",
          "C7",
          "C7",
          "C7",
          "C7",
          "C7",
          "C7",
          "C7",
          "C7",
          "C7",
          "C7",
          "C7",
          "C7"
         ],
         "x0": " ",
         "xaxis": "x",
         "y": [
          57.759669150384994,
          55.844098799896535,
          56.43512134015351,
          57.55397710595832,
          55.383167988335956,
          56.92902763204458,
          57.27142000137434,
          55.44270746129622,
          56.2000739000209,
          58.14099737787946,
          55.088067118010166,
          56.12115056882383,
          57.18189823334781,
          59.426465818002406,
          56.59112719798696,
          56.970797757470415,
          56.664262818689956,
          57.77178343423981,
          56.777653641120516,
          54.394003625179465,
          54.75392424269793,
          53.57481223763063,
          54.11912083554491,
          52.97706279941916,
          58.50739591732172,
          58.96985723241009,
          57.934256018570395,
          54.676115178135674,
          55.5583157371755,
          57.369654697653246,
          56.43296262630876,
          55.627745007057406,
          55.27148605363781,
          52.879801737974894,
          57.209807917767165,
          58.24840059074599,
          59.4638353151582,
          55.27773922751224,
          57.428143730818526,
          51.069996101615224,
          57.31009097704776,
          56.059835294569325,
          57.02277888729314,
          57.71517004600105,
          56.53918547389748,
          57.92567466938996,
          54.56917326619561,
          54.16617098550744,
          58.485455636112285,
          55.08701000202683,
          57.17169098205758,
          57.58952241190451,
          58.10923211686718,
          49.58332783815151,
          58.2602109524788,
          58.03641473997424,
          55.81241273777766,
          54.49003110774385,
          59.784066423899,
          60.53780349180185,
          59.32221020221353,
          54.14983904763623,
          55.11004716146321,
          57.895051294541645,
          59.81997373344342,
          59.32359689279987,
          59.39159557292455,
          57.98678751579429,
          56.193069223934145,
          56.00450324832935,
          54.84185521270639,
          57.18532102387389,
          57.499961310491045,
          52.62017443386722,
          56.20001877504561,
          54.20713239752802,
          54.75779570271525,
          58.548308178311835,
          58.598331398033196,
          58.15686917881847,
          57.07701722066773,
          52.281623999018734,
          49.85152084699867,
          55.65253830448446,
          58.28429730201533
         ],
         "y0": " ",
         "yaxis": "y"
        },
        {
         "alignmentgroup": "True",
         "box": {
          "visible": true
         },
         "customdata": [
          [
           "RPE1BCL11Ax03PE20403"
          ],
          [
           "RPE1BCL11Ax03PE20405"
          ],
          [
           "RPE1BCL11Ax03PE20409"
          ],
          [
           "RPE1BCL11Ax03PE20410"
          ],
          [
           "RPE1BCL11Ax03PE20411"
          ],
          [
           "RPE1BCL11Ax03PE20418"
          ],
          [
           "RPE1BCL11Ax03PE20420"
          ],
          [
           "RPE1BCL11Ax03PE20421"
          ],
          [
           "RPE1BCL11Ax03PE20425"
          ],
          [
           "RPE1BCL11Ax03PE20426"
          ],
          [
           "RPE1BCL11Ax03PE20427"
          ],
          [
           "RPE1BCL11Ax03PE20432"
          ],
          [
           "RPE1BCL11Ax03PE20433"
          ],
          [
           "RPE1BCL11Ax03PE20440"
          ],
          [
           "RPE1BCL11Ax03PE20441"
          ],
          [
           "RPE1BCL11Ax03PE20443"
          ],
          [
           "RPE1BCL11Ax03PE20457"
          ],
          [
           "RPE1BCL11Ax03PE20461"
          ],
          [
           "RPE1BCL11Ax03PE20463"
          ],
          [
           "RPE1BCL11Ax03PE20465"
          ],
          [
           "RPE1BCL11Ax03PE20469"
          ],
          [
           "RPE1BCL11Ax03PE20475"
          ],
          [
           "RPE1BCL11Ax03PE20480"
          ],
          [
           "RPE1BCL11Ax03PE20482"
          ],
          [
           "RPE1BCL11Ax03PE20484"
          ],
          [
           "RPE1BCL11Ax03PE20485"
          ],
          [
           "RPE1BCL11Ax03PE20487"
          ],
          [
           "RPE1BCL11Ax03PE20490"
          ]
         ],
         "hovertemplate": "sample=%{x}<br>%dupl=%{y}<br>cell=%{customdata[0]}<extra></extra>",
         "legendgroup": "RPE1BCL11A",
         "marker": {
          "color": "#FFA15A"
         },
         "name": "RPE1BCL11A",
         "offsetgroup": "RPE1BCL11A",
         "orientation": "v",
         "points": "all",
         "scalegroup": "True",
         "showlegend": true,
         "type": "violin",
         "x": [
          "RPE1BCL11A",
          "RPE1BCL11A",
          "RPE1BCL11A",
          "RPE1BCL11A",
          "RPE1BCL11A",
          "RPE1BCL11A",
          "RPE1BCL11A",
          "RPE1BCL11A",
          "RPE1BCL11A",
          "RPE1BCL11A",
          "RPE1BCL11A",
          "RPE1BCL11A",
          "RPE1BCL11A",
          "RPE1BCL11A",
          "RPE1BCL11A",
          "RPE1BCL11A",
          "RPE1BCL11A",
          "RPE1BCL11A",
          "RPE1BCL11A",
          "RPE1BCL11A",
          "RPE1BCL11A",
          "RPE1BCL11A",
          "RPE1BCL11A",
          "RPE1BCL11A",
          "RPE1BCL11A",
          "RPE1BCL11A",
          "RPE1BCL11A",
          "RPE1BCL11A"
         ],
         "x0": " ",
         "xaxis": "x",
         "y": [
          49.9906116876665,
          48.97494579040237,
          51.50534047507954,
          49.68942343990036,
          48.041153731189574,
          52.27553532655601,
          51.453744100751805,
          51.56511132483861,
          50.654369077166336,
          50.781402748502146,
          49.42897460647957,
          46.964437880616636,
          50.942917472932635,
          61.4728907996946,
          50.66564502295545,
          49.46741819249754,
          50.987317110440465,
          49.89348432037863,
          49.65751890366226,
          49.614493524250825,
          49.76224271595736,
          49.70135909784152,
          47.740369127445184,
          47.734852695942195,
          49.24668183286668,
          49.37295778812745,
          47.87205866849063,
          48.22436805312469
         ],
         "y0": " ",
         "yaxis": "y"
        },
        {
         "alignmentgroup": "True",
         "box": {
          "visible": true
         },
         "customdata": [
          [
           "PC7PC37PC39PC42x01PE20326"
          ],
          [
           "PC7PC37PC39PC42x01PE20343"
          ],
          [
           "PC7PC37PC39PC42x01PE20348"
          ],
          [
           "PC7PC37PC39PC42x01PE20374"
          ],
          [
           "PC7PC37PC39PC42x01PE20393"
          ],
          [
           "PC7PC37PC39PC42x01PE20395"
          ]
         ],
         "hovertemplate": "sample=%{x}<br>%dupl=%{y}<br>cell=%{customdata[0]}<extra></extra>",
         "legendgroup": "PC7PC37PC39PC42",
         "marker": {
          "color": "#19d3f3"
         },
         "name": "PC7PC37PC39PC42",
         "offsetgroup": "PC7PC37PC39PC42",
         "orientation": "v",
         "points": "all",
         "scalegroup": "True",
         "showlegend": true,
         "type": "violin",
         "x": [
          "PC7PC37PC39PC42",
          "PC7PC37PC39PC42",
          "PC7PC37PC39PC42",
          "PC7PC37PC39PC42",
          "PC7PC37PC39PC42",
          "PC7PC37PC39PC42"
         ],
         "x0": " ",
         "xaxis": "x",
         "y": [
          41.1492713639184,
          51.935612860167545,
          43.95831088662947,
          54.84371486096086,
          49.483369070252564,
          3.609392270900695
         ],
         "y0": " ",
         "yaxis": "y"
        },
        {
         "alignmentgroup": "True",
         "box": {
          "visible": true
         },
         "customdata": [
          [
           "HGSVCpool1xulOPxmanualPE20403"
          ],
          [
           "HGSVCpool1xulOPxmanualPE20406"
          ],
          [
           "HGSVCpool1xulOPxmanualPE20407"
          ],
          [
           "HGSVCpool1xulOPxmanualPE20408"
          ],
          [
           "HGSVCpool1xulOPxmanualPE20409"
          ],
          [
           "HGSVCpool1xulOPxmanualPE20410"
          ],
          [
           "HGSVCpool1xulOPxmanualPE20411"
          ],
          [
           "HGSVCpool1xulOPxmanualPE20414"
          ],
          [
           "HGSVCpool1xulOPxmanualPE20417"
          ],
          [
           "HGSVCpool1xulOPxmanualPE20420"
          ],
          [
           "HGSVCpool1xulOPxmanualPE20421"
          ],
          [
           "HGSVCpool1xulOPxmanualPE20422"
          ],
          [
           "HGSVCpool1xulOPxmanualPE20423"
          ],
          [
           "HGSVCpool1xulOPxmanualPE20424"
          ],
          [
           "HGSVCpool1xulOPxmanualPE20425"
          ],
          [
           "HGSVCpool1xulOPxmanualPE20429"
          ],
          [
           "HGSVCpool1xulOPxmanualPE20433"
          ],
          [
           "HGSVCpool1xulOPxmanualPE20435"
          ],
          [
           "HGSVCpool1xulOPxmanualPE20436"
          ],
          [
           "HGSVCpool1xulOPxmanualPE20439"
          ],
          [
           "HGSVCpool1xulOPxmanualPE20440"
          ],
          [
           "HGSVCpool1xulOPxmanualPE20441"
          ],
          [
           "HGSVCpool1xulOPxmanualPE20442"
          ],
          [
           "HGSVCpool1xulOPxmanualPE20449"
          ],
          [
           "HGSVCpool1xulOPxmanualPE20454"
          ],
          [
           "HGSVCpool1xulOPxmanualPE20456"
          ],
          [
           "HGSVCpool1xulOPxmanualPE20462"
          ],
          [
           "HGSVCpool1xulOPxmanualPE20463"
          ],
          [
           "HGSVCpool1xulOPxmanualPE20464"
          ],
          [
           "HGSVCpool1xulOPxmanualPE20466"
          ],
          [
           "HGSVCpool1xulOPxmanualPE20467"
          ],
          [
           "HGSVCpool1xulOPxmanualPE20468"
          ],
          [
           "HGSVCpool1xulOPxmanualPE20470"
          ],
          [
           "HGSVCpool1xulOPxmanualPE20472"
          ],
          [
           "HGSVCpool1xulOPxmanualPE20475"
          ],
          [
           "HGSVCpool1xulOPxmanualPE20477"
          ],
          [
           "HGSVCpool1xulOPxmanualPE20478"
          ],
          [
           "HGSVCpool1xulOPxmanualPE20479"
          ],
          [
           "HGSVCpool1xulOPxmanualPE20483"
          ],
          [
           "HGSVCpool1xulOPxmanualPE20484"
          ],
          [
           "HGSVCpool1xulOPxmanualPE20485"
          ],
          [
           "HGSVCpool1xulOPxmanualPE20488"
          ],
          [
           "HGSVCpool1xulOPxmanualPE20489"
          ],
          [
           "HGSVCpool1xulOPxmanualPE20492"
          ],
          [
           "HGSVCpool1xulOPxmanualPE20493"
          ]
         ],
         "hovertemplate": "sample=%{x}<br>%dupl=%{y}<br>cell=%{customdata[0]}<extra></extra>",
         "legendgroup": "HGSVCpool1xulOPxmanual",
         "marker": {
          "color": "#FF6692"
         },
         "name": "HGSVCpool1xulOPxmanual",
         "offsetgroup": "HGSVCpool1xulOPxmanual",
         "orientation": "v",
         "points": "all",
         "scalegroup": "True",
         "showlegend": true,
         "type": "violin",
         "x": [
          "HGSVCpool1xulOPxmanual",
          "HGSVCpool1xulOPxmanual",
          "HGSVCpool1xulOPxmanual",
          "HGSVCpool1xulOPxmanual",
          "HGSVCpool1xulOPxmanual",
          "HGSVCpool1xulOPxmanual",
          "HGSVCpool1xulOPxmanual",
          "HGSVCpool1xulOPxmanual",
          "HGSVCpool1xulOPxmanual",
          "HGSVCpool1xulOPxmanual",
          "HGSVCpool1xulOPxmanual",
          "HGSVCpool1xulOPxmanual",
          "HGSVCpool1xulOPxmanual",
          "HGSVCpool1xulOPxmanual",
          "HGSVCpool1xulOPxmanual",
          "HGSVCpool1xulOPxmanual",
          "HGSVCpool1xulOPxmanual",
          "HGSVCpool1xulOPxmanual",
          "HGSVCpool1xulOPxmanual",
          "HGSVCpool1xulOPxmanual",
          "HGSVCpool1xulOPxmanual",
          "HGSVCpool1xulOPxmanual",
          "HGSVCpool1xulOPxmanual",
          "HGSVCpool1xulOPxmanual",
          "HGSVCpool1xulOPxmanual",
          "HGSVCpool1xulOPxmanual",
          "HGSVCpool1xulOPxmanual",
          "HGSVCpool1xulOPxmanual",
          "HGSVCpool1xulOPxmanual",
          "HGSVCpool1xulOPxmanual",
          "HGSVCpool1xulOPxmanual",
          "HGSVCpool1xulOPxmanual",
          "HGSVCpool1xulOPxmanual",
          "HGSVCpool1xulOPxmanual",
          "HGSVCpool1xulOPxmanual",
          "HGSVCpool1xulOPxmanual",
          "HGSVCpool1xulOPxmanual",
          "HGSVCpool1xulOPxmanual",
          "HGSVCpool1xulOPxmanual",
          "HGSVCpool1xulOPxmanual",
          "HGSVCpool1xulOPxmanual",
          "HGSVCpool1xulOPxmanual",
          "HGSVCpool1xulOPxmanual",
          "HGSVCpool1xulOPxmanual",
          "HGSVCpool1xulOPxmanual"
         ],
         "x0": " ",
         "xaxis": "x",
         "y": [
          62.65336929911758,
          61.56238749595093,
          61.833891722716416,
          61.04254215973577,
          62.99856492746275,
          61.75902349502637,
          66.04941746428527,
          61.19967657158845,
          61.29017205463628,
          60.2053884437998,
          60.24433217379325,
          59.07028323285925,
          61.37232097849786,
          42.514709168094136,
          60.81764808659119,
          62.79863051296214,
          59.68227112697958,
          60.12286502203814,
          62.07358846395628,
          50.222106800549085,
          54.067666500466515,
          61.85581376128362,
          60.398845628769415,
          62.57516305445097,
          58.77170071675061,
          42.34649743638136,
          60.04108989753368,
          60.38702422765393,
          49.88948452006371,
          62.46442083698184,
          61.789231676301384,
          60.58017847253544,
          60.831020632904156,
          59.77890853095471,
          59.90875244198526,
          61.41487674684306,
          58.527335111346225,
          58.17167391476509,
          59.872319020269195,
          59.809295553423226,
          60.27963316276047,
          49.66644921538173,
          63.10692207947742,
          55.62748668150246,
          58.9269663107079
         ],
         "y0": " ",
         "yaxis": "y"
        },
        {
         "alignmentgroup": "True",
         "box": {
          "visible": true
         },
         "customdata": [
          [
           "KM1096PE20305"
          ],
          [
           "KM1096PE20307"
          ],
          [
           "KM1096PE20308"
          ],
          [
           "KM1096PE20309"
          ],
          [
           "KM1096PE20310"
          ],
          [
           "KM1096PE20311"
          ],
          [
           "KM1096PE20312"
          ],
          [
           "KM1096PE20313"
          ],
          [
           "KM1096PE20314"
          ],
          [
           "KM1096PE20315"
          ],
          [
           "KM1096PE20318"
          ],
          [
           "KM1096PE20319"
          ],
          [
           "KM1096PE20320"
          ],
          [
           "KM1096PE20321"
          ],
          [
           "KM1096PE20322"
          ],
          [
           "KM1096PE20324"
          ],
          [
           "KM1096PE20326"
          ],
          [
           "KM1096PE20327"
          ],
          [
           "KM1096PE20328"
          ],
          [
           "KM1096PE20329"
          ],
          [
           "KM1096PE20330"
          ],
          [
           "KM1096PE20331"
          ],
          [
           "KM1096PE20332"
          ],
          [
           "KM1096PE20333"
          ],
          [
           "KM1096PE20334"
          ],
          [
           "KM1096PE20336"
          ],
          [
           "KM1096PE20338"
          ],
          [
           "KM1096PE20339"
          ],
          [
           "KM1096PE20344"
          ],
          [
           "KM1096PE20345"
          ],
          [
           "KM1096PE20349"
          ],
          [
           "KM1096PE20350"
          ],
          [
           "KM1096PE20353"
          ],
          [
           "KM1096PE20354"
          ],
          [
           "KM1096PE20355"
          ],
          [
           "KM1096PE20356"
          ],
          [
           "KM1096PE20357"
          ],
          [
           "KM1096PE20360"
          ],
          [
           "KM1096PE20361"
          ],
          [
           "KM1096PE20362"
          ],
          [
           "KM1096PE20363"
          ],
          [
           "KM1096PE20364"
          ],
          [
           "KM1096PE20366"
          ],
          [
           "KM1096PE20367"
          ],
          [
           "KM1096PE20368"
          ],
          [
           "KM1096PE20370"
          ],
          [
           "KM1096PE20371"
          ],
          [
           "KM1096PE20373"
          ],
          [
           "KM1096PE20375"
          ],
          [
           "KM1096PE20378"
          ],
          [
           "KM1096PE20379"
          ],
          [
           "KM1096PE20380"
          ],
          [
           "KM1096PE20381"
          ],
          [
           "KM1096PE20382"
          ],
          [
           "KM1096PE20383"
          ],
          [
           "KM1096PE20384"
          ],
          [
           "KM1096PE20385"
          ],
          [
           "KM1096PE20390"
          ],
          [
           "KM1096PE20391"
          ],
          [
           "KM1096PE20393"
          ],
          [
           "KM1096PE20394"
          ],
          [
           "KM1096PE20395"
          ]
         ],
         "hovertemplate": "sample=%{x}<br>%dupl=%{y}<br>cell=%{customdata[0]}<extra></extra>",
         "legendgroup": "KM1096",
         "marker": {
          "color": "#B6E880"
         },
         "name": "KM1096",
         "offsetgroup": "KM1096",
         "orientation": "v",
         "points": "all",
         "scalegroup": "True",
         "showlegend": true,
         "type": "violin",
         "x": [
          "KM1096",
          "KM1096",
          "KM1096",
          "KM1096",
          "KM1096",
          "KM1096",
          "KM1096",
          "KM1096",
          "KM1096",
          "KM1096",
          "KM1096",
          "KM1096",
          "KM1096",
          "KM1096",
          "KM1096",
          "KM1096",
          "KM1096",
          "KM1096",
          "KM1096",
          "KM1096",
          "KM1096",
          "KM1096",
          "KM1096",
          "KM1096",
          "KM1096",
          "KM1096",
          "KM1096",
          "KM1096",
          "KM1096",
          "KM1096",
          "KM1096",
          "KM1096",
          "KM1096",
          "KM1096",
          "KM1096",
          "KM1096",
          "KM1096",
          "KM1096",
          "KM1096",
          "KM1096",
          "KM1096",
          "KM1096",
          "KM1096",
          "KM1096",
          "KM1096",
          "KM1096",
          "KM1096",
          "KM1096",
          "KM1096",
          "KM1096",
          "KM1096",
          "KM1096",
          "KM1096",
          "KM1096",
          "KM1096",
          "KM1096",
          "KM1096",
          "KM1096",
          "KM1096",
          "KM1096",
          "KM1096",
          "KM1096"
         ],
         "x0": " ",
         "xaxis": "x",
         "y": [
          52.70871862263563,
          51.47785118412522,
          54.54703785044938,
          53.083090580173774,
          63.08109929431418,
          51.41730795782375,
          62.03953909377681,
          51.72525263297339,
          53.367821978372646,
          50.385871044483444,
          52.43983371829537,
          49.42093539480694,
          52.880898014211986,
          48.37636223967768,
          51.22741007099667,
          53.280933155519826,
          51.2927714930874,
          52.33541563999021,
          47.09175738724728,
          53.17966721990426,
          50.541411418504424,
          52.488247305190185,
          48.53606197640726,
          50.361135519344366,
          52.68892697771803,
          50.719330118849534,
          53.99770041643719,
          50.869618921781836,
          49.86888611955484,
          45.344842477611444,
          44.274891001358014,
          58.90698199838301,
          49.87969085029957,
          52.266711315839686,
          48.002733298544086,
          53.58028673715315,
          45.98174163946833,
          49.535472174546925,
          50.16997291743903,
          52.58131522276338,
          50.12290985219977,
          54.380877583221675,
          56.78150636175865,
          50.691118188587815,
          62.15856562877706,
          57.92150693470949,
          48.94875600746605,
          49.24315686322483,
          50.97822403016814,
          47.1382691506497,
          42.45157539431913,
          50.12944807767358,
          45.26515791251477,
          48.472333997725656,
          54.227846973106665,
          59.925570130082185,
          40.604417590055505,
          52.586814352380514,
          48.55167535350783,
          62.37966613462842,
          50.05313704940887,
          49.46875460341198
         ],
         "y0": " ",
         "yaxis": "y"
        },
        {
         "alignmentgroup": "True",
         "box": {
          "visible": true
         },
         "customdata": [
          [
           "HGSVCpool1xulOPxEchoPE20503"
          ],
          [
           "HGSVCpool1xulOPxEchoPE20505"
          ],
          [
           "HGSVCpool1xulOPxEchoPE20506"
          ],
          [
           "HGSVCpool1xulOPxEchoPE20509"
          ],
          [
           "HGSVCpool1xulOPxEchoPE20510"
          ],
          [
           "HGSVCpool1xulOPxEchoPE20511"
          ],
          [
           "HGSVCpool1xulOPxEchoPE20512"
          ],
          [
           "HGSVCpool1xulOPxEchoPE20513"
          ],
          [
           "HGSVCpool1xulOPxEchoPE20518"
          ],
          [
           "HGSVCpool1xulOPxEchoPE20519"
          ],
          [
           "HGSVCpool1xulOPxEchoPE20520"
          ],
          [
           "HGSVCpool1xulOPxEchoPE20521"
          ],
          [
           "HGSVCpool1xulOPxEchoPE20522"
          ],
          [
           "HGSVCpool1xulOPxEchoPE20525"
          ],
          [
           "HGSVCpool1xulOPxEchoPE20526"
          ],
          [
           "HGSVCpool1xulOPxEchoPE20527"
          ],
          [
           "HGSVCpool1xulOPxEchoPE20529"
          ],
          [
           "HGSVCpool1xulOPxEchoPE20533"
          ],
          [
           "HGSVCpool1xulOPxEchoPE20534"
          ],
          [
           "HGSVCpool1xulOPxEchoPE20535"
          ],
          [
           "HGSVCpool1xulOPxEchoPE20536"
          ],
          [
           "HGSVCpool1xulOPxEchoPE20538"
          ],
          [
           "HGSVCpool1xulOPxEchoPE20541"
          ],
          [
           "HGSVCpool1xulOPxEchoPE20542"
          ],
          [
           "HGSVCpool1xulOPxEchoPE20543"
          ],
          [
           "HGSVCpool1xulOPxEchoPE20550"
          ],
          [
           "HGSVCpool1xulOPxEchoPE20551"
          ],
          [
           "HGSVCpool1xulOPxEchoPE20552"
          ],
          [
           "HGSVCpool1xulOPxEchoPE20557"
          ],
          [
           "HGSVCpool1xulOPxEchoPE20558"
          ],
          [
           "HGSVCpool1xulOPxEchoPE20559"
          ],
          [
           "HGSVCpool1xulOPxEchoPE20565"
          ],
          [
           "HGSVCpool1xulOPxEchoPE20573"
          ],
          [
           "HGSVCpool1xulOPxEchoPE20574"
          ],
          [
           "HGSVCpool1xulOPxEchoPE20581"
          ],
          [
           "HGSVCpool1xulOPxEchoPE20582"
          ],
          [
           "HGSVCpool1xulOPxEchoPE20591"
          ]
         ],
         "hovertemplate": "sample=%{x}<br>%dupl=%{y}<br>cell=%{customdata[0]}<extra></extra>",
         "legendgroup": "HGSVCpool1xulOPxEcho",
         "marker": {
          "color": "#FF97FF"
         },
         "name": "HGSVCpool1xulOPxEcho",
         "offsetgroup": "HGSVCpool1xulOPxEcho",
         "orientation": "v",
         "points": "all",
         "scalegroup": "True",
         "showlegend": true,
         "type": "violin",
         "x": [
          "HGSVCpool1xulOPxEcho",
          "HGSVCpool1xulOPxEcho",
          "HGSVCpool1xulOPxEcho",
          "HGSVCpool1xulOPxEcho",
          "HGSVCpool1xulOPxEcho",
          "HGSVCpool1xulOPxEcho",
          "HGSVCpool1xulOPxEcho",
          "HGSVCpool1xulOPxEcho",
          "HGSVCpool1xulOPxEcho",
          "HGSVCpool1xulOPxEcho",
          "HGSVCpool1xulOPxEcho",
          "HGSVCpool1xulOPxEcho",
          "HGSVCpool1xulOPxEcho",
          "HGSVCpool1xulOPxEcho",
          "HGSVCpool1xulOPxEcho",
          "HGSVCpool1xulOPxEcho",
          "HGSVCpool1xulOPxEcho",
          "HGSVCpool1xulOPxEcho",
          "HGSVCpool1xulOPxEcho",
          "HGSVCpool1xulOPxEcho",
          "HGSVCpool1xulOPxEcho",
          "HGSVCpool1xulOPxEcho",
          "HGSVCpool1xulOPxEcho",
          "HGSVCpool1xulOPxEcho",
          "HGSVCpool1xulOPxEcho",
          "HGSVCpool1xulOPxEcho",
          "HGSVCpool1xulOPxEcho",
          "HGSVCpool1xulOPxEcho",
          "HGSVCpool1xulOPxEcho",
          "HGSVCpool1xulOPxEcho",
          "HGSVCpool1xulOPxEcho",
          "HGSVCpool1xulOPxEcho",
          "HGSVCpool1xulOPxEcho",
          "HGSVCpool1xulOPxEcho",
          "HGSVCpool1xulOPxEcho",
          "HGSVCpool1xulOPxEcho",
          "HGSVCpool1xulOPxEcho"
         ],
         "x0": " ",
         "xaxis": "x",
         "y": [
          85.48005547630262,
          85.06993217112495,
          76.66978272763639,
          85.8979116630041,
          85.4857864188875,
          85.84232727105224,
          81.64027019806892,
          76.8159100470999,
          82.76337867560619,
          82.20108313177093,
          80.05639747638739,
          61.81116494758005,
          32.875715128659024,
          86.47298443600921,
          83.73835633622856,
          87.558921162558,
          42.90596992252772,
          84.36608392223488,
          85.22126438758592,
          81.80960226799967,
          62.625172341146126,
          26.37973971722365,
          78.98059312819531,
          81.8355539922617,
          67.60391082370339,
          73.21901910184847,
          40.97590170571564,
          33.09123244137095,
          71.9938000488514,
          63.969430262389196,
          48.50233150628896,
          80.3739395892404,
          78.46102169997626,
          35.22333063718882,
          73.27721409370037,
          76.26453571773624,
          33.69256281800732
         ],
         "y0": " ",
         "yaxis": "y"
        }
       ],
       "layout": {
        "legend": {
         "title": {
          "text": "sample"
         },
         "tracegroupgap": 0
        },
        "margin": {
         "t": 60
        },
        "template": {
         "data": {
          "bar": [
           {
            "error_x": {
             "color": "#2a3f5f"
            },
            "error_y": {
             "color": "#2a3f5f"
            },
            "marker": {
             "line": {
              "color": "#E5ECF6",
              "width": 0.5
             },
             "pattern": {
              "fillmode": "overlay",
              "size": 10,
              "solidity": 0.2
             }
            },
            "type": "bar"
           }
          ],
          "barpolar": [
           {
            "marker": {
             "line": {
              "color": "#E5ECF6",
              "width": 0.5
             },
             "pattern": {
              "fillmode": "overlay",
              "size": 10,
              "solidity": 0.2
             }
            },
            "type": "barpolar"
           }
          ],
          "carpet": [
           {
            "aaxis": {
             "endlinecolor": "#2a3f5f",
             "gridcolor": "white",
             "linecolor": "white",
             "minorgridcolor": "white",
             "startlinecolor": "#2a3f5f"
            },
            "baxis": {
             "endlinecolor": "#2a3f5f",
             "gridcolor": "white",
             "linecolor": "white",
             "minorgridcolor": "white",
             "startlinecolor": "#2a3f5f"
            },
            "type": "carpet"
           }
          ],
          "choropleth": [
           {
            "colorbar": {
             "outlinewidth": 0,
             "ticks": ""
            },
            "type": "choropleth"
           }
          ],
          "contour": [
           {
            "colorbar": {
             "outlinewidth": 0,
             "ticks": ""
            },
            "colorscale": [
             [
              0,
              "#0d0887"
             ],
             [
              0.1111111111111111,
              "#46039f"
             ],
             [
              0.2222222222222222,
              "#7201a8"
             ],
             [
              0.3333333333333333,
              "#9c179e"
             ],
             [
              0.4444444444444444,
              "#bd3786"
             ],
             [
              0.5555555555555556,
              "#d8576b"
             ],
             [
              0.6666666666666666,
              "#ed7953"
             ],
             [
              0.7777777777777778,
              "#fb9f3a"
             ],
             [
              0.8888888888888888,
              "#fdca26"
             ],
             [
              1,
              "#f0f921"
             ]
            ],
            "type": "contour"
           }
          ],
          "contourcarpet": [
           {
            "colorbar": {
             "outlinewidth": 0,
             "ticks": ""
            },
            "type": "contourcarpet"
           }
          ],
          "heatmap": [
           {
            "colorbar": {
             "outlinewidth": 0,
             "ticks": ""
            },
            "colorscale": [
             [
              0,
              "#0d0887"
             ],
             [
              0.1111111111111111,
              "#46039f"
             ],
             [
              0.2222222222222222,
              "#7201a8"
             ],
             [
              0.3333333333333333,
              "#9c179e"
             ],
             [
              0.4444444444444444,
              "#bd3786"
             ],
             [
              0.5555555555555556,
              "#d8576b"
             ],
             [
              0.6666666666666666,
              "#ed7953"
             ],
             [
              0.7777777777777778,
              "#fb9f3a"
             ],
             [
              0.8888888888888888,
              "#fdca26"
             ],
             [
              1,
              "#f0f921"
             ]
            ],
            "type": "heatmap"
           }
          ],
          "heatmapgl": [
           {
            "colorbar": {
             "outlinewidth": 0,
             "ticks": ""
            },
            "colorscale": [
             [
              0,
              "#0d0887"
             ],
             [
              0.1111111111111111,
              "#46039f"
             ],
             [
              0.2222222222222222,
              "#7201a8"
             ],
             [
              0.3333333333333333,
              "#9c179e"
             ],
             [
              0.4444444444444444,
              "#bd3786"
             ],
             [
              0.5555555555555556,
              "#d8576b"
             ],
             [
              0.6666666666666666,
              "#ed7953"
             ],
             [
              0.7777777777777778,
              "#fb9f3a"
             ],
             [
              0.8888888888888888,
              "#fdca26"
             ],
             [
              1,
              "#f0f921"
             ]
            ],
            "type": "heatmapgl"
           }
          ],
          "histogram": [
           {
            "marker": {
             "pattern": {
              "fillmode": "overlay",
              "size": 10,
              "solidity": 0.2
             }
            },
            "type": "histogram"
           }
          ],
          "histogram2d": [
           {
            "colorbar": {
             "outlinewidth": 0,
             "ticks": ""
            },
            "colorscale": [
             [
              0,
              "#0d0887"
             ],
             [
              0.1111111111111111,
              "#46039f"
             ],
             [
              0.2222222222222222,
              "#7201a8"
             ],
             [
              0.3333333333333333,
              "#9c179e"
             ],
             [
              0.4444444444444444,
              "#bd3786"
             ],
             [
              0.5555555555555556,
              "#d8576b"
             ],
             [
              0.6666666666666666,
              "#ed7953"
             ],
             [
              0.7777777777777778,
              "#fb9f3a"
             ],
             [
              0.8888888888888888,
              "#fdca26"
             ],
             [
              1,
              "#f0f921"
             ]
            ],
            "type": "histogram2d"
           }
          ],
          "histogram2dcontour": [
           {
            "colorbar": {
             "outlinewidth": 0,
             "ticks": ""
            },
            "colorscale": [
             [
              0,
              "#0d0887"
             ],
             [
              0.1111111111111111,
              "#46039f"
             ],
             [
              0.2222222222222222,
              "#7201a8"
             ],
             [
              0.3333333333333333,
              "#9c179e"
             ],
             [
              0.4444444444444444,
              "#bd3786"
             ],
             [
              0.5555555555555556,
              "#d8576b"
             ],
             [
              0.6666666666666666,
              "#ed7953"
             ],
             [
              0.7777777777777778,
              "#fb9f3a"
             ],
             [
              0.8888888888888888,
              "#fdca26"
             ],
             [
              1,
              "#f0f921"
             ]
            ],
            "type": "histogram2dcontour"
           }
          ],
          "mesh3d": [
           {
            "colorbar": {
             "outlinewidth": 0,
             "ticks": ""
            },
            "type": "mesh3d"
           }
          ],
          "parcoords": [
           {
            "line": {
             "colorbar": {
              "outlinewidth": 0,
              "ticks": ""
             }
            },
            "type": "parcoords"
           }
          ],
          "pie": [
           {
            "automargin": true,
            "type": "pie"
           }
          ],
          "scatter": [
           {
            "fillpattern": {
             "fillmode": "overlay",
             "size": 10,
             "solidity": 0.2
            },
            "type": "scatter"
           }
          ],
          "scatter3d": [
           {
            "line": {
             "colorbar": {
              "outlinewidth": 0,
              "ticks": ""
             }
            },
            "marker": {
             "colorbar": {
              "outlinewidth": 0,
              "ticks": ""
             }
            },
            "type": "scatter3d"
           }
          ],
          "scattercarpet": [
           {
            "marker": {
             "colorbar": {
              "outlinewidth": 0,
              "ticks": ""
             }
            },
            "type": "scattercarpet"
           }
          ],
          "scattergeo": [
           {
            "marker": {
             "colorbar": {
              "outlinewidth": 0,
              "ticks": ""
             }
            },
            "type": "scattergeo"
           }
          ],
          "scattergl": [
           {
            "marker": {
             "colorbar": {
              "outlinewidth": 0,
              "ticks": ""
             }
            },
            "type": "scattergl"
           }
          ],
          "scattermapbox": [
           {
            "marker": {
             "colorbar": {
              "outlinewidth": 0,
              "ticks": ""
             }
            },
            "type": "scattermapbox"
           }
          ],
          "scatterpolar": [
           {
            "marker": {
             "colorbar": {
              "outlinewidth": 0,
              "ticks": ""
             }
            },
            "type": "scatterpolar"
           }
          ],
          "scatterpolargl": [
           {
            "marker": {
             "colorbar": {
              "outlinewidth": 0,
              "ticks": ""
             }
            },
            "type": "scatterpolargl"
           }
          ],
          "scatterternary": [
           {
            "marker": {
             "colorbar": {
              "outlinewidth": 0,
              "ticks": ""
             }
            },
            "type": "scatterternary"
           }
          ],
          "surface": [
           {
            "colorbar": {
             "outlinewidth": 0,
             "ticks": ""
            },
            "colorscale": [
             [
              0,
              "#0d0887"
             ],
             [
              0.1111111111111111,
              "#46039f"
             ],
             [
              0.2222222222222222,
              "#7201a8"
             ],
             [
              0.3333333333333333,
              "#9c179e"
             ],
             [
              0.4444444444444444,
              "#bd3786"
             ],
             [
              0.5555555555555556,
              "#d8576b"
             ],
             [
              0.6666666666666666,
              "#ed7953"
             ],
             [
              0.7777777777777778,
              "#fb9f3a"
             ],
             [
              0.8888888888888888,
              "#fdca26"
             ],
             [
              1,
              "#f0f921"
             ]
            ],
            "type": "surface"
           }
          ],
          "table": [
           {
            "cells": {
             "fill": {
              "color": "#EBF0F8"
             },
             "line": {
              "color": "white"
             }
            },
            "header": {
             "fill": {
              "color": "#C8D4E3"
             },
             "line": {
              "color": "white"
             }
            },
            "type": "table"
           }
          ]
         },
         "layout": {
          "annotationdefaults": {
           "arrowcolor": "#2a3f5f",
           "arrowhead": 0,
           "arrowwidth": 1
          },
          "autotypenumbers": "strict",
          "coloraxis": {
           "colorbar": {
            "outlinewidth": 0,
            "ticks": ""
           }
          },
          "colorscale": {
           "diverging": [
            [
             0,
             "#8e0152"
            ],
            [
             0.1,
             "#c51b7d"
            ],
            [
             0.2,
             "#de77ae"
            ],
            [
             0.3,
             "#f1b6da"
            ],
            [
             0.4,
             "#fde0ef"
            ],
            [
             0.5,
             "#f7f7f7"
            ],
            [
             0.6,
             "#e6f5d0"
            ],
            [
             0.7,
             "#b8e186"
            ],
            [
             0.8,
             "#7fbc41"
            ],
            [
             0.9,
             "#4d9221"
            ],
            [
             1,
             "#276419"
            ]
           ],
           "sequential": [
            [
             0,
             "#0d0887"
            ],
            [
             0.1111111111111111,
             "#46039f"
            ],
            [
             0.2222222222222222,
             "#7201a8"
            ],
            [
             0.3333333333333333,
             "#9c179e"
            ],
            [
             0.4444444444444444,
             "#bd3786"
            ],
            [
             0.5555555555555556,
             "#d8576b"
            ],
            [
             0.6666666666666666,
             "#ed7953"
            ],
            [
             0.7777777777777778,
             "#fb9f3a"
            ],
            [
             0.8888888888888888,
             "#fdca26"
            ],
            [
             1,
             "#f0f921"
            ]
           ],
           "sequentialminus": [
            [
             0,
             "#0d0887"
            ],
            [
             0.1111111111111111,
             "#46039f"
            ],
            [
             0.2222222222222222,
             "#7201a8"
            ],
            [
             0.3333333333333333,
             "#9c179e"
            ],
            [
             0.4444444444444444,
             "#bd3786"
            ],
            [
             0.5555555555555556,
             "#d8576b"
            ],
            [
             0.6666666666666666,
             "#ed7953"
            ],
            [
             0.7777777777777778,
             "#fb9f3a"
            ],
            [
             0.8888888888888888,
             "#fdca26"
            ],
            [
             1,
             "#f0f921"
            ]
           ]
          },
          "colorway": [
           "#636efa",
           "#EF553B",
           "#00cc96",
           "#ab63fa",
           "#FFA15A",
           "#19d3f3",
           "#FF6692",
           "#B6E880",
           "#FF97FF",
           "#FECB52"
          ],
          "font": {
           "color": "#2a3f5f"
          },
          "geo": {
           "bgcolor": "white",
           "lakecolor": "white",
           "landcolor": "#E5ECF6",
           "showlakes": true,
           "showland": true,
           "subunitcolor": "white"
          },
          "hoverlabel": {
           "align": "left"
          },
          "hovermode": "closest",
          "mapbox": {
           "style": "light"
          },
          "paper_bgcolor": "white",
          "plot_bgcolor": "#E5ECF6",
          "polar": {
           "angularaxis": {
            "gridcolor": "white",
            "linecolor": "white",
            "ticks": ""
           },
           "bgcolor": "#E5ECF6",
           "radialaxis": {
            "gridcolor": "white",
            "linecolor": "white",
            "ticks": ""
           }
          },
          "scene": {
           "xaxis": {
            "backgroundcolor": "#E5ECF6",
            "gridcolor": "white",
            "gridwidth": 2,
            "linecolor": "white",
            "showbackground": true,
            "ticks": "",
            "zerolinecolor": "white"
           },
           "yaxis": {
            "backgroundcolor": "#E5ECF6",
            "gridcolor": "white",
            "gridwidth": 2,
            "linecolor": "white",
            "showbackground": true,
            "ticks": "",
            "zerolinecolor": "white"
           },
           "zaxis": {
            "backgroundcolor": "#E5ECF6",
            "gridcolor": "white",
            "gridwidth": 2,
            "linecolor": "white",
            "showbackground": true,
            "ticks": "",
            "zerolinecolor": "white"
           }
          },
          "shapedefaults": {
           "line": {
            "color": "#2a3f5f"
           }
          },
          "ternary": {
           "aaxis": {
            "gridcolor": "white",
            "linecolor": "white",
            "ticks": ""
           },
           "baxis": {
            "gridcolor": "white",
            "linecolor": "white",
            "ticks": ""
           },
           "bgcolor": "#E5ECF6",
           "caxis": {
            "gridcolor": "white",
            "linecolor": "white",
            "ticks": ""
           }
          },
          "title": {
           "x": 0.05
          },
          "xaxis": {
           "automargin": true,
           "gridcolor": "white",
           "linecolor": "white",
           "ticks": "",
           "title": {
            "standoff": 15
           },
           "zerolinecolor": "white",
           "zerolinewidth": 2
          },
          "yaxis": {
           "automargin": true,
           "gridcolor": "white",
           "linecolor": "white",
           "ticks": "",
           "title": {
            "standoff": 15
           },
           "zerolinecolor": "white",
           "zerolinewidth": 2
          }
         }
        },
        "violinmode": "overlay",
        "xaxis": {
         "anchor": "y",
         "categoryarray": [
          "RPE1-WT",
          "RPE-BM510",
          "LCL",
          "C7",
          "RPE1BCL11A",
          "PC7PC37PC39PC42",
          "HGSVCpool1xulOPxmanual",
          "KM1096",
          "HGSVCpool1xulOPxEcho"
         ],
         "categoryorder": "array",
         "domain": [
          0,
          1
         ],
         "title": {
          "text": "sample"
         }
        },
        "yaxis": {
         "anchor": "x",
         "domain": [
          0,
          1
         ],
         "title": {
          "text": "%dupl"
         }
        }
       }
      },
      "text/html": [
       "<div>                            <div id=\"ed231c05-3851-4cc6-a48f-edbbe79fd4e6\" class=\"plotly-graph-div\" style=\"height:525px; width:100%;\"></div>            <script type=\"text/javascript\">                require([\"plotly\"], function(Plotly) {                    window.PLOTLYENV=window.PLOTLYENV || {};                                    if (document.getElementById(\"ed231c05-3851-4cc6-a48f-edbbe79fd4e6\")) {                    Plotly.newPlot(                        \"ed231c05-3851-4cc6-a48f-edbbe79fd4e6\",                        [{\"alignmentgroup\":\"True\",\"box\":{\"visible\":true},\"customdata\":[[\"RPE1WTPE20451\"],[\"RPE1WTPE20484\"],[\"RPE1WTPE20480\"],[\"RPE1WTPE20431\"],[\"RPE1WTPE20448\"],[\"RPE1WTPE20447\"],[\"RPE1WTPE20439\"],[\"RPE1WTPE20421\"],[\"RPE1WTPE20417\"],[\"RPE1WTPE20461\"],[\"RPE1WTPE20472\"],[\"RPE1WTPE20464\"],[\"RPE1WTPE20482\"],[\"RPE1WTPE20466\"],[\"RPE1WTPE20494\"],[\"RPE1WTPE20458\"],[\"RPE1WTPE20495\"],[\"RPE1WTPE20403\"],[\"RPE1WTPE20454\"],[\"RPE1WTPE20455\"],[\"RPE1WTPE20426\"],[\"RPE1WTPE20446\"],[\"RPE1WTPE20476\"],[\"RPE1WTPE20450\"],[\"RPE1WTPE20416\"],[\"RPE1WTPE20423\"],[\"RPE1WTPE20445\"],[\"RPE1WTPE20428\"],[\"RPE1WTPE20433\"],[\"RPE1WTPE20457\"],[\"RPE1WTPE20486\"],[\"RPE1WTPE20459\"],[\"RPE1WTPE20435\"],[\"RPE1WTPE20420\"],[\"RPE1WTPE20408\"],[\"RPE1WTPE20430\"],[\"RPE1WTPE20405\"],[\"RPE1WTPE20410\"],[\"RPE1WTPE20493\"],[\"RPE1WTPE20441\"],[\"RPE1WTPE20429\"],[\"RPE1WTPE20477\"],[\"RPE1WTPE20440\"],[\"RPE1WTPE20468\"],[\"RPE1WTPE20444\"],[\"RPE1WTPE20469\"],[\"RPE1WTPE20436\"],[\"RPE1WTPE20437\"],[\"RPE1WTPE20402\"],[\"RPE1WTPE20424\"],[\"RPE1WTPE20432\"],[\"RPE1WTPE20438\"],[\"RPE1WTPE20492\"],[\"RPE1WTPE20481\"],[\"RPE1WTPE20413\"],[\"RPE1WTPE20449\"],[\"RPE1WTPE20406\"],[\"RPE1WTPE20456\"],[\"RPE1WTPE20462\"],[\"RPE1WTPE20473\"],[\"RPE1WTPE20412\"],[\"RPE1WTPE20470\"],[\"RPE1WTPE20465\"],[\"RPE1WTPE20422\"],[\"RPE1WTPE20418\"],[\"RPE1WTPE20463\"],[\"RPE1WTPE20414\"],[\"RPE1WTPE20434\"],[\"RPE1WTPE20489\"],[\"RPE1WTPE20425\"],[\"RPE1WTPE20471\"],[\"RPE1WTPE20467\"],[\"RPE1WTPE20407\"],[\"RPE1WTPE20479\"],[\"RPE1WTPE20460\"],[\"RPE1WTPE20401\"],[\"RPE1WTPE20443\"],[\"RPE1WTPE20411\"],[\"RPE1WTPE20478\"],[\"RPE1WTPE20415\"],[\"RPE1WTPE20474\"],[\"RPE1WTPE20453\"],[\"RPE1WTPE20490\"],[\"RPE1WTPE20419\"],[\"RPE1WTPE20485\"],[\"RPE1WTPE20442\"],[\"RPE1WTPE20483\"],[\"RPE1WTPE20452\"],[\"RPE1WTPE20404\"],[\"RPE1WTPE20491\"]],\"hovertemplate\":\"sample=%{x}<br>%dupl=%{y}<br>cell=%{customdata[0]}<extra></extra>\",\"legendgroup\":\"RPE1-WT\",\"marker\":{\"color\":\"#636efa\"},\"name\":\"RPE1-WT\",\"offsetgroup\":\"RPE1-WT\",\"orientation\":\"v\",\"points\":\"all\",\"scalegroup\":\"True\",\"showlegend\":true,\"x\":[\"RPE1-WT\",\"RPE1-WT\",\"RPE1-WT\",\"RPE1-WT\",\"RPE1-WT\",\"RPE1-WT\",\"RPE1-WT\",\"RPE1-WT\",\"RPE1-WT\",\"RPE1-WT\",\"RPE1-WT\",\"RPE1-WT\",\"RPE1-WT\",\"RPE1-WT\",\"RPE1-WT\",\"RPE1-WT\",\"RPE1-WT\",\"RPE1-WT\",\"RPE1-WT\",\"RPE1-WT\",\"RPE1-WT\",\"RPE1-WT\",\"RPE1-WT\",\"RPE1-WT\",\"RPE1-WT\",\"RPE1-WT\",\"RPE1-WT\",\"RPE1-WT\",\"RPE1-WT\",\"RPE1-WT\",\"RPE1-WT\",\"RPE1-WT\",\"RPE1-WT\",\"RPE1-WT\",\"RPE1-WT\",\"RPE1-WT\",\"RPE1-WT\",\"RPE1-WT\",\"RPE1-WT\",\"RPE1-WT\",\"RPE1-WT\",\"RPE1-WT\",\"RPE1-WT\",\"RPE1-WT\",\"RPE1-WT\",\"RPE1-WT\",\"RPE1-WT\",\"RPE1-WT\",\"RPE1-WT\",\"RPE1-WT\",\"RPE1-WT\",\"RPE1-WT\",\"RPE1-WT\",\"RPE1-WT\",\"RPE1-WT\",\"RPE1-WT\",\"RPE1-WT\",\"RPE1-WT\",\"RPE1-WT\",\"RPE1-WT\",\"RPE1-WT\",\"RPE1-WT\",\"RPE1-WT\",\"RPE1-WT\",\"RPE1-WT\",\"RPE1-WT\",\"RPE1-WT\",\"RPE1-WT\",\"RPE1-WT\",\"RPE1-WT\",\"RPE1-WT\",\"RPE1-WT\",\"RPE1-WT\",\"RPE1-WT\",\"RPE1-WT\",\"RPE1-WT\",\"RPE1-WT\",\"RPE1-WT\",\"RPE1-WT\",\"RPE1-WT\",\"RPE1-WT\",\"RPE1-WT\",\"RPE1-WT\",\"RPE1-WT\",\"RPE1-WT\",\"RPE1-WT\",\"RPE1-WT\",\"RPE1-WT\",\"RPE1-WT\",\"RPE1-WT\"],\"x0\":\" \",\"xaxis\":\"x\",\"y\":[67.1498452312739,66.70103634721796,67.01964624269574,67.7091845578585,66.54276940461305,68.40577641807891,64.8365992328353,66.64786115384214,67.11438726124645,68.06664423185241,68.15779798573716,67.47443647745497,58.239854934616254,69.0316869725254,66.91847865981126,68.578684466667,66.28666371730512,69.78636495706489,65.96924862407705,65.71145899287416,68.7164228620546,55.56921019855648,64.69797524002982,64.64966885605497,65.19873796870904,67.27892391048353,65.96399455717096,67.02133156867345,65.20844011302977,69.0409948383557,67.47360915198634,66.51679383043381,67.92166138781876,67.06583970723842,64.07932954236486,68.68351897697245,68.27372073543161,68.9694674770165,64.92683107810868,67.97833699351268,67.57054449423391,64.00259804446027,68.56259894217874,65.8581425582389,64.24744210096519,63.44057665994933,66.01601525988507,67.43694519736076,68.477179712419,66.33803103783372,68.30803541168275,67.59990511077147,64.68230142137173,65.58131681483803,64.05469762686579,67.14539254480206,67.59918056595986,65.62117699863433,66.92324214762655,66.96228882842527,65.17530690831931,66.59314168126826,69.22140136630192,68.35661319020132,68.53744903711814,60.826442621680556,68.45922563839889,67.48093621385726,69.06525210703309,68.66416904336967,64.29524167120047,68.74004610711546,68.27625091061901,65.72380465277692,61.49868597929966,69.46876447672376,69.56715151283294,67.77383225430776,65.4269260483884,66.97614793410537,67.85345314983935,67.29822440369107,68.41409575984814,66.02301801827684,65.40002466569177,68.6016176775251,65.05095344055431,65.21425483520426,67.1537854390563,66.40823655639005],\"y0\":\" \",\"yaxis\":\"y\",\"type\":\"violin\"},{\"alignmentgroup\":\"True\",\"box\":{\"visible\":true},\"customdata\":[[\"BM510x3PE20458\"],[\"BM510x3PE20444\"],[\"BM510x3PE20409\"],[\"BM510x3PE20423\"],[\"BM510x3PE20403\"],[\"BM510x3PE20484\"],[\"BM510x3PE20477\"],[\"BM510x3PE20478\"],[\"BM510x3PE20490\"],[\"BM510x3PE20432\"],[\"BM510x3PE20449\"],[\"BM510x3PE20427\"],[\"BM510x3PE20476\"],[\"BM510x3PE20491\"],[\"BM510x3PE20492\"],[\"BM510x3PE20434\"],[\"BM510x3PE20463\"],[\"BM510x3PE20433\"],[\"BM510x3PE20437\"],[\"BM510x3PE20417\"],[\"BM510x3PE20407\"],[\"BM510x3PE20431\"],[\"BM510x3PE20435\"],[\"BM510x3PE20470\"],[\"BM510x3PE20482\"],[\"BM510x3PE20406\"],[\"BM510x3PE20461\"],[\"BM510x3PE20415\"],[\"BM510x3PE20448\"],[\"BM510x3PE20488\"],[\"BM510x3PE20473\"],[\"BM510x3PE20462\"],[\"BM510x3PE20481\"],[\"BM510x3PE20456\"],[\"BM510x3PE20471\"],[\"BM510x3PE20438\"],[\"BM510x3PE20429\"],[\"BM510x3PE20469\"],[\"BM510x3PE20455\"],[\"BM510x3PE20489\"],[\"BM510x3PE20485\"],[\"BM510x3PE20454\"],[\"BM510x3PE20452\"],[\"BM510x3PE20411\"],[\"BM510x3PE20421\"],[\"BM510x3PE20486\"],[\"BM510x3PE20480\"],[\"BM510x3PE20453\"],[\"BM510x3PE20404\"],[\"BM510x3PE20493\"],[\"BM510x3PE20468\"],[\"BM510x3PE20495\"],[\"BM510x3PE20474\"],[\"BM510x3PE20460\"],[\"BM510x3PE20464\"],[\"BM510x3PE20446\"],[\"BM510x3PE20439\"],[\"BM510x3PE20479\"],[\"BM510x3PE20441\"],[\"BM510x3PE20426\"],[\"BM510x3PE20447\"],[\"BM510x3PE20410\"],[\"BM510x3PE20414\"],[\"BM510x3PE20483\"],[\"BM510x3PE20425\"],[\"BM510x3PE20401\"],[\"BM510x3PE20408\"],[\"BM510x3PE20416\"],[\"BM510x3PE20475\"],[\"BM510x3PE20440\"],[\"BM510x3PE20494\"],[\"BM510x3PE20457\"],[\"BM510x3PE20487\"],[\"BM510x3PE20496\"],[\"BM510x3PE20436\"],[\"BM510x3PE20424\"],[\"BM510x3PE20459\"],[\"BM510x3PE20413\"],[\"BM510x3PE20402\"],[\"BM510x3PE20418\"],[\"BM510x3PE20422\"],[\"BM510x3PE20419\"]],\"hovertemplate\":\"sample=%{x}<br>%dupl=%{y}<br>cell=%{customdata[0]}<extra></extra>\",\"legendgroup\":\"RPE-BM510\",\"marker\":{\"color\":\"#EF553B\"},\"name\":\"RPE-BM510\",\"offsetgroup\":\"RPE-BM510\",\"orientation\":\"v\",\"points\":\"all\",\"scalegroup\":\"True\",\"showlegend\":true,\"x\":[\"RPE-BM510\",\"RPE-BM510\",\"RPE-BM510\",\"RPE-BM510\",\"RPE-BM510\",\"RPE-BM510\",\"RPE-BM510\",\"RPE-BM510\",\"RPE-BM510\",\"RPE-BM510\",\"RPE-BM510\",\"RPE-BM510\",\"RPE-BM510\",\"RPE-BM510\",\"RPE-BM510\",\"RPE-BM510\",\"RPE-BM510\",\"RPE-BM510\",\"RPE-BM510\",\"RPE-BM510\",\"RPE-BM510\",\"RPE-BM510\",\"RPE-BM510\",\"RPE-BM510\",\"RPE-BM510\",\"RPE-BM510\",\"RPE-BM510\",\"RPE-BM510\",\"RPE-BM510\",\"RPE-BM510\",\"RPE-BM510\",\"RPE-BM510\",\"RPE-BM510\",\"RPE-BM510\",\"RPE-BM510\",\"RPE-BM510\",\"RPE-BM510\",\"RPE-BM510\",\"RPE-BM510\",\"RPE-BM510\",\"RPE-BM510\",\"RPE-BM510\",\"RPE-BM510\",\"RPE-BM510\",\"RPE-BM510\",\"RPE-BM510\",\"RPE-BM510\",\"RPE-BM510\",\"RPE-BM510\",\"RPE-BM510\",\"RPE-BM510\",\"RPE-BM510\",\"RPE-BM510\",\"RPE-BM510\",\"RPE-BM510\",\"RPE-BM510\",\"RPE-BM510\",\"RPE-BM510\",\"RPE-BM510\",\"RPE-BM510\",\"RPE-BM510\",\"RPE-BM510\",\"RPE-BM510\",\"RPE-BM510\",\"RPE-BM510\",\"RPE-BM510\",\"RPE-BM510\",\"RPE-BM510\",\"RPE-BM510\",\"RPE-BM510\",\"RPE-BM510\",\"RPE-BM510\",\"RPE-BM510\",\"RPE-BM510\",\"RPE-BM510\",\"RPE-BM510\",\"RPE-BM510\",\"RPE-BM510\",\"RPE-BM510\",\"RPE-BM510\",\"RPE-BM510\",\"RPE-BM510\"],\"x0\":\" \",\"xaxis\":\"x\",\"y\":[54.74562051793257,50.414657084684336,56.96014963873126,51.064933064060405,58.02994894718429,53.003064728915184,50.2265969141976,50.6492249845771,52.54374650198497,52.28373162140154,52.27013722449363,54.41705016807607,51.73010448296633,54.24292084732593,51.530899130881814,53.68645131581857,50.570968456658626,54.248723951467724,54.65586032335692,53.77071328380099,56.12034925754964,53.421575401949426,55.596835836814506,49.650122466828506,46.48440791053804,55.41742966245435,56.651010910815295,51.13264370431142,53.044406995372874,50.78116497632704,53.677309976702944,54.17766744116961,52.85908845059991,51.001017634911896,46.96548702505144,53.694340258337505,55.56316579383559,51.74108719067178,51.42353687539423,56.75929157420325,51.72900634437686,53.32636499258866,51.133135915876,53.50871624080792,52.50401861672793,52.4677341037603,51.5450542722421,54.72766849476385,51.749846413361524,54.03200056292739,53.06599947589753,45.50506192120116,54.520737924910456,48.38938500487778,53.1836730737542,38.66324177320251,50.68509750121443,49.70391162704705,56.57626663464944,55.127690450680156,53.09826973664341,53.706968732514014,52.62712867115512,52.617740621083065,55.886070884629824,56.66143695134548,51.74239180579468,50.73199035244914,55.37906237107899,52.207054592963054,51.63321480064208,54.45679392789785,48.625607793648015,51.65933690868856,53.88013808873644,51.19089696429964,54.61782130372238,51.81713971648719,55.09379727188903,54.88426838776487,53.46980978123474,52.99787412272365],\"y0\":\" \",\"yaxis\":\"y\",\"type\":\"violin\"},{\"alignmentgroup\":\"True\",\"box\":{\"visible\":true},\"customdata\":[[\"GM20509Bx01PE20581\"],[\"GM20509Bx01PE20562\"],[\"GM20509Bx01PE20557\"],[\"GM20509Bx01PE20565\"],[\"GM20509Bx01PE20533\"],[\"GM20509Bx01PE20553\"],[\"GM20509Bx01PE20549\"],[\"GM20509Bx01PE20587\"],[\"GM20509Bx01PE20542\"],[\"GM20509Bx01PE20530\"],[\"GM20509Bx01PE20517\"],[\"GM20509Bx01PE20526\"],[\"GM20509Bx01PE20510\"],[\"GM20509Bx01PE20537\"],[\"GM20509Bx01PE20508\"],[\"GM20509Bx01PE20544\"],[\"GM20509Bx01PE20546\"],[\"GM20509Bx01PE20560\"],[\"GM20509Bx01PE20566\"],[\"GM20509Bx01PE20529\"],[\"GM20509Bx01PE20503\"],[\"GM20509Bx01PE20541\"],[\"GM20509Bx01PE20520\"],[\"GM20509Bx01PE20555\"],[\"GM20509Bx01PE20561\"],[\"GM20509Bx01PE20579\"],[\"GM20509Bx01PE20539\"],[\"GM20509Bx01PE20515\"],[\"GM20509Bx01PE20550\"],[\"GM20509Bx01PE20568\"],[\"GM20509Bx01PE20585\"],[\"GM20509Bx01PE20552\"],[\"GM20509Bx01PE20501\"],[\"GM20509Bx01PE20548\"],[\"GM20509Bx01PE20586\"],[\"GM20509Bx01PE20525\"],[\"GM20509Bx01PE20582\"],[\"GM20509Bx01PE20576\"],[\"GM20509Bx01PE20509\"],[\"GM20509Bx01PE20506\"],[\"GM20509Bx01PE20518\"],[\"GM20509Bx01PE20569\"],[\"GM20509Bx01PE20511\"],[\"GM20509Bx01PE20531\"],[\"GM20509Bx01PE20519\"],[\"GM20509Bx01PE20589\"],[\"GM20509Bx01PE20545\"],[\"GM20509Bx01PE20514\"],[\"GM20509Bx01PE20535\"],[\"GM20509Bx01PE20556\"],[\"GM20509Bx01PE20502\"],[\"GM20509Bx01PE20547\"],[\"GM20509Bx01PE20536\"]],\"hovertemplate\":\"sample=%{x}<br>%dupl=%{y}<br>cell=%{customdata[0]}<extra></extra>\",\"legendgroup\":\"LCL\",\"marker\":{\"color\":\"#00cc96\"},\"name\":\"LCL\",\"offsetgroup\":\"LCL\",\"orientation\":\"v\",\"points\":\"all\",\"scalegroup\":\"True\",\"showlegend\":true,\"x\":[\"LCL\",\"LCL\",\"LCL\",\"LCL\",\"LCL\",\"LCL\",\"LCL\",\"LCL\",\"LCL\",\"LCL\",\"LCL\",\"LCL\",\"LCL\",\"LCL\",\"LCL\",\"LCL\",\"LCL\",\"LCL\",\"LCL\",\"LCL\",\"LCL\",\"LCL\",\"LCL\",\"LCL\",\"LCL\",\"LCL\",\"LCL\",\"LCL\",\"LCL\",\"LCL\",\"LCL\",\"LCL\",\"LCL\",\"LCL\",\"LCL\",\"LCL\",\"LCL\",\"LCL\",\"LCL\",\"LCL\",\"LCL\",\"LCL\",\"LCL\",\"LCL\",\"LCL\",\"LCL\",\"LCL\",\"LCL\",\"LCL\",\"LCL\",\"LCL\",\"LCL\",\"LCL\"],\"x0\":\" \",\"xaxis\":\"x\",\"y\":[49.23160986728232,40.51864912091885,43.95237991835317,44.9244044238996,45.13120955374983,42.44929055936036,44.944092043354864,47.3035758697054,47.83837937035779,41.366226492980346,42.503878737971824,43.59084773328281,46.103248680254254,43.369300068172244,41.97291936732459,44.50908938998094,40.4104815666597,43.70168908634169,42.91738353068178,43.263165514019306,45.80970448526725,44.17030936798126,43.60124134807915,42.650726194367905,40.909397838180375,53.91434227953763,41.48629749624064,3.3883135462170504,47.90622614132657,42.5284539181909,48.72322983912286,43.69382058439397,43.96101545694997,39.798243719970735,46.50731756600723,43.20199828021709,47.88158244561325,44.61100224855186,44.076163986392594,47.52854446119776,44.40358775215643,47.03840807688325,46.4408528653595,37.735152575741004,40.358493988333635,43.09555685017214,47.59041338649017,40.74852147186607,46.48105100948102,49.869548772102725,37.37792123981854,48.00421859356815,31.039424162445258],\"y0\":\" \",\"yaxis\":\"y\",\"type\":\"violin\"},{\"alignmentgroup\":\"True\",\"box\":{\"visible\":true},\"customdata\":[[\"C7x02PE20351\"],[\"C7x02PE20301\"],[\"C7x02PE20359\"],[\"C7x02PE20375\"],[\"C7x02PE20332\"],[\"C7x02PE20348\"],[\"C7x02PE20358\"],[\"C7x02PE20356\"],[\"C7x02PE20324\"],[\"C7x02PE20311\"],[\"C7x02PE20367\"],[\"C7x02PE20347\"],[\"C7x02PE20390\"],[\"C7x02PE20338\"],[\"C7x02PE20328\"],[\"C7x02PE20344\"],[\"C7x02PE20319\"],[\"C7x02PE20355\"],[\"C7x02PE20326\"],[\"C7x02PE20382\"],[\"C7x02PE20391\"],[\"C7x02PE20377\"],[\"C7x02PE20369\"],[\"C7x02PE20361\"],[\"C7x02PE20310\"],[\"C7x02PE20321\"],[\"C7x02PE20334\"],[\"C7x02PE20376\"],[\"C7x02PE20383\"],[\"C7x02PE20363\"],[\"C7x02PE20362\"],[\"C7x02PE20340\"],[\"C7x02PE20370\"],[\"C7x02PE20392\"],[\"C7x02PE20374\"],[\"C7x02PE20320\"],[\"C7x02PE20341\"],[\"C7x02PE20323\"],[\"C7x02PE20302\"],[\"C7x02PE20386\"],[\"C7x02PE20304\"],[\"C7x02PE20365\"],[\"C7x02PE20368\"],[\"C7x02PE20331\"],[\"C7x02PE20353\"],[\"C7x02PE20371\"],[\"C7x02PE20345\"],[\"C7x02PE20372\"],[\"C7x02PE20307\"],[\"C7x02PE20325\"],[\"C7x02PE20337\"],[\"C7x02PE20366\"],[\"C7x02PE20349\"],[\"C7x02PE20393\"],[\"C7x02PE20333\"],[\"C7x02PE20336\"],[\"C7x02PE20364\"],[\"C7x02PE20360\"],[\"C7x02PE20309\"],[\"C7x02PE20339\"],[\"C7x02PE20327\"],[\"C7x02PE20384\"],[\"C7x02PE20379\"],[\"C7x02PE20343\"],[\"C7x02PE20346\"],[\"C7x02PE20303\"],[\"C7x02PE20350\"],[\"C7x02PE20354\"],[\"C7x02PE20387\"],[\"C7x02PE20313\"],[\"C7x02PE20388\"],[\"C7x02PE20306\"],[\"C7x02PE20335\"],[\"C7x02PE20396\"],[\"C7x02PE20330\"],[\"C7x02PE20378\"],[\"C7x02PE20317\"],[\"C7x02PE20322\"],[\"C7x02PE20342\"],[\"C7x02PE20352\"],[\"C7x02PE20308\"],[\"C7x02PE20380\"],[\"C7x02PE20316\"],[\"C7x02PE20373\"],[\"C7x02PE20318\"]],\"hovertemplate\":\"sample=%{x}<br>%dupl=%{y}<br>cell=%{customdata[0]}<extra></extra>\",\"legendgroup\":\"C7\",\"marker\":{\"color\":\"#ab63fa\"},\"name\":\"C7\",\"offsetgroup\":\"C7\",\"orientation\":\"v\",\"points\":\"all\",\"scalegroup\":\"True\",\"showlegend\":true,\"x\":[\"C7\",\"C7\",\"C7\",\"C7\",\"C7\",\"C7\",\"C7\",\"C7\",\"C7\",\"C7\",\"C7\",\"C7\",\"C7\",\"C7\",\"C7\",\"C7\",\"C7\",\"C7\",\"C7\",\"C7\",\"C7\",\"C7\",\"C7\",\"C7\",\"C7\",\"C7\",\"C7\",\"C7\",\"C7\",\"C7\",\"C7\",\"C7\",\"C7\",\"C7\",\"C7\",\"C7\",\"C7\",\"C7\",\"C7\",\"C7\",\"C7\",\"C7\",\"C7\",\"C7\",\"C7\",\"C7\",\"C7\",\"C7\",\"C7\",\"C7\",\"C7\",\"C7\",\"C7\",\"C7\",\"C7\",\"C7\",\"C7\",\"C7\",\"C7\",\"C7\",\"C7\",\"C7\",\"C7\",\"C7\",\"C7\",\"C7\",\"C7\",\"C7\",\"C7\",\"C7\",\"C7\",\"C7\",\"C7\",\"C7\",\"C7\",\"C7\",\"C7\",\"C7\",\"C7\",\"C7\",\"C7\",\"C7\",\"C7\",\"C7\",\"C7\"],\"x0\":\" \",\"xaxis\":\"x\",\"y\":[57.759669150384994,55.844098799896535,56.43512134015351,57.55397710595832,55.383167988335956,56.92902763204458,57.27142000137434,55.44270746129622,56.2000739000209,58.14099737787946,55.088067118010166,56.12115056882383,57.18189823334781,59.426465818002406,56.59112719798696,56.970797757470415,56.664262818689956,57.77178343423981,56.777653641120516,54.394003625179465,54.75392424269793,53.57481223763063,54.11912083554491,52.97706279941916,58.50739591732172,58.96985723241009,57.934256018570395,54.676115178135674,55.5583157371755,57.369654697653246,56.43296262630876,55.627745007057406,55.27148605363781,52.879801737974894,57.209807917767165,58.24840059074599,59.4638353151582,55.27773922751224,57.428143730818526,51.069996101615224,57.31009097704776,56.059835294569325,57.02277888729314,57.71517004600105,56.53918547389748,57.92567466938996,54.56917326619561,54.16617098550744,58.485455636112285,55.08701000202683,57.17169098205758,57.58952241190451,58.10923211686718,49.58332783815151,58.2602109524788,58.03641473997424,55.81241273777766,54.49003110774385,59.784066423899,60.53780349180185,59.32221020221353,54.14983904763623,55.11004716146321,57.895051294541645,59.81997373344342,59.32359689279987,59.39159557292455,57.98678751579429,56.193069223934145,56.00450324832935,54.84185521270639,57.18532102387389,57.499961310491045,52.62017443386722,56.20001877504561,54.20713239752802,54.75779570271525,58.548308178311835,58.598331398033196,58.15686917881847,57.07701722066773,52.281623999018734,49.85152084699867,55.65253830448446,58.28429730201533],\"y0\":\" \",\"yaxis\":\"y\",\"type\":\"violin\"},{\"alignmentgroup\":\"True\",\"box\":{\"visible\":true},\"customdata\":[[\"RPE1BCL11Ax03PE20403\"],[\"RPE1BCL11Ax03PE20405\"],[\"RPE1BCL11Ax03PE20409\"],[\"RPE1BCL11Ax03PE20410\"],[\"RPE1BCL11Ax03PE20411\"],[\"RPE1BCL11Ax03PE20418\"],[\"RPE1BCL11Ax03PE20420\"],[\"RPE1BCL11Ax03PE20421\"],[\"RPE1BCL11Ax03PE20425\"],[\"RPE1BCL11Ax03PE20426\"],[\"RPE1BCL11Ax03PE20427\"],[\"RPE1BCL11Ax03PE20432\"],[\"RPE1BCL11Ax03PE20433\"],[\"RPE1BCL11Ax03PE20440\"],[\"RPE1BCL11Ax03PE20441\"],[\"RPE1BCL11Ax03PE20443\"],[\"RPE1BCL11Ax03PE20457\"],[\"RPE1BCL11Ax03PE20461\"],[\"RPE1BCL11Ax03PE20463\"],[\"RPE1BCL11Ax03PE20465\"],[\"RPE1BCL11Ax03PE20469\"],[\"RPE1BCL11Ax03PE20475\"],[\"RPE1BCL11Ax03PE20480\"],[\"RPE1BCL11Ax03PE20482\"],[\"RPE1BCL11Ax03PE20484\"],[\"RPE1BCL11Ax03PE20485\"],[\"RPE1BCL11Ax03PE20487\"],[\"RPE1BCL11Ax03PE20490\"]],\"hovertemplate\":\"sample=%{x}<br>%dupl=%{y}<br>cell=%{customdata[0]}<extra></extra>\",\"legendgroup\":\"RPE1BCL11A\",\"marker\":{\"color\":\"#FFA15A\"},\"name\":\"RPE1BCL11A\",\"offsetgroup\":\"RPE1BCL11A\",\"orientation\":\"v\",\"points\":\"all\",\"scalegroup\":\"True\",\"showlegend\":true,\"x\":[\"RPE1BCL11A\",\"RPE1BCL11A\",\"RPE1BCL11A\",\"RPE1BCL11A\",\"RPE1BCL11A\",\"RPE1BCL11A\",\"RPE1BCL11A\",\"RPE1BCL11A\",\"RPE1BCL11A\",\"RPE1BCL11A\",\"RPE1BCL11A\",\"RPE1BCL11A\",\"RPE1BCL11A\",\"RPE1BCL11A\",\"RPE1BCL11A\",\"RPE1BCL11A\",\"RPE1BCL11A\",\"RPE1BCL11A\",\"RPE1BCL11A\",\"RPE1BCL11A\",\"RPE1BCL11A\",\"RPE1BCL11A\",\"RPE1BCL11A\",\"RPE1BCL11A\",\"RPE1BCL11A\",\"RPE1BCL11A\",\"RPE1BCL11A\",\"RPE1BCL11A\"],\"x0\":\" \",\"xaxis\":\"x\",\"y\":[49.9906116876665,48.97494579040237,51.50534047507954,49.68942343990036,48.041153731189574,52.27553532655601,51.453744100751805,51.56511132483861,50.654369077166336,50.781402748502146,49.42897460647957,46.964437880616636,50.942917472932635,61.4728907996946,50.66564502295545,49.46741819249754,50.987317110440465,49.89348432037863,49.65751890366226,49.614493524250825,49.76224271595736,49.70135909784152,47.740369127445184,47.734852695942195,49.24668183286668,49.37295778812745,47.87205866849063,48.22436805312469],\"y0\":\" \",\"yaxis\":\"y\",\"type\":\"violin\"},{\"alignmentgroup\":\"True\",\"box\":{\"visible\":true},\"customdata\":[[\"PC7PC37PC39PC42x01PE20326\"],[\"PC7PC37PC39PC42x01PE20343\"],[\"PC7PC37PC39PC42x01PE20348\"],[\"PC7PC37PC39PC42x01PE20374\"],[\"PC7PC37PC39PC42x01PE20393\"],[\"PC7PC37PC39PC42x01PE20395\"]],\"hovertemplate\":\"sample=%{x}<br>%dupl=%{y}<br>cell=%{customdata[0]}<extra></extra>\",\"legendgroup\":\"PC7PC37PC39PC42\",\"marker\":{\"color\":\"#19d3f3\"},\"name\":\"PC7PC37PC39PC42\",\"offsetgroup\":\"PC7PC37PC39PC42\",\"orientation\":\"v\",\"points\":\"all\",\"scalegroup\":\"True\",\"showlegend\":true,\"x\":[\"PC7PC37PC39PC42\",\"PC7PC37PC39PC42\",\"PC7PC37PC39PC42\",\"PC7PC37PC39PC42\",\"PC7PC37PC39PC42\",\"PC7PC37PC39PC42\"],\"x0\":\" \",\"xaxis\":\"x\",\"y\":[41.1492713639184,51.935612860167545,43.95831088662947,54.84371486096086,49.483369070252564,3.609392270900695],\"y0\":\" \",\"yaxis\":\"y\",\"type\":\"violin\"},{\"alignmentgroup\":\"True\",\"box\":{\"visible\":true},\"customdata\":[[\"HGSVCpool1xulOPxmanualPE20403\"],[\"HGSVCpool1xulOPxmanualPE20406\"],[\"HGSVCpool1xulOPxmanualPE20407\"],[\"HGSVCpool1xulOPxmanualPE20408\"],[\"HGSVCpool1xulOPxmanualPE20409\"],[\"HGSVCpool1xulOPxmanualPE20410\"],[\"HGSVCpool1xulOPxmanualPE20411\"],[\"HGSVCpool1xulOPxmanualPE20414\"],[\"HGSVCpool1xulOPxmanualPE20417\"],[\"HGSVCpool1xulOPxmanualPE20420\"],[\"HGSVCpool1xulOPxmanualPE20421\"],[\"HGSVCpool1xulOPxmanualPE20422\"],[\"HGSVCpool1xulOPxmanualPE20423\"],[\"HGSVCpool1xulOPxmanualPE20424\"],[\"HGSVCpool1xulOPxmanualPE20425\"],[\"HGSVCpool1xulOPxmanualPE20429\"],[\"HGSVCpool1xulOPxmanualPE20433\"],[\"HGSVCpool1xulOPxmanualPE20435\"],[\"HGSVCpool1xulOPxmanualPE20436\"],[\"HGSVCpool1xulOPxmanualPE20439\"],[\"HGSVCpool1xulOPxmanualPE20440\"],[\"HGSVCpool1xulOPxmanualPE20441\"],[\"HGSVCpool1xulOPxmanualPE20442\"],[\"HGSVCpool1xulOPxmanualPE20449\"],[\"HGSVCpool1xulOPxmanualPE20454\"],[\"HGSVCpool1xulOPxmanualPE20456\"],[\"HGSVCpool1xulOPxmanualPE20462\"],[\"HGSVCpool1xulOPxmanualPE20463\"],[\"HGSVCpool1xulOPxmanualPE20464\"],[\"HGSVCpool1xulOPxmanualPE20466\"],[\"HGSVCpool1xulOPxmanualPE20467\"],[\"HGSVCpool1xulOPxmanualPE20468\"],[\"HGSVCpool1xulOPxmanualPE20470\"],[\"HGSVCpool1xulOPxmanualPE20472\"],[\"HGSVCpool1xulOPxmanualPE20475\"],[\"HGSVCpool1xulOPxmanualPE20477\"],[\"HGSVCpool1xulOPxmanualPE20478\"],[\"HGSVCpool1xulOPxmanualPE20479\"],[\"HGSVCpool1xulOPxmanualPE20483\"],[\"HGSVCpool1xulOPxmanualPE20484\"],[\"HGSVCpool1xulOPxmanualPE20485\"],[\"HGSVCpool1xulOPxmanualPE20488\"],[\"HGSVCpool1xulOPxmanualPE20489\"],[\"HGSVCpool1xulOPxmanualPE20492\"],[\"HGSVCpool1xulOPxmanualPE20493\"]],\"hovertemplate\":\"sample=%{x}<br>%dupl=%{y}<br>cell=%{customdata[0]}<extra></extra>\",\"legendgroup\":\"HGSVCpool1xulOPxmanual\",\"marker\":{\"color\":\"#FF6692\"},\"name\":\"HGSVCpool1xulOPxmanual\",\"offsetgroup\":\"HGSVCpool1xulOPxmanual\",\"orientation\":\"v\",\"points\":\"all\",\"scalegroup\":\"True\",\"showlegend\":true,\"x\":[\"HGSVCpool1xulOPxmanual\",\"HGSVCpool1xulOPxmanual\",\"HGSVCpool1xulOPxmanual\",\"HGSVCpool1xulOPxmanual\",\"HGSVCpool1xulOPxmanual\",\"HGSVCpool1xulOPxmanual\",\"HGSVCpool1xulOPxmanual\",\"HGSVCpool1xulOPxmanual\",\"HGSVCpool1xulOPxmanual\",\"HGSVCpool1xulOPxmanual\",\"HGSVCpool1xulOPxmanual\",\"HGSVCpool1xulOPxmanual\",\"HGSVCpool1xulOPxmanual\",\"HGSVCpool1xulOPxmanual\",\"HGSVCpool1xulOPxmanual\",\"HGSVCpool1xulOPxmanual\",\"HGSVCpool1xulOPxmanual\",\"HGSVCpool1xulOPxmanual\",\"HGSVCpool1xulOPxmanual\",\"HGSVCpool1xulOPxmanual\",\"HGSVCpool1xulOPxmanual\",\"HGSVCpool1xulOPxmanual\",\"HGSVCpool1xulOPxmanual\",\"HGSVCpool1xulOPxmanual\",\"HGSVCpool1xulOPxmanual\",\"HGSVCpool1xulOPxmanual\",\"HGSVCpool1xulOPxmanual\",\"HGSVCpool1xulOPxmanual\",\"HGSVCpool1xulOPxmanual\",\"HGSVCpool1xulOPxmanual\",\"HGSVCpool1xulOPxmanual\",\"HGSVCpool1xulOPxmanual\",\"HGSVCpool1xulOPxmanual\",\"HGSVCpool1xulOPxmanual\",\"HGSVCpool1xulOPxmanual\",\"HGSVCpool1xulOPxmanual\",\"HGSVCpool1xulOPxmanual\",\"HGSVCpool1xulOPxmanual\",\"HGSVCpool1xulOPxmanual\",\"HGSVCpool1xulOPxmanual\",\"HGSVCpool1xulOPxmanual\",\"HGSVCpool1xulOPxmanual\",\"HGSVCpool1xulOPxmanual\",\"HGSVCpool1xulOPxmanual\",\"HGSVCpool1xulOPxmanual\"],\"x0\":\" \",\"xaxis\":\"x\",\"y\":[62.65336929911758,61.56238749595093,61.833891722716416,61.04254215973577,62.99856492746275,61.75902349502637,66.04941746428527,61.19967657158845,61.29017205463628,60.2053884437998,60.24433217379325,59.07028323285925,61.37232097849786,42.514709168094136,60.81764808659119,62.79863051296214,59.68227112697958,60.12286502203814,62.07358846395628,50.222106800549085,54.067666500466515,61.85581376128362,60.398845628769415,62.57516305445097,58.77170071675061,42.34649743638136,60.04108989753368,60.38702422765393,49.88948452006371,62.46442083698184,61.789231676301384,60.58017847253544,60.831020632904156,59.77890853095471,59.90875244198526,61.41487674684306,58.527335111346225,58.17167391476509,59.872319020269195,59.809295553423226,60.27963316276047,49.66644921538173,63.10692207947742,55.62748668150246,58.9269663107079],\"y0\":\" \",\"yaxis\":\"y\",\"type\":\"violin\"},{\"alignmentgroup\":\"True\",\"box\":{\"visible\":true},\"customdata\":[[\"KM1096PE20305\"],[\"KM1096PE20307\"],[\"KM1096PE20308\"],[\"KM1096PE20309\"],[\"KM1096PE20310\"],[\"KM1096PE20311\"],[\"KM1096PE20312\"],[\"KM1096PE20313\"],[\"KM1096PE20314\"],[\"KM1096PE20315\"],[\"KM1096PE20318\"],[\"KM1096PE20319\"],[\"KM1096PE20320\"],[\"KM1096PE20321\"],[\"KM1096PE20322\"],[\"KM1096PE20324\"],[\"KM1096PE20326\"],[\"KM1096PE20327\"],[\"KM1096PE20328\"],[\"KM1096PE20329\"],[\"KM1096PE20330\"],[\"KM1096PE20331\"],[\"KM1096PE20332\"],[\"KM1096PE20333\"],[\"KM1096PE20334\"],[\"KM1096PE20336\"],[\"KM1096PE20338\"],[\"KM1096PE20339\"],[\"KM1096PE20344\"],[\"KM1096PE20345\"],[\"KM1096PE20349\"],[\"KM1096PE20350\"],[\"KM1096PE20353\"],[\"KM1096PE20354\"],[\"KM1096PE20355\"],[\"KM1096PE20356\"],[\"KM1096PE20357\"],[\"KM1096PE20360\"],[\"KM1096PE20361\"],[\"KM1096PE20362\"],[\"KM1096PE20363\"],[\"KM1096PE20364\"],[\"KM1096PE20366\"],[\"KM1096PE20367\"],[\"KM1096PE20368\"],[\"KM1096PE20370\"],[\"KM1096PE20371\"],[\"KM1096PE20373\"],[\"KM1096PE20375\"],[\"KM1096PE20378\"],[\"KM1096PE20379\"],[\"KM1096PE20380\"],[\"KM1096PE20381\"],[\"KM1096PE20382\"],[\"KM1096PE20383\"],[\"KM1096PE20384\"],[\"KM1096PE20385\"],[\"KM1096PE20390\"],[\"KM1096PE20391\"],[\"KM1096PE20393\"],[\"KM1096PE20394\"],[\"KM1096PE20395\"]],\"hovertemplate\":\"sample=%{x}<br>%dupl=%{y}<br>cell=%{customdata[0]}<extra></extra>\",\"legendgroup\":\"KM1096\",\"marker\":{\"color\":\"#B6E880\"},\"name\":\"KM1096\",\"offsetgroup\":\"KM1096\",\"orientation\":\"v\",\"points\":\"all\",\"scalegroup\":\"True\",\"showlegend\":true,\"x\":[\"KM1096\",\"KM1096\",\"KM1096\",\"KM1096\",\"KM1096\",\"KM1096\",\"KM1096\",\"KM1096\",\"KM1096\",\"KM1096\",\"KM1096\",\"KM1096\",\"KM1096\",\"KM1096\",\"KM1096\",\"KM1096\",\"KM1096\",\"KM1096\",\"KM1096\",\"KM1096\",\"KM1096\",\"KM1096\",\"KM1096\",\"KM1096\",\"KM1096\",\"KM1096\",\"KM1096\",\"KM1096\",\"KM1096\",\"KM1096\",\"KM1096\",\"KM1096\",\"KM1096\",\"KM1096\",\"KM1096\",\"KM1096\",\"KM1096\",\"KM1096\",\"KM1096\",\"KM1096\",\"KM1096\",\"KM1096\",\"KM1096\",\"KM1096\",\"KM1096\",\"KM1096\",\"KM1096\",\"KM1096\",\"KM1096\",\"KM1096\",\"KM1096\",\"KM1096\",\"KM1096\",\"KM1096\",\"KM1096\",\"KM1096\",\"KM1096\",\"KM1096\",\"KM1096\",\"KM1096\",\"KM1096\",\"KM1096\"],\"x0\":\" \",\"xaxis\":\"x\",\"y\":[52.70871862263563,51.47785118412522,54.54703785044938,53.083090580173774,63.08109929431418,51.41730795782375,62.03953909377681,51.72525263297339,53.367821978372646,50.385871044483444,52.43983371829537,49.42093539480694,52.880898014211986,48.37636223967768,51.22741007099667,53.280933155519826,51.2927714930874,52.33541563999021,47.09175738724728,53.17966721990426,50.541411418504424,52.488247305190185,48.53606197640726,50.361135519344366,52.68892697771803,50.719330118849534,53.99770041643719,50.869618921781836,49.86888611955484,45.344842477611444,44.274891001358014,58.90698199838301,49.87969085029957,52.266711315839686,48.002733298544086,53.58028673715315,45.98174163946833,49.535472174546925,50.16997291743903,52.58131522276338,50.12290985219977,54.380877583221675,56.78150636175865,50.691118188587815,62.15856562877706,57.92150693470949,48.94875600746605,49.24315686322483,50.97822403016814,47.1382691506497,42.45157539431913,50.12944807767358,45.26515791251477,48.472333997725656,54.227846973106665,59.925570130082185,40.604417590055505,52.586814352380514,48.55167535350783,62.37966613462842,50.05313704940887,49.46875460341198],\"y0\":\" \",\"yaxis\":\"y\",\"type\":\"violin\"},{\"alignmentgroup\":\"True\",\"box\":{\"visible\":true},\"customdata\":[[\"HGSVCpool1xulOPxEchoPE20503\"],[\"HGSVCpool1xulOPxEchoPE20505\"],[\"HGSVCpool1xulOPxEchoPE20506\"],[\"HGSVCpool1xulOPxEchoPE20509\"],[\"HGSVCpool1xulOPxEchoPE20510\"],[\"HGSVCpool1xulOPxEchoPE20511\"],[\"HGSVCpool1xulOPxEchoPE20512\"],[\"HGSVCpool1xulOPxEchoPE20513\"],[\"HGSVCpool1xulOPxEchoPE20518\"],[\"HGSVCpool1xulOPxEchoPE20519\"],[\"HGSVCpool1xulOPxEchoPE20520\"],[\"HGSVCpool1xulOPxEchoPE20521\"],[\"HGSVCpool1xulOPxEchoPE20522\"],[\"HGSVCpool1xulOPxEchoPE20525\"],[\"HGSVCpool1xulOPxEchoPE20526\"],[\"HGSVCpool1xulOPxEchoPE20527\"],[\"HGSVCpool1xulOPxEchoPE20529\"],[\"HGSVCpool1xulOPxEchoPE20533\"],[\"HGSVCpool1xulOPxEchoPE20534\"],[\"HGSVCpool1xulOPxEchoPE20535\"],[\"HGSVCpool1xulOPxEchoPE20536\"],[\"HGSVCpool1xulOPxEchoPE20538\"],[\"HGSVCpool1xulOPxEchoPE20541\"],[\"HGSVCpool1xulOPxEchoPE20542\"],[\"HGSVCpool1xulOPxEchoPE20543\"],[\"HGSVCpool1xulOPxEchoPE20550\"],[\"HGSVCpool1xulOPxEchoPE20551\"],[\"HGSVCpool1xulOPxEchoPE20552\"],[\"HGSVCpool1xulOPxEchoPE20557\"],[\"HGSVCpool1xulOPxEchoPE20558\"],[\"HGSVCpool1xulOPxEchoPE20559\"],[\"HGSVCpool1xulOPxEchoPE20565\"],[\"HGSVCpool1xulOPxEchoPE20573\"],[\"HGSVCpool1xulOPxEchoPE20574\"],[\"HGSVCpool1xulOPxEchoPE20581\"],[\"HGSVCpool1xulOPxEchoPE20582\"],[\"HGSVCpool1xulOPxEchoPE20591\"]],\"hovertemplate\":\"sample=%{x}<br>%dupl=%{y}<br>cell=%{customdata[0]}<extra></extra>\",\"legendgroup\":\"HGSVCpool1xulOPxEcho\",\"marker\":{\"color\":\"#FF97FF\"},\"name\":\"HGSVCpool1xulOPxEcho\",\"offsetgroup\":\"HGSVCpool1xulOPxEcho\",\"orientation\":\"v\",\"points\":\"all\",\"scalegroup\":\"True\",\"showlegend\":true,\"x\":[\"HGSVCpool1xulOPxEcho\",\"HGSVCpool1xulOPxEcho\",\"HGSVCpool1xulOPxEcho\",\"HGSVCpool1xulOPxEcho\",\"HGSVCpool1xulOPxEcho\",\"HGSVCpool1xulOPxEcho\",\"HGSVCpool1xulOPxEcho\",\"HGSVCpool1xulOPxEcho\",\"HGSVCpool1xulOPxEcho\",\"HGSVCpool1xulOPxEcho\",\"HGSVCpool1xulOPxEcho\",\"HGSVCpool1xulOPxEcho\",\"HGSVCpool1xulOPxEcho\",\"HGSVCpool1xulOPxEcho\",\"HGSVCpool1xulOPxEcho\",\"HGSVCpool1xulOPxEcho\",\"HGSVCpool1xulOPxEcho\",\"HGSVCpool1xulOPxEcho\",\"HGSVCpool1xulOPxEcho\",\"HGSVCpool1xulOPxEcho\",\"HGSVCpool1xulOPxEcho\",\"HGSVCpool1xulOPxEcho\",\"HGSVCpool1xulOPxEcho\",\"HGSVCpool1xulOPxEcho\",\"HGSVCpool1xulOPxEcho\",\"HGSVCpool1xulOPxEcho\",\"HGSVCpool1xulOPxEcho\",\"HGSVCpool1xulOPxEcho\",\"HGSVCpool1xulOPxEcho\",\"HGSVCpool1xulOPxEcho\",\"HGSVCpool1xulOPxEcho\",\"HGSVCpool1xulOPxEcho\",\"HGSVCpool1xulOPxEcho\",\"HGSVCpool1xulOPxEcho\",\"HGSVCpool1xulOPxEcho\",\"HGSVCpool1xulOPxEcho\",\"HGSVCpool1xulOPxEcho\"],\"x0\":\" \",\"xaxis\":\"x\",\"y\":[85.48005547630262,85.06993217112495,76.66978272763639,85.8979116630041,85.4857864188875,85.84232727105224,81.64027019806892,76.8159100470999,82.76337867560619,82.20108313177093,80.05639747638739,61.81116494758005,32.875715128659024,86.47298443600921,83.73835633622856,87.558921162558,42.90596992252772,84.36608392223488,85.22126438758592,81.80960226799967,62.625172341146126,26.37973971722365,78.98059312819531,81.8355539922617,67.60391082370339,73.21901910184847,40.97590170571564,33.09123244137095,71.9938000488514,63.969430262389196,48.50233150628896,80.3739395892404,78.46102169997626,35.22333063718882,73.27721409370037,76.26453571773624,33.69256281800732],\"y0\":\" \",\"yaxis\":\"y\",\"type\":\"violin\"}],                        {\"template\":{\"data\":{\"histogram2dcontour\":[{\"type\":\"histogram2dcontour\",\"colorbar\":{\"outlinewidth\":0,\"ticks\":\"\"},\"colorscale\":[[0.0,\"#0d0887\"],[0.1111111111111111,\"#46039f\"],[0.2222222222222222,\"#7201a8\"],[0.3333333333333333,\"#9c179e\"],[0.4444444444444444,\"#bd3786\"],[0.5555555555555556,\"#d8576b\"],[0.6666666666666666,\"#ed7953\"],[0.7777777777777778,\"#fb9f3a\"],[0.8888888888888888,\"#fdca26\"],[1.0,\"#f0f921\"]]}],\"choropleth\":[{\"type\":\"choropleth\",\"colorbar\":{\"outlinewidth\":0,\"ticks\":\"\"}}],\"histogram2d\":[{\"type\":\"histogram2d\",\"colorbar\":{\"outlinewidth\":0,\"ticks\":\"\"},\"colorscale\":[[0.0,\"#0d0887\"],[0.1111111111111111,\"#46039f\"],[0.2222222222222222,\"#7201a8\"],[0.3333333333333333,\"#9c179e\"],[0.4444444444444444,\"#bd3786\"],[0.5555555555555556,\"#d8576b\"],[0.6666666666666666,\"#ed7953\"],[0.7777777777777778,\"#fb9f3a\"],[0.8888888888888888,\"#fdca26\"],[1.0,\"#f0f921\"]]}],\"heatmap\":[{\"type\":\"heatmap\",\"colorbar\":{\"outlinewidth\":0,\"ticks\":\"\"},\"colorscale\":[[0.0,\"#0d0887\"],[0.1111111111111111,\"#46039f\"],[0.2222222222222222,\"#7201a8\"],[0.3333333333333333,\"#9c179e\"],[0.4444444444444444,\"#bd3786\"],[0.5555555555555556,\"#d8576b\"],[0.6666666666666666,\"#ed7953\"],[0.7777777777777778,\"#fb9f3a\"],[0.8888888888888888,\"#fdca26\"],[1.0,\"#f0f921\"]]}],\"heatmapgl\":[{\"type\":\"heatmapgl\",\"colorbar\":{\"outlinewidth\":0,\"ticks\":\"\"},\"colorscale\":[[0.0,\"#0d0887\"],[0.1111111111111111,\"#46039f\"],[0.2222222222222222,\"#7201a8\"],[0.3333333333333333,\"#9c179e\"],[0.4444444444444444,\"#bd3786\"],[0.5555555555555556,\"#d8576b\"],[0.6666666666666666,\"#ed7953\"],[0.7777777777777778,\"#fb9f3a\"],[0.8888888888888888,\"#fdca26\"],[1.0,\"#f0f921\"]]}],\"contourcarpet\":[{\"type\":\"contourcarpet\",\"colorbar\":{\"outlinewidth\":0,\"ticks\":\"\"}}],\"contour\":[{\"type\":\"contour\",\"colorbar\":{\"outlinewidth\":0,\"ticks\":\"\"},\"colorscale\":[[0.0,\"#0d0887\"],[0.1111111111111111,\"#46039f\"],[0.2222222222222222,\"#7201a8\"],[0.3333333333333333,\"#9c179e\"],[0.4444444444444444,\"#bd3786\"],[0.5555555555555556,\"#d8576b\"],[0.6666666666666666,\"#ed7953\"],[0.7777777777777778,\"#fb9f3a\"],[0.8888888888888888,\"#fdca26\"],[1.0,\"#f0f921\"]]}],\"surface\":[{\"type\":\"surface\",\"colorbar\":{\"outlinewidth\":0,\"ticks\":\"\"},\"colorscale\":[[0.0,\"#0d0887\"],[0.1111111111111111,\"#46039f\"],[0.2222222222222222,\"#7201a8\"],[0.3333333333333333,\"#9c179e\"],[0.4444444444444444,\"#bd3786\"],[0.5555555555555556,\"#d8576b\"],[0.6666666666666666,\"#ed7953\"],[0.7777777777777778,\"#fb9f3a\"],[0.8888888888888888,\"#fdca26\"],[1.0,\"#f0f921\"]]}],\"mesh3d\":[{\"type\":\"mesh3d\",\"colorbar\":{\"outlinewidth\":0,\"ticks\":\"\"}}],\"scatter\":[{\"fillpattern\":{\"fillmode\":\"overlay\",\"size\":10,\"solidity\":0.2},\"type\":\"scatter\"}],\"parcoords\":[{\"type\":\"parcoords\",\"line\":{\"colorbar\":{\"outlinewidth\":0,\"ticks\":\"\"}}}],\"scatterpolargl\":[{\"type\":\"scatterpolargl\",\"marker\":{\"colorbar\":{\"outlinewidth\":0,\"ticks\":\"\"}}}],\"bar\":[{\"error_x\":{\"color\":\"#2a3f5f\"},\"error_y\":{\"color\":\"#2a3f5f\"},\"marker\":{\"line\":{\"color\":\"#E5ECF6\",\"width\":0.5},\"pattern\":{\"fillmode\":\"overlay\",\"size\":10,\"solidity\":0.2}},\"type\":\"bar\"}],\"scattergeo\":[{\"type\":\"scattergeo\",\"marker\":{\"colorbar\":{\"outlinewidth\":0,\"ticks\":\"\"}}}],\"scatterpolar\":[{\"type\":\"scatterpolar\",\"marker\":{\"colorbar\":{\"outlinewidth\":0,\"ticks\":\"\"}}}],\"histogram\":[{\"marker\":{\"pattern\":{\"fillmode\":\"overlay\",\"size\":10,\"solidity\":0.2}},\"type\":\"histogram\"}],\"scattergl\":[{\"type\":\"scattergl\",\"marker\":{\"colorbar\":{\"outlinewidth\":0,\"ticks\":\"\"}}}],\"scatter3d\":[{\"type\":\"scatter3d\",\"line\":{\"colorbar\":{\"outlinewidth\":0,\"ticks\":\"\"}},\"marker\":{\"colorbar\":{\"outlinewidth\":0,\"ticks\":\"\"}}}],\"scattermapbox\":[{\"type\":\"scattermapbox\",\"marker\":{\"colorbar\":{\"outlinewidth\":0,\"ticks\":\"\"}}}],\"scatterternary\":[{\"type\":\"scatterternary\",\"marker\":{\"colorbar\":{\"outlinewidth\":0,\"ticks\":\"\"}}}],\"scattercarpet\":[{\"type\":\"scattercarpet\",\"marker\":{\"colorbar\":{\"outlinewidth\":0,\"ticks\":\"\"}}}],\"carpet\":[{\"aaxis\":{\"endlinecolor\":\"#2a3f5f\",\"gridcolor\":\"white\",\"linecolor\":\"white\",\"minorgridcolor\":\"white\",\"startlinecolor\":\"#2a3f5f\"},\"baxis\":{\"endlinecolor\":\"#2a3f5f\",\"gridcolor\":\"white\",\"linecolor\":\"white\",\"minorgridcolor\":\"white\",\"startlinecolor\":\"#2a3f5f\"},\"type\":\"carpet\"}],\"table\":[{\"cells\":{\"fill\":{\"color\":\"#EBF0F8\"},\"line\":{\"color\":\"white\"}},\"header\":{\"fill\":{\"color\":\"#C8D4E3\"},\"line\":{\"color\":\"white\"}},\"type\":\"table\"}],\"barpolar\":[{\"marker\":{\"line\":{\"color\":\"#E5ECF6\",\"width\":0.5},\"pattern\":{\"fillmode\":\"overlay\",\"size\":10,\"solidity\":0.2}},\"type\":\"barpolar\"}],\"pie\":[{\"automargin\":true,\"type\":\"pie\"}]},\"layout\":{\"autotypenumbers\":\"strict\",\"colorway\":[\"#636efa\",\"#EF553B\",\"#00cc96\",\"#ab63fa\",\"#FFA15A\",\"#19d3f3\",\"#FF6692\",\"#B6E880\",\"#FF97FF\",\"#FECB52\"],\"font\":{\"color\":\"#2a3f5f\"},\"hovermode\":\"closest\",\"hoverlabel\":{\"align\":\"left\"},\"paper_bgcolor\":\"white\",\"plot_bgcolor\":\"#E5ECF6\",\"polar\":{\"bgcolor\":\"#E5ECF6\",\"angularaxis\":{\"gridcolor\":\"white\",\"linecolor\":\"white\",\"ticks\":\"\"},\"radialaxis\":{\"gridcolor\":\"white\",\"linecolor\":\"white\",\"ticks\":\"\"}},\"ternary\":{\"bgcolor\":\"#E5ECF6\",\"aaxis\":{\"gridcolor\":\"white\",\"linecolor\":\"white\",\"ticks\":\"\"},\"baxis\":{\"gridcolor\":\"white\",\"linecolor\":\"white\",\"ticks\":\"\"},\"caxis\":{\"gridcolor\":\"white\",\"linecolor\":\"white\",\"ticks\":\"\"}},\"coloraxis\":{\"colorbar\":{\"outlinewidth\":0,\"ticks\":\"\"}},\"colorscale\":{\"sequential\":[[0.0,\"#0d0887\"],[0.1111111111111111,\"#46039f\"],[0.2222222222222222,\"#7201a8\"],[0.3333333333333333,\"#9c179e\"],[0.4444444444444444,\"#bd3786\"],[0.5555555555555556,\"#d8576b\"],[0.6666666666666666,\"#ed7953\"],[0.7777777777777778,\"#fb9f3a\"],[0.8888888888888888,\"#fdca26\"],[1.0,\"#f0f921\"]],\"sequentialminus\":[[0.0,\"#0d0887\"],[0.1111111111111111,\"#46039f\"],[0.2222222222222222,\"#7201a8\"],[0.3333333333333333,\"#9c179e\"],[0.4444444444444444,\"#bd3786\"],[0.5555555555555556,\"#d8576b\"],[0.6666666666666666,\"#ed7953\"],[0.7777777777777778,\"#fb9f3a\"],[0.8888888888888888,\"#fdca26\"],[1.0,\"#f0f921\"]],\"diverging\":[[0,\"#8e0152\"],[0.1,\"#c51b7d\"],[0.2,\"#de77ae\"],[0.3,\"#f1b6da\"],[0.4,\"#fde0ef\"],[0.5,\"#f7f7f7\"],[0.6,\"#e6f5d0\"],[0.7,\"#b8e186\"],[0.8,\"#7fbc41\"],[0.9,\"#4d9221\"],[1,\"#276419\"]]},\"xaxis\":{\"gridcolor\":\"white\",\"linecolor\":\"white\",\"ticks\":\"\",\"title\":{\"standoff\":15},\"zerolinecolor\":\"white\",\"automargin\":true,\"zerolinewidth\":2},\"yaxis\":{\"gridcolor\":\"white\",\"linecolor\":\"white\",\"ticks\":\"\",\"title\":{\"standoff\":15},\"zerolinecolor\":\"white\",\"automargin\":true,\"zerolinewidth\":2},\"scene\":{\"xaxis\":{\"backgroundcolor\":\"#E5ECF6\",\"gridcolor\":\"white\",\"linecolor\":\"white\",\"showbackground\":true,\"ticks\":\"\",\"zerolinecolor\":\"white\",\"gridwidth\":2},\"yaxis\":{\"backgroundcolor\":\"#E5ECF6\",\"gridcolor\":\"white\",\"linecolor\":\"white\",\"showbackground\":true,\"ticks\":\"\",\"zerolinecolor\":\"white\",\"gridwidth\":2},\"zaxis\":{\"backgroundcolor\":\"#E5ECF6\",\"gridcolor\":\"white\",\"linecolor\":\"white\",\"showbackground\":true,\"ticks\":\"\",\"zerolinecolor\":\"white\",\"gridwidth\":2}},\"shapedefaults\":{\"line\":{\"color\":\"#2a3f5f\"}},\"annotationdefaults\":{\"arrowcolor\":\"#2a3f5f\",\"arrowhead\":0,\"arrowwidth\":1},\"geo\":{\"bgcolor\":\"white\",\"landcolor\":\"#E5ECF6\",\"subunitcolor\":\"white\",\"showland\":true,\"showlakes\":true,\"lakecolor\":\"white\"},\"title\":{\"x\":0.05},\"mapbox\":{\"style\":\"light\"}}},\"xaxis\":{\"anchor\":\"y\",\"domain\":[0.0,1.0],\"title\":{\"text\":\"sample\"},\"categoryorder\":\"array\",\"categoryarray\":[\"RPE1-WT\",\"RPE-BM510\",\"LCL\",\"C7\",\"RPE1BCL11A\",\"PC7PC37PC39PC42\",\"HGSVCpool1xulOPxmanual\",\"KM1096\",\"HGSVCpool1xulOPxEcho\"]},\"yaxis\":{\"anchor\":\"x\",\"domain\":[0.0,1.0],\"title\":{\"text\":\"%dupl\"}},\"legend\":{\"title\":{\"text\":\"sample\"},\"tracegroupgap\":0},\"margin\":{\"t\":60},\"violinmode\":\"overlay\"},                        {\"responsive\": true}                    ).then(function(){\n",
       "                            \n",
       "var gd = document.getElementById('ed231c05-3851-4cc6-a48f-edbbe79fd4e6');\n",
       "var x = new MutationObserver(function (mutations, observer) {{\n",
       "        var display = window.getComputedStyle(gd).display;\n",
       "        if (!display || display === 'none') {{\n",
       "            console.log([gd, 'removed!']);\n",
       "            Plotly.purge(gd);\n",
       "            observer.disconnect();\n",
       "        }}\n",
       "}});\n",
       "\n",
       "// Listen for the removal of the full notebook cells\n",
       "var notebookContainer = gd.closest('#notebook-container');\n",
       "if (notebookContainer) {{\n",
       "    x.observe(notebookContainer, {childList: true});\n",
       "}}\n",
       "\n",
       "// Listen for the clearing of the current output cell\n",
       "var outputEl = gd.closest('.output');\n",
       "if (outputEl) {{\n",
       "    x.observe(outputEl, {childList: true});\n",
       "}}\n",
       "\n",
       "                        })                };                });            </script>        </div>"
      ]
     },
     "metadata": {},
     "output_type": "display_data"
    }
   ],
   "source": [
    "px.violin(final_df.loc[final_df[\"prediction\"] == 1], x=\"sample\", y=\"%dupl\",points=\"all\", color=\"sample\", hover_data=[\"cell\"], box=True,)"
   ]
  },
  {
   "cell_type": "code",
   "execution_count": null,
   "metadata": {},
   "outputs": [
    {
     "data": {
      "text/html": [
       "<div>\n",
       "<style scoped>\n",
       "    .dataframe tbody tr th:only-of-type {\n",
       "        vertical-align: middle;\n",
       "    }\n",
       "\n",
       "    .dataframe tbody tr th {\n",
       "        vertical-align: top;\n",
       "    }\n",
       "\n",
       "    .dataframe thead th {\n",
       "        text-align: right;\n",
       "    }\n",
       "</style>\n",
       "<table border=\"1\" class=\"dataframe\">\n",
       "  <thead>\n",
       "    <tr style=\"text-align: right;\">\n",
       "      <th></th>\n",
       "      <th>Fruit</th>\n",
       "      <th>Amount</th>\n",
       "      <th>City</th>\n",
       "    </tr>\n",
       "  </thead>\n",
       "  <tbody>\n",
       "    <tr>\n",
       "      <th>0</th>\n",
       "      <td>Apples</td>\n",
       "      <td>4</td>\n",
       "      <td>SF</td>\n",
       "    </tr>\n",
       "    <tr>\n",
       "      <th>1</th>\n",
       "      <td>Oranges</td>\n",
       "      <td>1</td>\n",
       "      <td>SF</td>\n",
       "    </tr>\n",
       "    <tr>\n",
       "      <th>2</th>\n",
       "      <td>Bananas</td>\n",
       "      <td>2</td>\n",
       "      <td>SF</td>\n",
       "    </tr>\n",
       "    <tr>\n",
       "      <th>3</th>\n",
       "      <td>Apples</td>\n",
       "      <td>2</td>\n",
       "      <td>Montreal</td>\n",
       "    </tr>\n",
       "    <tr>\n",
       "      <th>4</th>\n",
       "      <td>Oranges</td>\n",
       "      <td>4</td>\n",
       "      <td>Montreal</td>\n",
       "    </tr>\n",
       "    <tr>\n",
       "      <th>5</th>\n",
       "      <td>Bananas</td>\n",
       "      <td>5</td>\n",
       "      <td>Montreal</td>\n",
       "    </tr>\n",
       "  </tbody>\n",
       "</table>\n",
       "</div>"
      ],
      "text/plain": [
       "     Fruit  Amount      City\n",
       "0   Apples       4        SF\n",
       "1  Oranges       1        SF\n",
       "2  Bananas       2        SF\n",
       "3   Apples       2  Montreal\n",
       "4  Oranges       4  Montreal\n",
       "5  Bananas       5  Montreal"
      ]
     },
     "execution_count": 12,
     "metadata": {},
     "output_type": "execute_result"
    }
   ],
   "source": [
    "df = pd.DataFrame({\n",
    "    \"Fruit\": [\"Apples\", \"Oranges\", \"Bananas\", \"Apples\", \"Oranges\", \"Bananas\"],\n",
    "    \"Amount\": [4, 1, 2, 2, 4, 5],\n",
    "    \"City\": [\"SF\", \"SF\", \"SF\", \"Montreal\", \"Montreal\", \"Montreal\"]\n",
    "})\n",
    "df"
   ]
  },
  {
   "cell_type": "code",
   "execution_count": null,
   "metadata": {},
   "outputs": [
    {
     "ename": "ModuleNotFoundError",
     "evalue": "No module named 'dash'",
     "output_type": "error",
     "traceback": [
      "\u001b[0;31m---------------------------------------------------------------------------\u001b[0m",
      "\u001b[0;31mModuleNotFoundError\u001b[0m                       Traceback (most recent call last)",
      "\u001b[1;32m/g/korbel2/weber/workspace/ashleys-qc-pipeline/afac/web_server_dev.ipynb Cell 9\u001b[0m in \u001b[0;36m<cell line: 3>\u001b[0;34m()\u001b[0m\n\u001b[1;32m      <a href='vscode-notebook-cell://localhost:60001/g/korbel2/weber/workspace/ashleys-qc-pipeline/afac/web_server_dev.ipynb#X11sdnNjb2RlLXJlbW90ZQ%3D%3D?line=0'>1</a>\u001b[0m \u001b[39mimport\u001b[39;00m \u001b[39mpandas\u001b[39;00m \u001b[39mas\u001b[39;00m \u001b[39mpd\u001b[39;00m\n\u001b[1;32m      <a href='vscode-notebook-cell://localhost:60001/g/korbel2/weber/workspace/ashleys-qc-pipeline/afac/web_server_dev.ipynb#X11sdnNjb2RlLXJlbW90ZQ%3D%3D?line=1'>2</a>\u001b[0m \u001b[39mimport\u001b[39;00m \u001b[39mos\u001b[39;00m\u001b[39m,\u001b[39m \u001b[39msys\u001b[39;00m\n\u001b[0;32m----> <a href='vscode-notebook-cell://localhost:60001/g/korbel2/weber/workspace/ashleys-qc-pipeline/afac/web_server_dev.ipynb#X11sdnNjb2RlLXJlbW90ZQ%3D%3D?line=2'>3</a>\u001b[0m \u001b[39mfrom\u001b[39;00m \u001b[39mdash\u001b[39;00m \u001b[39mimport\u001b[39;00m Dash, html, dcc, Input, Output\n\u001b[1;32m      <a href='vscode-notebook-cell://localhost:60001/g/korbel2/weber/workspace/ashleys-qc-pipeline/afac/web_server_dev.ipynb#X11sdnNjb2RlLXJlbW90ZQ%3D%3D?line=3'>4</a>\u001b[0m \u001b[39mimport\u001b[39;00m \u001b[39mplotly\u001b[39;00m\u001b[39m.\u001b[39;00m\u001b[39mexpress\u001b[39;00m \u001b[39mas\u001b[39;00m \u001b[39mpx\u001b[39;00m\n\u001b[1;32m      <a href='vscode-notebook-cell://localhost:60001/g/korbel2/weber/workspace/ashleys-qc-pipeline/afac/web_server_dev.ipynb#X11sdnNjb2RlLXJlbW90ZQ%3D%3D?line=6'>7</a>\u001b[0m app \u001b[39m=\u001b[39m Dash(\u001b[39m__name__\u001b[39m)\n",
      "\u001b[0;31mModuleNotFoundError\u001b[0m: No module named 'dash'"
     ]
    }
   ],
   "source": [
    "\n",
    "import pandas as pd\n",
    "import os, sys\n",
    "from dash import Dash, html, dcc, Input, Output\n",
    "import plotly.express as px\n",
    "\n",
    "\n",
    "app = Dash(__name__)\n",
    "\n",
    "\n",
    "\n",
    "\n",
    "\n",
    "# Multiple components can update everytime interval gets fired.\n",
    "# @app.callback(Output('example-graph', 'figure'),\n",
    "#               Input('interval-component', 'n_intervals')\n",
    "#               )\n",
    "def update_graph_live():\n",
    "    # Create the graph\n",
    "    \n",
    "    parent_directory = \"/scratch/tweber/DATA/WEB_SERVER_PIPELINE/\"\n",
    "    os.listdir(parent_directory)\n",
    "\n",
    "    l = list()\n",
    "    for run in os.listdir(parent_directory):\n",
    "        for sample in os.listdir(parent_directory + run):\n",
    "            if sample not in [\"config\", \"log\"]: \n",
    "                if os.path.isfile(parent_directory + run + \"/\" + sample + \"/cell_selection/labels.tsv\"):\n",
    "                    print(parent_directory, run, sample)\n",
    "                    tmp_df = pd.read_csv(parent_directory + run + \"/\" + sample + \"/cell_selection/labels.tsv\", sep=\"\\t\")\n",
    "                    tmp_df[\"Sample\"] = sample\n",
    "                    l.append(tmp_df)\n",
    "    labels_df = pd.concat(l)\n",
    "    labels_df[\"cell\"] = labels_df[\"cell\"].str.replace(\".sort.mdup.bam\", \"\")\n",
    "\n",
    "    barplot_df = labels_df.groupby(\"Sample\")[\"prediction\"].value_counts().rename(\"count\").reset_index()\n",
    "    barplot_df[\"prediction\"] = barplot_df[\"prediction\"].replace({0 : \"FALSE\", 1: \"TRUE\"})\n",
    "    # barplot_df\n",
    "\n",
    "\n",
    "\n",
    "\n",
    "    fig = px.bar(barplot_df, x=\"Sample\", y=\"count\", color=\"prediction\", barmode=\"stack\")\n",
    "\n",
    "\n",
    "    return html.Div(children=[\n",
    "        html.H1(children='Hello Dash'),\n",
    "\n",
    "        html.Div(children='''\n",
    "            Dash: A web application framework for your data.\n",
    "        '''),\n",
    "\n",
    "        dcc.Graph(\n",
    "            id='example-graph', figure=fig)\n",
    "    ])\n",
    "\n",
    "app.layout = update_graph_live\n",
    "\n",
    "\n",
    "\n",
    "if __name__ == '__main__':\n",
    "    app.run_server(debug=True, port=5500)"
   ]
  },
  {
   "cell_type": "code",
   "execution_count": null,
   "metadata": {},
   "outputs": [],
   "source": []
  }
 ],
 "metadata": {
  "kernelspec": {
   "display_name": "notebook",
   "language": "python",
   "name": "python3"
  },
  "language_info": {
   "codemirror_mode": {
    "name": "ipython",
    "version": 3
   },
   "file_extension": ".py",
   "mimetype": "text/x-python",
   "name": "python",
   "nbconvert_exporter": "python",
   "pygments_lexer": "ipython3",
   "version": "3.10.8"
  },
  "orig_nbformat": 4,
  "vscode": {
   "interpreter": {
    "hash": "78fa508ab2e192b4a254b28a725d833b831d8c59fad754b36ca08ed215ba52bc"
   }
  }
 },
 "nbformat": 4,
 "nbformat_minor": 2
}
