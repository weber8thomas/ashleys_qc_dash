{
 "cells": [
  {
   "cell_type": "code",
   "execution_count": null,
   "metadata": {},
   "outputs": [],
   "source": [
    "{\n",
    "  \"type\": \"FeatureTrack\",\n",
    "  \"trackId\": \"test_sv.bed-1675810143347-sessionTrack\",\n",
    "  \"name\": \"test_sv.bed\",\n",
    "  \"assemblyNames\": [\n",
    "    \"hg38\"\n",
    "  ],\n",
    "  \"adapter\": {\n",
    "    \"type\": \"BedAdapter\",\n",
    "    \"bedLocation\": {\n",
    "      \"locationType\": \"BlobLocation\",\n",
    "      \"name\": \"test_sv.bed\",\n",
    "      \"blobId\": \"b1675810140830-0\"\n",
    "    }\n",
    "  },\n",
    "  \"displays\": [\n",
    "    {\n",
    "      \"type\": \"LinearBasicDisplay\",\n",
    "      \"displayId\": \"test_sv.bed-1675810143347-sessionTrack-LinearBasicDisplay\"\n",
    "    },\n",
    "    {\n",
    "      \"type\": \"LinearArcDisplay\",\n",
    "      \"displayId\": \"test_sv.bed-1675810143347-sessionTrack-LinearArcDisplay\"\n",
    "    }\n",
    "  ]\n",
    "}"
   ]
  }
 ],
 "metadata": {
  "kernelspec": {
   "display_name": "dash",
   "language": "python",
   "name": "python3"
  },
  "language_info": {
   "name": "python",
   "version": "3.11.0 | packaged by conda-forge | (main, Oct 25 2022, 06:24:40) [GCC 10.4.0]"
  },
  "orig_nbformat": 4,
  "vscode": {
   "interpreter": {
    "hash": "7fc2267b9a21133c930f786a0b3214092254f850845fde6d23e8ae49f4d6e473"
   }
  }
 },
 "nbformat": 4,
 "nbformat_minor": 2
}
